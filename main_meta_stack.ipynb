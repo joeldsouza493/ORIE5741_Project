{
 "cells": [
  {
   "cell_type": "code",
   "execution_count": 1,
   "metadata": {},
   "outputs": [],
   "source": [
    "import pandas as pd\n",
    "import numpy as np\n",
    "import os\n",
    "import glob\n",
    "import matplotlib.pyplot as plt\n",
    "\n",
    "from sklearn.model_selection import train_test_split\n",
    "from sklearn import preprocessing\n",
    "from sklearn.metrics import mean_squared_error\n",
    "from sklearn.preprocessing import StandardScaler\n",
    "\n",
    "from statsmodels.graphics.tsaplots import plot_acf\n",
    "\n",
    "from sklearn.linear_model import LinearRegression\n",
    "import statsmodels.api as sm\n",
    "\n",
    "import pandas_market_calendars as mcal"
   ]
  },
  {
   "cell_type": "code",
   "execution_count": 2,
   "metadata": {},
   "outputs": [],
   "source": [
    "def nyse_holidays():\n",
    "    nyse = mcal.get_calendar('NYSE')\n",
    "    holidays = nyse.holidays()\n",
    "    nyse_holidays = holidays.holidays\n",
    "    \n",
    "    return nyse_holidays\n",
    "\n",
    "# shift dates if they fall on a weekend/trading holiday\n",
    "def get_prev_business_date(date, holidays):\n",
    "    if date.isoweekday() in set((6, 7)):\n",
    "        #if date falls on a weekend, move the date back\n",
    "        date -= pd.offsets.BDay(n = date.isoweekday() % 5)\n",
    "    elif date in holidays:\n",
    "        #if date is a NYSE trading holiday, move the date back\n",
    "        date -= pd.offsets.BDay(n=1)  # get prev day\n",
    "        # now if the new date is on a weekend, move it back \n",
    "        if date.isoweekday() in set((6, 7)):\n",
    "            date -= pd.offsets.BDay(n = date.isoweekday() % 5)\n",
    "\n",
    "    return date"
   ]
  },
  {
   "cell_type": "code",
   "execution_count": 3,
   "metadata": {},
   "outputs": [],
   "source": [
    "#Load Price Data\n",
    "wd = os.getcwd()\n",
    "\n",
    "df = pd.read_excel(wd+'/Data/'+'WTI.xlsx')\n",
    "df['Date'] = pd.to_datetime(df['Date'])\n",
    "df['Date'] = df['Date'].dt.strftime('%m-%d-%Y')\n",
    "df.set_index('Date', inplace=True)"
   ]
  },
  {
   "cell_type": "code",
   "execution_count": 4,
   "metadata": {},
   "outputs": [],
   "source": [
    "#Load Features\n",
    "\n",
    "xlsx_files = glob.glob(os.path.join(wd, 'Data', \"*.xlsx\"))\n",
    "holidays = nyse_holidays()\n",
    "daily_data = ['DowJones', 'SPX', 'USDEUR', 'DAX', 'NG1', 'Nikkei', 'HangSeng', 'GT10']\n",
    "\n",
    "for file in xlsx_files:\n",
    "    data_name = file.split(\"\\\\\")[-1].split('.')[0]\n",
    "    data_name = data_name.replace(\" \", \"_\")\n",
    "    \n",
    "    if data_name == 'WTI':\n",
    "        continue\n",
    "        \n",
    "    df_temp = pd.read_excel(file)\n",
    "    df_temp['Date'] = pd.to_datetime(df_temp['Date'])\n",
    "    #print(data_name)\n",
    "    if data_name in daily_data:\n",
    "        df_temp['Date'] = df_temp['Date'].dt.strftime('%m-%d-%Y')\n",
    "        df_temp.set_index('Date', inplace=True)\n",
    "    else:\n",
    "        df_temp['Artificial Date'] = df_temp['Date'].apply(lambda x: get_prev_business_date(x, holidays))\n",
    "        df_temp['Artificial Date'] = df_temp['Artificial Date'].dt.strftime('%m-%d-%Y')\n",
    "        df_temp = df_temp.drop(columns=['Date'])\n",
    "        df_temp.set_index('Artificial Date', inplace=True)\n",
    "    \n",
    "    try:\n",
    "        df[df_temp.columns[0] + '_' + data_name] = df_temp[df_temp.columns[0]]\n",
    "    except ValueError:\n",
    "        print(data_name, \"Error\")\n",
    "\n",
    "#backfill data for other frequencies\n",
    "df.fillna(method='bfill', inplace=True)\n",
    "idx = list(df.index).index('12-31-2020')\n",
    "df = df.iloc[idx:,:]"
   ]
  },
  {
   "cell_type": "code",
   "execution_count": 5,
   "metadata": {},
   "outputs": [
    {
     "name": "stderr",
     "output_type": "stream",
     "text": [
      "c:\\users\\joel\\appdata\\local\\programs\\python\\python37\\lib\\site-packages\\pandas\\core\\arraylike.py:364: RuntimeWarning: invalid value encountered in sign\n",
      "  result = getattr(ufunc, method)(*inputs, **kwargs)\n"
     ]
    }
   ],
   "source": [
    "#Add Sign and returns Data point\n",
    "df['PX_Sign'] = np.sign(df['PX_LAST'] - df['PX_LAST'].shift(-1))\n",
    "df.loc[df.PX_Sign == 0, 'PX_Sign'] = int(1)\n",
    "df['Returns'] = df['PX_LAST']/df['PX_LAST'].shift(-1) - 1"
   ]
  },
  {
   "cell_type": "code",
   "execution_count": 6,
   "metadata": {},
   "outputs": [
    {
     "data": {
      "text/html": [
       "<div>\n",
       "<style scoped>\n",
       "    .dataframe tbody tr th:only-of-type {\n",
       "        vertical-align: middle;\n",
       "    }\n",
       "\n",
       "    .dataframe tbody tr th {\n",
       "        vertical-align: top;\n",
       "    }\n",
       "\n",
       "    .dataframe thead th {\n",
       "        text-align: right;\n",
       "    }\n",
       "</style>\n",
       "<table border=\"1\" class=\"dataframe\">\n",
       "  <thead>\n",
       "    <tr style=\"text-align: right;\">\n",
       "      <th></th>\n",
       "      <th>PX_LAST</th>\n",
       "      <th>PX_VOLUME</th>\n",
       "      <th>PX_LAST_Canada_daily_prod</th>\n",
       "      <th>PX_LAST_Cass_Freight_Rates</th>\n",
       "      <th>PX_LAST_China_GDP</th>\n",
       "      <th>PX_LAST_DAX</th>\n",
       "      <th>PX_LAST_DowJones</th>\n",
       "      <th>PX_LAST_Europe_Inflation</th>\n",
       "      <th>PX_LAST_Europe_IndProd_exConstruction</th>\n",
       "      <th>PX_LAST_Germany_GDP</th>\n",
       "      <th>...</th>\n",
       "      <th>PX_LAST_Russia_Industrial_Production</th>\n",
       "      <th>PX_LAST_Russia_daily_prod</th>\n",
       "      <th>PX_LAST_SPX</th>\n",
       "      <th>PX_LAST_US_GDP</th>\n",
       "      <th>PX_LAST_US_Inflation</th>\n",
       "      <th>PX_LAST_USDEUR</th>\n",
       "      <th>PX_LAST_US_daily_prod</th>\n",
       "      <th>PX_LAST_US_IndProd_Index</th>\n",
       "      <th>PX_Sign</th>\n",
       "      <th>Returns</th>\n",
       "    </tr>\n",
       "    <tr>\n",
       "      <th>Date</th>\n",
       "      <th></th>\n",
       "      <th></th>\n",
       "      <th></th>\n",
       "      <th></th>\n",
       "      <th></th>\n",
       "      <th></th>\n",
       "      <th></th>\n",
       "      <th></th>\n",
       "      <th></th>\n",
       "      <th></th>\n",
       "      <th></th>\n",
       "      <th></th>\n",
       "      <th></th>\n",
       "      <th></th>\n",
       "      <th></th>\n",
       "      <th></th>\n",
       "      <th></th>\n",
       "      <th></th>\n",
       "      <th></th>\n",
       "      <th></th>\n",
       "      <th></th>\n",
       "    </tr>\n",
       "  </thead>\n",
       "  <tbody>\n",
       "    <tr>\n",
       "      <th>12-31-2020</th>\n",
       "      <td>48.52</td>\n",
       "      <td>181894.0</td>\n",
       "      <td>4643.0</td>\n",
       "      <td>1.122</td>\n",
       "      <td>6.5</td>\n",
       "      <td>13718.78</td>\n",
       "      <td>30606.48</td>\n",
       "      <td>-0.3</td>\n",
       "      <td>101.8</td>\n",
       "      <td>-3.3</td>\n",
       "      <td>...</td>\n",
       "      <td>3.8</td>\n",
       "      <td>9654.725</td>\n",
       "      <td>3756.07</td>\n",
       "      <td>-1.0</td>\n",
       "      <td>1.4</td>\n",
       "      <td>0.8186</td>\n",
       "      <td>11063.097</td>\n",
       "      <td>98.2854</td>\n",
       "      <td>1.0</td>\n",
       "      <td>0.002479</td>\n",
       "    </tr>\n",
       "    <tr>\n",
       "      <th>12-30-2020</th>\n",
       "      <td>48.40</td>\n",
       "      <td>266957.0</td>\n",
       "      <td>4490.0</td>\n",
       "      <td>1.154</td>\n",
       "      <td>4.9</td>\n",
       "      <td>13718.78</td>\n",
       "      <td>30409.56</td>\n",
       "      <td>-0.3</td>\n",
       "      <td>101.8</td>\n",
       "      <td>-3.8</td>\n",
       "      <td>...</td>\n",
       "      <td>-1.0</td>\n",
       "      <td>9621.970</td>\n",
       "      <td>3732.04</td>\n",
       "      <td>-1.7</td>\n",
       "      <td>1.2</td>\n",
       "      <td>0.8130</td>\n",
       "      <td>11121.033</td>\n",
       "      <td>97.1609</td>\n",
       "      <td>1.0</td>\n",
       "      <td>0.008333</td>\n",
       "    </tr>\n",
       "    <tr>\n",
       "      <th>12-29-2020</th>\n",
       "      <td>48.00</td>\n",
       "      <td>213778.0</td>\n",
       "      <td>4490.0</td>\n",
       "      <td>1.154</td>\n",
       "      <td>4.9</td>\n",
       "      <td>13761.38</td>\n",
       "      <td>30335.67</td>\n",
       "      <td>-0.3</td>\n",
       "      <td>101.8</td>\n",
       "      <td>-3.8</td>\n",
       "      <td>...</td>\n",
       "      <td>-1.0</td>\n",
       "      <td>9621.970</td>\n",
       "      <td>3727.04</td>\n",
       "      <td>-1.7</td>\n",
       "      <td>1.2</td>\n",
       "      <td>0.8163</td>\n",
       "      <td>11121.033</td>\n",
       "      <td>97.1609</td>\n",
       "      <td>1.0</td>\n",
       "      <td>0.007980</td>\n",
       "    </tr>\n",
       "    <tr>\n",
       "      <th>12-28-2020</th>\n",
       "      <td>47.62</td>\n",
       "      <td>238462.0</td>\n",
       "      <td>4490.0</td>\n",
       "      <td>1.154</td>\n",
       "      <td>4.9</td>\n",
       "      <td>13790.29</td>\n",
       "      <td>30403.97</td>\n",
       "      <td>-0.3</td>\n",
       "      <td>101.8</td>\n",
       "      <td>-3.8</td>\n",
       "      <td>...</td>\n",
       "      <td>-1.0</td>\n",
       "      <td>9621.970</td>\n",
       "      <td>3735.36</td>\n",
       "      <td>-1.7</td>\n",
       "      <td>1.2</td>\n",
       "      <td>0.8187</td>\n",
       "      <td>11121.033</td>\n",
       "      <td>97.1609</td>\n",
       "      <td>-1.0</td>\n",
       "      <td>-0.012648</td>\n",
       "    </tr>\n",
       "    <tr>\n",
       "      <th>12-24-2020</th>\n",
       "      <td>48.23</td>\n",
       "      <td>167390.0</td>\n",
       "      <td>4490.0</td>\n",
       "      <td>1.154</td>\n",
       "      <td>4.9</td>\n",
       "      <td>13587.23</td>\n",
       "      <td>30199.87</td>\n",
       "      <td>-0.3</td>\n",
       "      <td>101.8</td>\n",
       "      <td>-3.8</td>\n",
       "      <td>...</td>\n",
       "      <td>-1.0</td>\n",
       "      <td>9621.970</td>\n",
       "      <td>3703.06</td>\n",
       "      <td>-1.7</td>\n",
       "      <td>1.2</td>\n",
       "      <td>0.8206</td>\n",
       "      <td>11121.033</td>\n",
       "      <td>97.1609</td>\n",
       "      <td>1.0</td>\n",
       "      <td>0.002286</td>\n",
       "    </tr>\n",
       "    <tr>\n",
       "      <th>...</th>\n",
       "      <td>...</td>\n",
       "      <td>...</td>\n",
       "      <td>...</td>\n",
       "      <td>...</td>\n",
       "      <td>...</td>\n",
       "      <td>...</td>\n",
       "      <td>...</td>\n",
       "      <td>...</td>\n",
       "      <td>...</td>\n",
       "      <td>...</td>\n",
       "      <td>...</td>\n",
       "      <td>...</td>\n",
       "      <td>...</td>\n",
       "      <td>...</td>\n",
       "      <td>...</td>\n",
       "      <td>...</td>\n",
       "      <td>...</td>\n",
       "      <td>...</td>\n",
       "      <td>...</td>\n",
       "      <td>...</td>\n",
       "      <td>...</td>\n",
       "    </tr>\n",
       "    <tr>\n",
       "      <th>08-01-1990</th>\n",
       "      <td>21.62</td>\n",
       "      <td>38007.0</td>\n",
       "      <td>NaN</td>\n",
       "      <td>NaN</td>\n",
       "      <td>NaN</td>\n",
       "      <td>1892.89</td>\n",
       "      <td>2899.26</td>\n",
       "      <td>NaN</td>\n",
       "      <td>NaN</td>\n",
       "      <td>NaN</td>\n",
       "      <td>...</td>\n",
       "      <td>NaN</td>\n",
       "      <td>NaN</td>\n",
       "      <td>355.52</td>\n",
       "      <td>NaN</td>\n",
       "      <td>NaN</td>\n",
       "      <td>0.7566</td>\n",
       "      <td>NaN</td>\n",
       "      <td>NaN</td>\n",
       "      <td>-1.0</td>\n",
       "      <td>-0.063258</td>\n",
       "    </tr>\n",
       "    <tr>\n",
       "      <th>05-01-1990</th>\n",
       "      <td>23.08</td>\n",
       "      <td>50.0</td>\n",
       "      <td>NaN</td>\n",
       "      <td>NaN</td>\n",
       "      <td>NaN</td>\n",
       "      <td>1787.87</td>\n",
       "      <td>2668.92</td>\n",
       "      <td>NaN</td>\n",
       "      <td>NaN</td>\n",
       "      <td>NaN</td>\n",
       "      <td>...</td>\n",
       "      <td>NaN</td>\n",
       "      <td>NaN</td>\n",
       "      <td>332.25</td>\n",
       "      <td>NaN</td>\n",
       "      <td>NaN</td>\n",
       "      <td>0.8003</td>\n",
       "      <td>NaN</td>\n",
       "      <td>NaN</td>\n",
       "      <td>-1.0</td>\n",
       "      <td>-0.014097</td>\n",
       "    </tr>\n",
       "    <tr>\n",
       "      <th>04-01-1990</th>\n",
       "      <td>23.41</td>\n",
       "      <td>2500.0</td>\n",
       "      <td>NaN</td>\n",
       "      <td>NaN</td>\n",
       "      <td>NaN</td>\n",
       "      <td>1787.87</td>\n",
       "      <td>2635.59</td>\n",
       "      <td>NaN</td>\n",
       "      <td>NaN</td>\n",
       "      <td>NaN</td>\n",
       "      <td>...</td>\n",
       "      <td>NaN</td>\n",
       "      <td>NaN</td>\n",
       "      <td>332.74</td>\n",
       "      <td>NaN</td>\n",
       "      <td>NaN</td>\n",
       "      <td>0.8175</td>\n",
       "      <td>NaN</td>\n",
       "      <td>NaN</td>\n",
       "      <td>-1.0</td>\n",
       "      <td>-0.011402</td>\n",
       "    </tr>\n",
       "    <tr>\n",
       "      <th>03-01-1990</th>\n",
       "      <td>23.68</td>\n",
       "      <td>1566.0</td>\n",
       "      <td>NaN</td>\n",
       "      <td>NaN</td>\n",
       "      <td>NaN</td>\n",
       "      <td>1787.87</td>\n",
       "      <td>2635.59</td>\n",
       "      <td>NaN</td>\n",
       "      <td>NaN</td>\n",
       "      <td>NaN</td>\n",
       "      <td>...</td>\n",
       "      <td>NaN</td>\n",
       "      <td>NaN</td>\n",
       "      <td>332.74</td>\n",
       "      <td>NaN</td>\n",
       "      <td>NaN</td>\n",
       "      <td>0.8175</td>\n",
       "      <td>NaN</td>\n",
       "      <td>NaN</td>\n",
       "      <td>1.0</td>\n",
       "      <td>0.034513</td>\n",
       "    </tr>\n",
       "    <tr>\n",
       "      <th>02-01-1990</th>\n",
       "      <td>22.89</td>\n",
       "      <td>719.0</td>\n",
       "      <td>NaN</td>\n",
       "      <td>NaN</td>\n",
       "      <td>NaN</td>\n",
       "      <td>1858.08</td>\n",
       "      <td>2586.26</td>\n",
       "      <td>NaN</td>\n",
       "      <td>NaN</td>\n",
       "      <td>NaN</td>\n",
       "      <td>...</td>\n",
       "      <td>NaN</td>\n",
       "      <td>NaN</td>\n",
       "      <td>328.79</td>\n",
       "      <td>NaN</td>\n",
       "      <td>NaN</td>\n",
       "      <td>0.8068</td>\n",
       "      <td>NaN</td>\n",
       "      <td>NaN</td>\n",
       "      <td>NaN</td>\n",
       "      <td>NaN</td>\n",
       "    </tr>\n",
       "  </tbody>\n",
       "</table>\n",
       "<p>7796 rows × 27 columns</p>\n",
       "</div>"
      ],
      "text/plain": [
       "            PX_LAST  PX_VOLUME  PX_LAST_Canada_daily_prod  \\\n",
       "Date                                                        \n",
       "12-31-2020    48.52   181894.0                     4643.0   \n",
       "12-30-2020    48.40   266957.0                     4490.0   \n",
       "12-29-2020    48.00   213778.0                     4490.0   \n",
       "12-28-2020    47.62   238462.0                     4490.0   \n",
       "12-24-2020    48.23   167390.0                     4490.0   \n",
       "...             ...        ...                        ...   \n",
       "08-01-1990    21.62    38007.0                        NaN   \n",
       "05-01-1990    23.08       50.0                        NaN   \n",
       "04-01-1990    23.41     2500.0                        NaN   \n",
       "03-01-1990    23.68     1566.0                        NaN   \n",
       "02-01-1990    22.89      719.0                        NaN   \n",
       "\n",
       "            PX_LAST_Cass_Freight_Rates  PX_LAST_China_GDP  PX_LAST_DAX  \\\n",
       "Date                                                                     \n",
       "12-31-2020                       1.122                6.5     13718.78   \n",
       "12-30-2020                       1.154                4.9     13718.78   \n",
       "12-29-2020                       1.154                4.9     13761.38   \n",
       "12-28-2020                       1.154                4.9     13790.29   \n",
       "12-24-2020                       1.154                4.9     13587.23   \n",
       "...                                ...                ...          ...   \n",
       "08-01-1990                         NaN                NaN      1892.89   \n",
       "05-01-1990                         NaN                NaN      1787.87   \n",
       "04-01-1990                         NaN                NaN      1787.87   \n",
       "03-01-1990                         NaN                NaN      1787.87   \n",
       "02-01-1990                         NaN                NaN      1858.08   \n",
       "\n",
       "            PX_LAST_DowJones  PX_LAST_Europe_Inflation  \\\n",
       "Date                                                     \n",
       "12-31-2020          30606.48                      -0.3   \n",
       "12-30-2020          30409.56                      -0.3   \n",
       "12-29-2020          30335.67                      -0.3   \n",
       "12-28-2020          30403.97                      -0.3   \n",
       "12-24-2020          30199.87                      -0.3   \n",
       "...                      ...                       ...   \n",
       "08-01-1990           2899.26                       NaN   \n",
       "05-01-1990           2668.92                       NaN   \n",
       "04-01-1990           2635.59                       NaN   \n",
       "03-01-1990           2635.59                       NaN   \n",
       "02-01-1990           2586.26                       NaN   \n",
       "\n",
       "            PX_LAST_Europe_IndProd_exConstruction  PX_LAST_Germany_GDP  ...  \\\n",
       "Date                                                                    ...   \n",
       "12-31-2020                                  101.8                 -3.3  ...   \n",
       "12-30-2020                                  101.8                 -3.8  ...   \n",
       "12-29-2020                                  101.8                 -3.8  ...   \n",
       "12-28-2020                                  101.8                 -3.8  ...   \n",
       "12-24-2020                                  101.8                 -3.8  ...   \n",
       "...                                           ...                  ...  ...   \n",
       "08-01-1990                                    NaN                  NaN  ...   \n",
       "05-01-1990                                    NaN                  NaN  ...   \n",
       "04-01-1990                                    NaN                  NaN  ...   \n",
       "03-01-1990                                    NaN                  NaN  ...   \n",
       "02-01-1990                                    NaN                  NaN  ...   \n",
       "\n",
       "            PX_LAST_Russia_Industrial_Production  PX_LAST_Russia_daily_prod  \\\n",
       "Date                                                                          \n",
       "12-31-2020                                   3.8                   9654.725   \n",
       "12-30-2020                                  -1.0                   9621.970   \n",
       "12-29-2020                                  -1.0                   9621.970   \n",
       "12-28-2020                                  -1.0                   9621.970   \n",
       "12-24-2020                                  -1.0                   9621.970   \n",
       "...                                          ...                        ...   \n",
       "08-01-1990                                   NaN                        NaN   \n",
       "05-01-1990                                   NaN                        NaN   \n",
       "04-01-1990                                   NaN                        NaN   \n",
       "03-01-1990                                   NaN                        NaN   \n",
       "02-01-1990                                   NaN                        NaN   \n",
       "\n",
       "            PX_LAST_SPX  PX_LAST_US_GDP  PX_LAST_US_Inflation  PX_LAST_USDEUR  \\\n",
       "Date                                                                            \n",
       "12-31-2020      3756.07            -1.0                   1.4          0.8186   \n",
       "12-30-2020      3732.04            -1.7                   1.2          0.8130   \n",
       "12-29-2020      3727.04            -1.7                   1.2          0.8163   \n",
       "12-28-2020      3735.36            -1.7                   1.2          0.8187   \n",
       "12-24-2020      3703.06            -1.7                   1.2          0.8206   \n",
       "...                 ...             ...                   ...             ...   \n",
       "08-01-1990       355.52             NaN                   NaN          0.7566   \n",
       "05-01-1990       332.25             NaN                   NaN          0.8003   \n",
       "04-01-1990       332.74             NaN                   NaN          0.8175   \n",
       "03-01-1990       332.74             NaN                   NaN          0.8175   \n",
       "02-01-1990       328.79             NaN                   NaN          0.8068   \n",
       "\n",
       "            PX_LAST_US_daily_prod  PX_LAST_US_IndProd_Index  PX_Sign   Returns  \n",
       "Date                                                                            \n",
       "12-31-2020              11063.097                   98.2854      1.0  0.002479  \n",
       "12-30-2020              11121.033                   97.1609      1.0  0.008333  \n",
       "12-29-2020              11121.033                   97.1609      1.0  0.007980  \n",
       "12-28-2020              11121.033                   97.1609     -1.0 -0.012648  \n",
       "12-24-2020              11121.033                   97.1609      1.0  0.002286  \n",
       "...                           ...                       ...      ...       ...  \n",
       "08-01-1990                    NaN                       NaN     -1.0 -0.063258  \n",
       "05-01-1990                    NaN                       NaN     -1.0 -0.014097  \n",
       "04-01-1990                    NaN                       NaN     -1.0 -0.011402  \n",
       "03-01-1990                    NaN                       NaN      1.0  0.034513  \n",
       "02-01-1990                    NaN                       NaN      NaN       NaN  \n",
       "\n",
       "[7796 rows x 27 columns]"
      ]
     },
     "execution_count": 6,
     "metadata": {},
     "output_type": "execute_result"
    }
   ],
   "source": [
    "df"
   ]
  },
  {
   "cell_type": "code",
   "execution_count": 7,
   "metadata": {},
   "outputs": [
    {
     "data": {
      "text/plain": [
       "Text(0.5, 1.0, 'WTI Price (1990-2021)')"
      ]
     },
     "execution_count": 7,
     "metadata": {},
     "output_type": "execute_result"
    },
    {
     "data": {
      "image/png": "[encoded data removed]",
      "text/plain": [
       "<Figure size 432x288 with 1 Axes>"
      ]
     },
     "metadata": {
      "needs_background": "light"
     },
     "output_type": "display_data"
    }
   ],
   "source": [
    "df_t = df.copy()\n",
    "ax = df_t[df_t.columns[0]][::-1].plot()\n",
    "ax.set_ylabel(\"WTI Price\")\n",
    "ax.set_title('WTI Price (1990-2021)')"
   ]
  },
  {
   "cell_type": "code",
   "execution_count": 8,
   "metadata": {},
   "outputs": [],
   "source": [
    "prices = ['PX_LAST']\n",
    "classification = ['PX_Sign']\n",
    "returns = ['Returns']"
   ]
  },
  {
   "cell_type": "code",
   "execution_count": 9,
   "metadata": {},
   "outputs": [],
   "source": [
    "#Dict for frequency adjustment\n",
    "cols_freq = {\n",
    "    'PX_LAST':\"daily\",\n",
    "    'PX_VOLUME':\"daily\",\n",
    "    'PX_LAST_DowJones':\"daily\",\n",
    "    'PX_MID_GT10':\"daily\",\n",
    "    'PX_LAST_HangSeng':\"daily\",\n",
    "    'PX_LAST_Nikkei':\"daily\",\n",
    "    'PX_LAST_SPX':\"daily\",\n",
    "    'PX_LAST_USDEUR':\"daily\",\n",
    "    'PX_LAST_NG1':\"daily\",\n",
    "    'PX_LAST_DAX':\"daily\",\n",
    "    'PX_LAST_US_daily_prod':\"monthly\",\n",
    "    'PX_LAST_Cass_Freight_Rates':\"monthly\",\n",
    "    'PX_LAST_Canada_daily_prod':\"monthly\",\n",
    "    'PX_LAST_Russia_daily_prod':\"monthly\",\n",
    "    'PX_LAST_OPEC_daily_prod':\"monthly\",\n",
    "    'PX_LAST_US_Inflation':\"monthly\",\n",
    "    'PX_LAST_Europe_Inflation':\"monthly\",\n",
    "    'PX_LAST_Europe_IndProd_exConstruction':\"monthly\",\n",
    "    'PX_LAST_Russia_Industrial_Production':\"monthly\",\n",
    "    'PX_LAST_US_IndProd_Index':\"monthly\",\n",
    "    'PX_LAST_China_GDP':\"quarterly\",\n",
    "    'PX_LAST_Germany_GDP':\"quarterly\",\n",
    "    'PX_LAST_Japan_GDP':\"quarterly\",\n",
    "    'PX_LAST_Russia_GDP':\"quarterly\",\n",
    "    'PX_LAST_US_GDP':\"quarterly\",\n",
    "    'PX_Sign':'daily',\n",
    "    'Returns':'daily'\n",
    "}"
   ]
  },
  {
   "cell_type": "code",
   "execution_count": 10,
   "metadata": {},
   "outputs": [],
   "source": [
    "def daily_lag(df, column, lag):\n",
    "    lag = lag+1\n",
    "    if column==0:\n",
    "        for i in range(1, lag):\n",
    "            #creating new column here since column==0 is target\n",
    "            \n",
    "            df[df.columns[column] + '_t-' + str(i)] = df[df.columns[column]].shift(-i)\n",
    "            cols_freq[df.columns[column]+'_t-'+str(i)] = \"daily\"\n",
    "    else:\n",
    "        for i in range(1, lag):\n",
    "            #replacing old column here and renaming\n",
    "            df[df.columns[column]] = df[df.columns[column]].shift(-i)\n",
    "            df.rename(columns={df.columns[column]:df.columns[column]+'_t-'+str(i)}, inplace=True)\n",
    "            new_col = df.columns[column]\n",
    "            cols_freq[new_col] = \"daily\"\n",
    "    \n",
    "    return df\n",
    "\n",
    "\n",
    "def ma(df, column, freq = \"monthly\"):\n",
    "    if freq == \"monthly\":\n",
    "        #creating temp column to get values\n",
    "        df[df.columns[column] + '_temp'] = df[df.columns[column]]\n",
    "        \n",
    "        for i in range(0, len(df[df.columns[column]])-22):\n",
    "            df.iloc[i, column] = np.mean(df.iloc[i:i+22, -1])\n",
    "        \n",
    "        #dropping temp column\n",
    "        drop_col_name = df.columns[column] + '_temp'\n",
    "        df = df.loc[:, ~df.columns.isin([drop_col_name])]\n",
    "        \n",
    "        #renaming column to indicate moving average\n",
    "        df.rename(columns={df.columns[column]:df.columns[column]+'_SMA22'}, inplace=True)\n",
    "        cols_freq[df.columns[column]] = \"monthly\"\n",
    "    elif freq == \"quarterly\":\n",
    "        #creating temp column to get values\n",
    "        df[df.columns[column] + '_temp'] = df[df.columns[column]]\n",
    "        \n",
    "        for i in range(0, len(df[df.columns[column]])-65):\n",
    "            df.iloc[i, column] = np.mean(df.iloc[i:i+65, -1])\n",
    "        \n",
    "        #dropping temp column\n",
    "        drop_col_name = df.columns[column] + '_temp'\n",
    "        df = df.loc[:, ~df.columns.isin([drop_col_name])]\n",
    "        \n",
    "        #renaming column to indicate moving average\n",
    "        df.rename(columns={df.columns[column]:df.columns[column]+'_SMA65'}, inplace=True)\n",
    "        cols_freq[df.columns[column]] = \"quarterly\"\n",
    "    \n",
    "    return df\n",
    "\n",
    "\n",
    "def lag_data(df, column, freq = \"monthly\"):\n",
    "    if freq == \"monthly\":\n",
    "        #replacing old column and renaming\n",
    "        df[df.columns[column]] = df[df.columns[column]].shift(-22)\n",
    "        df.rename(columns={df.columns[column]:df.columns[column]+'_M'}, inplace=True)\n",
    "    elif freq == \"quarterly\":\n",
    "        #replacing old column and renaming\n",
    "        df[df.columns[column]] = df[df.columns[column]].shift(-65)\n",
    "        df.rename(columns={df.columns[column]:df.columns[column]+'_Q'}, inplace=True)\n",
    "    elif freq == \"weekly\":\n",
    "        #replacing old column and renaming\n",
    "        df[df.columns[column]] = df[df.columns[column]].shift(-10)\n",
    "        df.rename(columns={df.columns[column]:df.columns[column]+'_W'}, inplace=True)\n",
    "    else:\n",
    "        raise ValueError(\"Frequency invalid\")\n",
    "    \n",
    "    return df\n",
    "\n",
    "def get_lag_ma_data(df, daily_lags = 1, cols_freq=cols_freq):\n",
    "    for i in range(len(df.columns)):\n",
    "        column_name = df.columns[i]\n",
    "        #print(column_name)\n",
    "        if cols_freq[column_name] == 'daily':\n",
    "            df = daily_lag(df, i, daily_lags)\n",
    "        else:\n",
    "            df = lag_data(df, i, cols_freq[column_name])\n",
    "            df = ma(df, i, cols_freq[column_name])\n",
    "            \n",
    "    return df"
   ]
  },
  {
   "cell_type": "code",
   "execution_count": 11,
   "metadata": {},
   "outputs": [],
   "source": [
    "def one_day_change(df, column):\n",
    "    #creating new column here, will drop old column later in get_diffs\n",
    "    df[df.columns[column] + '_1D_change'] = df[df.columns[column]] - df[df.columns[column]].shift(-1)\n",
    "    return df\n",
    "\n",
    "def two_week_change(df, column):\n",
    "    #creating new column here, will drop old column later in get_diffs\n",
    "    df[df.columns[column] + '_2W_change'] = df[df.columns[column]] - df[df.columns[column]].shift(-10)\n",
    "    return df\n",
    "\n",
    "def one_month_change(df, column):\n",
    "    #creating new column here, will drop old column later in get_diffs\n",
    "    df[df.columns[column] + '_1M_change'] = df[df.columns[column]] - df[df.columns[column]].shift(-22)\n",
    "    return df\n",
    "\n",
    "def get_diffs(df, target, cols_freq=cols_freq, drop=True):\n",
    "    cols = []\n",
    "    for i in range(1, len(df.columns)):\n",
    "        column_name = df.columns[i]\n",
    "        #collecting old columns to drop later\n",
    "        cols.append(column_name)\n",
    "        \n",
    "        if cols_freq[column_name] == 'daily':\n",
    "            df = one_day_change(df, i)\n",
    "            df = two_week_change(df, i)\n",
    "            df = one_month_change(df, i)\n",
    "        elif cols_freq[column_name] == 'monthly':\n",
    "            df = two_week_change(df, i)\n",
    "            df = one_month_change(df, i)\n",
    "        elif cols_freq[column_name] == 'quarterly':\n",
    "            df = one_month_change(df, i)\n",
    "        \n",
    "    #dropping old columns\n",
    "    target_lagged = df.columns[0] + '_t-1'\n",
    "    cols.remove(target_lagged)\n",
    "    #print(cols)\n",
    "    df = df.loc[:, ~df.columns.isin(cols)]\n",
    "    \n",
    "    return df"
   ]
  },
  {
   "cell_type": "code",
   "execution_count": 12,
   "metadata": {},
   "outputs": [],
   "source": [
    "def make_regime(df, end, start=0):\n",
    "    if start==0 and end==0:\n",
    "        return df\n",
    "    \n",
    "    if start!=0:\n",
    "        st_idx = list(df.index).index(start)\n",
    "    else:\n",
    "        st_idx = 0\n",
    "    end_idx = list(df.index).index(end)\n",
    "    df_reg = df.iloc[st_idx:end_idx,:]\n",
    "    return df_reg"
   ]
  },
  {
   "cell_type": "code",
   "execution_count": 13,
   "metadata": {},
   "outputs": [],
   "source": [
    "def get_final_data(df, features, regime, target=classification):\n",
    "    if target != prices:\n",
    "        features = ['PX_LAST'] + features\n",
    "    \n",
    "    df_trial = get_lag_ma_data(df[target + features])\n",
    "    df_trial = get_diffs(df_trial, target)\n",
    "    \n",
    "    df_trial = df_trial.dropna()\n",
    "    df_trial = df_trial[::-1]\n",
    "    \n",
    "    df_reg = make_regime(df_trial, end=regime[1], start=regime[0])\n",
    "    \n",
    "    df_target = df_reg[target]\n",
    "    df_features = df_reg.iloc[:, 1:]\n",
    "    \n",
    "    return df_target, df_features"
   ]
  },
  {
   "cell_type": "code",
   "execution_count": 14,
   "metadata": {},
   "outputs": [],
   "source": [
    "from sklearn.compose import TransformedTargetRegressor\n",
    "from sklearn.preprocessing import RobustScaler\n",
    "from sklearn import linear_model\n",
    "from sklearn.model_selection import TimeSeriesSplit\n",
    "\n",
    "def get_data_splits(target, features):\n",
    "    train_n = int(len(target) * 0.8)\n",
    "    train_x = features[:train_n].to_numpy()\n",
    "    train_y = target[:train_n].to_numpy()\n",
    "    test_x = features[train_n:].to_numpy()\n",
    "    test_y = target[train_n:].to_numpy()\n",
    "\n",
    "    splits = TimeSeriesSplit(n_splits=100)\n",
    "\n",
    "    split_train_x = []\n",
    "    split_val_x = []\n",
    "    split_train_y = []\n",
    "    split_val_y = []\n",
    "\n",
    "    for train_index, val_index in splits.split(train_x):\n",
    "        split_train_x.append(train_x[train_index])\n",
    "        split_train_y.append(train_y[train_index])\n",
    "        split_val_x.append(train_x[val_index])\n",
    "        split_val_y.append(train_y[val_index])\n",
    "        \n",
    "    split_data = [split_train_x, split_train_y, split_val_x, split_val_y]\n",
    "    train_data = [train_x, train_y]\n",
    "    test_data = [test_x, test_y]\n",
    "    \n",
    "    return split_data, train_data, test_data"
   ]
  },
  {
   "cell_type": "code",
   "execution_count": 15,
   "metadata": {},
   "outputs": [],
   "source": [
    "def lasso(split_data):\n",
    "    split_train_x = split_data[0]\n",
    "    split_train_y = split_data[1]\n",
    "    split_val_x = split_data[2]\n",
    "    split_val_y = split_data[3]\n",
    "    \n",
    "    alphas = np.arange(0.05, 1.01, 0.05)\n",
    "    alpha_mse = []\n",
    "    \n",
    "    for alpha in alphas:\n",
    "        transformer = RobustScaler\n",
    "        model = linear_model.Lasso(alpha=alpha)\n",
    "        mse = []\n",
    "        for i in range(len(split_train_x)):\n",
    "            wrapped_model = TransformedTargetRegressor(regressor=model, transformer=RobustScaler())\n",
    "            wrapped_model.fit(split_train_x[i], split_train_y[i])\n",
    "            yhat = wrapped_model.predict(split_val_x[i])\n",
    "            mse.append(np.mean((yhat-split_val_y[i])**2))\n",
    "        alpha_mse.append(np.mean(mse))\n",
    "    a_star = alphas[np.argmin(alpha_mse)]\n",
    "    print('Alpha* = {}'.format(alphas[np.argmin(alpha_mse)]))\n",
    "    return alpha_mse, a_star\n",
    "\n",
    "def lasso_test(train_data, test_data, alpha):\n",
    "    train_x = train_data[0]\n",
    "    train_y = train_data[1]\n",
    "    test_x = test_data[0]\n",
    "    test_y = test_data[1]\n",
    "    \n",
    "    model = linear_model.Lasso(alpha=alpha)\n",
    "    wrapped_model = TransformedTargetRegressor(regressor=model, transformer=RobustScaler())\n",
    "    wrapped_model.fit(train_x, train_y)\n",
    "    pred = wrapped_model.predict(test_x)\n",
    "    mse = np.mean((pred-test_y)**2)\n",
    "    \n",
    "    return pred, mse"
   ]
  },
  {
   "cell_type": "code",
   "execution_count": 16,
   "metadata": {},
   "outputs": [],
   "source": [
    "def huber(split_data):\n",
    "    split_train_x = split_data[0]\n",
    "    split_train_y = split_data[1]\n",
    "    split_val_x = split_data[2]\n",
    "    split_val_y = split_data[3]\n",
    "    \n",
    "    alphas = np.arange(0.05, 1.01, 0.05)\n",
    "    alpha_mse = []\n",
    "    \n",
    "    for alpha in alphas:                     \n",
    "        transformer = RobustScaler\n",
    "        model = linear_model.HuberRegressor(alpha=alpha)\n",
    "        mse = []\n",
    "        for i in range(len(split_train_x)):\n",
    "            wrapped_model = TransformedTargetRegressor(regressor=model, transformer=RobustScaler())\n",
    "            wrapped_model.fit(split_train_x[i], split_train_y[i])\n",
    "            yhat = wrapped_model.predict(split_val_x[i])\n",
    "            mse.append(np.mean((yhat-split_val_y[i])**2))\n",
    "        alpha_mse.append(np.mean(mse))\n",
    "    a_star = alphas[np.argmin(alpha_mse)]\n",
    "    print('Alpha* = {}'.format(a_star))\n",
    "    return alpha_mse, a_star\n",
    "\n",
    "def huber_test(train_data, test_data, alpha):\n",
    "    train_x = train_data[0]\n",
    "    train_y = train_data[1]\n",
    "    test_x = test_data[0]\n",
    "    test_y = test_data[1]\n",
    "    \n",
    "    model = linear_model.HuberRegressor(alpha=alpha)\n",
    "    wrapped_model = TransformedTargetRegressor(regressor=model, transformer=RobustScaler())\n",
    "    wrapped_model.fit(train_x, train_y)\n",
    "    pred = wrapped_model.predict(test_x)\n",
    "    mse = np.mean((pred-test_y)**2)\n",
    "    \n",
    "    return pred, mse"
   ]
  },
  {
   "cell_type": "code",
   "execution_count": 17,
   "metadata": {},
   "outputs": [],
   "source": [
    "from sklearn.ensemble import RandomForestRegressor\n",
    "\n",
    "def RF_regressor(split_data):\n",
    "    split_train_x = split_data[0]\n",
    "    split_train_y = split_data[1]\n",
    "    split_val_x = split_data[2]\n",
    "    split_val_y = split_data[3]\n",
    "    \n",
    "    estimators = np.arange(950, 1000, 10)\n",
    "    estimator_mse = []\n",
    "    \n",
    "    for estimator in estimators:\n",
    "        model = RandomForestRegressor(n_estimators=estimator)\n",
    "        mse = []\n",
    "        model.fit(split_train_x[-1], split_train_y[-1])\n",
    "        yhat = model.predict(split_val_x[-1])\n",
    "        mse.append(np.mean((yhat-split_val_y[-1])**2))\n",
    "        estimator_mse.append(np.mean(mse))\n",
    "    best_est = estimators[np.argmin(estimator_mse)]\n",
    "    print('Efficient Estimator = {}'.format(best_est))\n",
    "    return estimator_mse, best_est\n",
    "\n",
    "def RF_regressor_test(train_data, test_data, best_est):\n",
    "    train_x = train_data[0]\n",
    "    train_y = train_data[1]\n",
    "    test_x = test_data[0]\n",
    "    test_y = test_data[1]\n",
    "    \n",
    "    model = RandomForestRegressor(n_estimators=best_est)\n",
    "    model.fit(train_x, train_y)\n",
    "    pred = model.predict(test_x)\n",
    "    mse = np.mean((pred-test_y)**2)\n",
    "    \n",
    "    return pred, mse"
   ]
  },
  {
   "cell_type": "code",
   "execution_count": 35,
   "metadata": {},
   "outputs": [],
   "source": [
    "import xgboost as xgb\n",
    "\n",
    "def XGBoost(split_data):\n",
    "    split_train_x = split_data[0]\n",
    "    split_train_y = split_data[1]\n",
    "    split_val_x = split_data[2]\n",
    "    split_val_y = split_data[3]\n",
    "    \n",
    "    estimators = np.arange(10, 101, 10)\n",
    "    estimator_mse = []\n",
    "    \n",
    "    for estimator in estimators:\n",
    "        print('val for est=',estimator)\n",
    "        transformer = RobustScaler\n",
    "        model = xgb.XGBRegressor(n_estimators=estimator, subsample=1.0)\n",
    "        mse = []\n",
    "        \n",
    "        for i in range(len(split_train_x)):\n",
    "            wrapped_model = TransformedTargetRegressor(regressor=model, transformer=RobustScaler())\n",
    "            wrapped_model.fit(split_train_x[i], split_train_y[i])\n",
    "            yhat = wrapped_model.predict(split_val_x[i])\n",
    "            mse.append(np.mean((yhat-split_val_y[i])**2))\n",
    "        estimator_mse.append(np.mean(mse))\n",
    "    best_est = estimators[np.argmin(estimator_mse)]\n",
    "    print('Efficient Estimator = {}'.format(best_est))\n",
    "    return estimator_mse, best_est\n",
    "\n",
    "def XGBoost_test(train_data, test_data, best_est):\n",
    "    train_x = train_data[0]\n",
    "    train_y = train_data[1]\n",
    "    test_x = test_data[0]\n",
    "    test_y = test_data[1]\n",
    "    \n",
    "    model = xgb.XGBRegressor(n_estimators=best_est, subsample=1.0)\n",
    "    model.fit(train_x, train_y)\n",
    "    pred = wrapped_model.predict(test_x)\n",
    "    mse = np.mean((pred-test_y)**2)\n",
    "    \n",
    "    return pred, mse"
   ]
  },
  {
   "cell_type": "code",
   "execution_count": 19,
   "metadata": {},
   "outputs": [],
   "source": [
    "# Feature Categories by Type\n",
    "fin_indices = ['PX_LAST_DAX', 'PX_LAST_DowJones', 'PX_MID_GT10',\n",
    "           'PX_LAST_HangSeng', 'PX_LAST_Nikkei', 'PX_LAST_SPX',\n",
    "           'PX_LAST_USDEUR']\n",
    "nat_gas = ['PX_LAST_NG1']\n",
    "gdp = ['PX_LAST_China_GDP', 'PX_LAST_Germany_GDP', 'PX_LAST_Japan_GDP',\n",
    "       'PX_LAST_Russia_GDP', 'PX_LAST_US_GDP']\n",
    "oil_prod = ['PX_LAST_Canada_daily_prod', 'PX_LAST_Russia_daily_prod',\n",
    "            'PX_LAST_OPEC_daily_prod', 'PX_LAST_US_daily_prod']\n",
    "freight = ['PX_LAST_Cass_Freight_Rates']\n",
    "inflation = ['PX_LAST_US_Inflation', 'PX_LAST_Europe_Inflation']\n",
    "ind_prod = ['PX_LAST_Europe_IndProd_exConstruction', \n",
    "            'PX_LAST_Russia_Industrial_Production',\n",
    "            'PX_LAST_US_IndProd_Index']"
   ]
  },
  {
   "cell_type": "code",
   "execution_count": 20,
   "metadata": {},
   "outputs": [],
   "source": [
    "# Feature Categories by Date Range\n",
    "feat_1992 = ['PX_LAST_DAX', 'PX_LAST_DowJones', 'PX_MID_GT10', \n",
    "             'PX_LAST_HangSeng', 'PX_LAST_Nikkei', 'PX_LAST_SPX', \n",
    "             'PX_LAST_USDEUR', 'PX_LAST_NG1', 'PX_LAST_China_GDP', \n",
    "             'PX_LAST_Germany_GDP', 'PX_LAST_US_GDP', 'PX_LAST_US_daily_prod', \n",
    "             'PX_LAST_Cass_Freight_Rates', 'PX_LAST_US_Inflation', \n",
    "             'PX_LAST_Europe_IndProd_exConstruction', 'PX_LAST_US_IndProd_Index']\n",
    "feat_1996 = feat_1992 + ['PX_LAST_Japan_GDP', 'PX_LAST_Russia_GDP',\n",
    "                         'PX_LAST_Canada_daily_prod', 'PX_LAST_Russia_daily_prod']\n",
    "feat_2000 = feat_1996 + ['PX_LAST_OPEC_daily_prod', 'PX_LAST_Europe_Inflation']\n",
    "feat_2002 = feat_2000 + ['PX_LAST_Russia_Industrial_Production']"
   ]
  },
  {
   "cell_type": "code",
   "execution_count": 21,
   "metadata": {},
   "outputs": [],
   "source": [
    "reg_92_99 = [0, '12-30-1999']\n",
    "reg_00_06 = ['04-03-2000', '12-29-2006']\n",
    "reg_07_12 = ['01-02-2007', '12-31-2012']\n",
    "reg_13_20 = ['01-02-2013', '12-31-2020']\n",
    "no_regime = [0, 0]"
   ]
  },
  {
   "cell_type": "markdown",
   "metadata": {},
   "source": [
    "### Meta Learning"
   ]
  },
  {
   "cell_type": "code",
   "execution_count": 22,
   "metadata": {},
   "outputs": [],
   "source": [
    "import warnings\n",
    "warnings.filterwarnings('ignore')"
   ]
  },
  {
   "cell_type": "code",
   "execution_count": 23,
   "metadata": {},
   "outputs": [],
   "source": [
    "df_m = df_t.copy()\n",
    "features = feat_2002\n",
    "regime = no_regime\n",
    "\n",
    "meta_target, meta_features = get_final_data(df=df_m,\n",
    "                                           features=features,\n",
    "                                           regime=regime,\n",
    "                                           target=prices)"
   ]
  },
  {
   "cell_type": "code",
   "execution_count": null,
   "metadata": {},
   "outputs": [],
   "source": []
  },
  {
   "cell_type": "code",
   "execution_count": 24,
   "metadata": {},
   "outputs": [],
   "source": [
    "from sklearn.tree import DecisionTreeClassifier\n",
    "\n",
    "def meta_split(target, features):\n",
    "    split_1 = int(len(target) * 0.5)\n",
    "    split_2 = int(len(target) * 0.75)\n",
    "    \n",
    "    train_X = features[:split_1].to_numpy()\n",
    "    train_y = target[:split_1].to_numpy()\n",
    "    val_X = features[split_1:split_2].to_numpy()\n",
    "    val_y = target[split_1:split_2].to_numpy()\n",
    "    test_X = features[split_2:].to_numpy()\n",
    "    test_y = target[split_2:].to_numpy()\n",
    "    \n",
    "    train_data = [train_X, train_y, val_X, val_y]\n",
    "    test_data = [test_X, test_y]\n",
    "    \n",
    "    return train_data, test_data"
   ]
  },
  {
   "cell_type": "code",
   "execution_count": 25,
   "metadata": {},
   "outputs": [],
   "source": [
    "meta_train, meta_test = meta_split(meta_target, meta_features)"
   ]
  },
  {
   "cell_type": "code",
   "execution_count": 26,
   "metadata": {},
   "outputs": [],
   "source": [
    "hyper = []\n",
    "meta_prep_split, meta_prep_train, meta_prep_test = get_data_splits(meta_target, meta_features)"
   ]
  },
  {
   "cell_type": "markdown",
   "metadata": {},
   "source": [
    "### Run from here"
   ]
  },
  {
   "cell_type": "code",
   "execution_count": 27,
   "metadata": {},
   "outputs": [
    {
     "name": "stdout",
     "output_type": "stream",
     "text": [
      "Alpha* = 0.05\n"
     ]
    }
   ],
   "source": [
    "meta_lasso_mse, meta_lasso_alpha = lasso(meta_prep_split)"
   ]
  },
  {
   "cell_type": "code",
   "execution_count": 28,
   "metadata": {},
   "outputs": [
    {
     "name": "stdout",
     "output_type": "stream",
     "text": [
      "Alpha* = 0.9000000000000001\n"
     ]
    }
   ],
   "source": [
    "meta_huber_mse, meta_huber_alpha = huber(meta_prep_split)"
   ]
  },
  {
   "cell_type": "code",
   "execution_count": 29,
   "metadata": {},
   "outputs": [
    {
     "name": "stdout",
     "output_type": "stream",
     "text": [
      "Efficient Estimator = 990\n"
     ]
    }
   ],
   "source": [
    "meta_rf_mse, meta_rf_best_est = RF_regressor(meta_prep_split)"
   ]
  },
  {
   "cell_type": "code",
   "execution_count": 36,
   "metadata": {},
   "outputs": [
    {
     "name": "stdout",
     "output_type": "stream",
     "text": [
      "val for est= 10\n",
      "val for est= 20\n",
      "val for est= 30\n",
      "val for est= 40\n",
      "val for est= 50\n",
      "val for est= 60\n",
      "val for est= 70\n",
      "val for est= 80\n",
      "val for est= 90\n",
      "val for est= 100\n",
      "Efficient Estimator = 20\n"
     ]
    }
   ],
   "source": [
    "meta_xgb_mse, meta_xgb_best_est = XGBoost(meta_prep_split)"
   ]
  },
  {
   "cell_type": "code",
   "execution_count": 37,
   "metadata": {},
   "outputs": [],
   "source": [
    "hyper.append(meta_lasso_alpha)\n",
    "hyper.append(meta_huber_alpha)\n",
    "hyper.append(meta_rf_best_est)\n",
    "hyper.append(meta_xgb_best_est)"
   ]
  },
  {
   "cell_type": "code",
   "execution_count": 81,
   "metadata": {},
   "outputs": [],
   "source": [
    "train_x = meta_train[0]\n",
    "train_y = meta_train[1]\n",
    "val_x = meta_train[2]\n",
    "val_y = meta_train[3]\n",
    "    \n",
    "test_x = meta_test[0]\n",
    "test_y = meta_test[1]"
   ]
  },
  {
   "cell_type": "code",
   "execution_count": 74,
   "metadata": {},
   "outputs": [],
   "source": [
    "models_meta = []"
   ]
  },
  {
   "cell_type": "code",
   "execution_count": 75,
   "metadata": {},
   "outputs": [
    {
     "data": {
      "text/plain": [
       "TransformedTargetRegressor(regressor=Lasso(alpha=0.05),\n",
       "                           transformer=RobustScaler())"
      ]
     },
     "execution_count": 75,
     "metadata": {},
     "output_type": "execute_result"
    }
   ],
   "source": [
    "lasso = linear_model.Lasso(alpha=meta_lasso_alpha)\n",
    "models_meta.append(TransformedTargetRegressor(regressor=lasso, transformer=RobustScaler()))\n",
    "models_meta[0].fit(train_x, train_y)"
   ]
  },
  {
   "cell_type": "code",
   "execution_count": 42,
   "metadata": {},
   "outputs": [
    {
     "data": {
      "text/plain": [
       "TransformedTargetRegressor(regressor=HuberRegressor(alpha=0.9000000000000001),\n",
       "                           transformer=RobustScaler())"
      ]
     },
     "execution_count": 42,
     "metadata": {},
     "output_type": "execute_result"
    }
   ],
   "source": [
    "# huber = linear_model.HuberRegressor(alpha=meta_huber_alpha)\n",
    "# models_meta.append(TransformedTargetRegressor(regressor=huber, transformer=RobustScaler()))\n",
    "# models_meta[1].fit(train_x, train_y)"
   ]
  },
  {
   "cell_type": "code",
   "execution_count": 76,
   "metadata": {},
   "outputs": [
    {
     "data": {
      "text/plain": [
       "RandomForestRegressor(n_estimators=990)"
      ]
     },
     "execution_count": 76,
     "metadata": {},
     "output_type": "execute_result"
    }
   ],
   "source": [
    "models_meta.append(RandomForestRegressor(n_estimators=meta_rf_best_est))\n",
    "models_meta[1].fit(train_x, train_y)"
   ]
  },
  {
   "cell_type": "code",
   "execution_count": 77,
   "metadata": {},
   "outputs": [
    {
     "data": {
      "text/plain": [
       "TransformedTargetRegressor(regressor=XGBRegressor(base_score=None, booster=None,\n",
       "                                                  colsample_bylevel=None,\n",
       "                                                  colsample_bynode=None,\n",
       "                                                  colsample_bytree=None,\n",
       "                                                  gamma=None, gpu_id=None,\n",
       "                                                  importance_type='gain',\n",
       "                                                  interaction_constraints=None,\n",
       "                                                  learning_rate=None,\n",
       "                                                  max_delta_step=None,\n",
       "                                                  max_depth=None,\n",
       "                                                  min_child_weight=None,\n",
       "                                                  missing=nan,\n",
       "                                                  monotone_constraints=None,\n",
       "                                                  n_estimators=20, n_jobs=None,\n",
       "                                                  num_parallel_tree=None,\n",
       "                                                  random_state=None,\n",
       "                                                  reg_alpha=None,\n",
       "                                                  reg_lambda=None,\n",
       "                                                  scale_pos_weight=None,\n",
       "                                                  subsample=1.0,\n",
       "                                                  tree_method=None,\n",
       "                                                  validate_parameters=False,\n",
       "                                                  verbosity=None),\n",
       "                           transformer=RobustScaler())"
      ]
     },
     "execution_count": 77,
     "metadata": {},
     "output_type": "execute_result"
    }
   ],
   "source": [
    "xgb_reg = xgb.XGBRegressor(n_estimators=meta_xgb_best_est, subsample=1.0)\n",
    "models_meta.append(TransformedTargetRegressor(regressor=xgb_reg, transformer=RobustScaler()))\n",
    "models_meta[2].fit(train_x, train_y)"
   ]
  },
  {
   "cell_type": "code",
   "execution_count": 87,
   "metadata": {},
   "outputs": [],
   "source": [
    "model_num = []\n",
    "for i, x in enumerate(val_x):\n",
    "    err = []\n",
    "    for model in models_meta:\n",
    "#         print(model)\n",
    "        yhat = model.predict(x.reshape(1,-1))\n",
    "        err.append((yhat-val_y[i])**2)\n",
    "    model_num.append((np.argmin(err)))\n"
   ]
  },
  {
   "cell_type": "code",
   "execution_count": 88,
   "metadata": {},
   "outputs": [
    {
     "name": "stdout",
     "output_type": "stream",
     "text": [
      "Count of  0  is  523\n",
      "Count of  1  is  355\n",
      "Count of  2  is  301\n"
     ]
    }
   ],
   "source": [
    "for i in range(len(models_meta)):\n",
    "    print('Count of ', i, ' is ', model_num.count(i))"
   ]
  },
  {
   "cell_type": "code",
   "execution_count": 89,
   "metadata": {},
   "outputs": [],
   "source": [
    "model_label = np.array(model_num)"
   ]
  },
  {
   "cell_type": "code",
   "execution_count": 90,
   "metadata": {},
   "outputs": [],
   "source": [
    "#to choose best model for datapoint:\n",
    "    \n",
    "split = int(0.75*len(val_x))\n",
    "t_train_X = val_x[:split]\n",
    "t_train_y = model_label[:split]\n",
    "t_val_X = val_x[split:]\n",
    "t_val_y = model_label[split:]"
   ]
  },
  {
   "cell_type": "code",
   "execution_count": 91,
   "metadata": {},
   "outputs": [
    {
     "name": "stdout",
     "output_type": "stream",
     "text": [
      "Best depth:  4\n"
     ]
    }
   ],
   "source": [
    "depths = np.arange(2, 10, 1)\n",
    "scores = []\n",
    "for depth in depths:\n",
    "    dtree_model = DecisionTreeClassifier(max_depth = depth).fit(t_train_X, t_train_y)\n",
    "    dtree_score = dtree_model.score(t_val_X, t_val_y)\n",
    "    scores.append(dtree_score)\n",
    "    \n",
    "best_depth = depths[np.argmax(scores)]\n",
    "print('Best depth: ', best_depth)"
   ]
  },
  {
   "cell_type": "code",
   "execution_count": 100,
   "metadata": {},
   "outputs": [
    {
     "data": {
      "text/plain": [
       "[0.3593220338983051,\n",
       " 0.3728813559322034,\n",
       " 0.38305084745762713,\n",
       " 0.31864406779661014,\n",
       " 0.34915254237288135,\n",
       " 0.36610169491525424,\n",
       " 0.3423728813559322,\n",
       " 0.3423728813559322]"
      ]
     },
     "execution_count": 100,
     "metadata": {},
     "output_type": "execute_result"
    }
   ],
   "source": [
    "scores"
   ]
  },
  {
   "cell_type": "code",
   "execution_count": null,
   "metadata": {},
   "outputs": [],
   "source": []
  },
  {
   "cell_type": "code",
   "execution_count": 92,
   "metadata": {},
   "outputs": [],
   "source": [
    "dtree_final = DecisionTreeClassifier(max_depth=best_depth).fit(val_x, model_label)\n",
    "model_pred = dtree_final.predict(test_x)"
   ]
  },
  {
   "cell_type": "code",
   "execution_count": 99,
   "metadata": {},
   "outputs": [
    {
     "name": "stdout",
     "output_type": "stream",
     "text": [
      "Count of  0  is  806\n",
      "Count of  1  is  304\n",
      "Count of  2  is  70\n"
     ]
    }
   ],
   "source": [
    "for i in range(len(models_meta)):\n",
    "    print('Count of ', i, ' is ', list(model_pred).count(i))"
   ]
  },
  {
   "cell_type": "code",
   "execution_count": 93,
   "metadata": {},
   "outputs": [],
   "source": [
    "meta_preds = []\n",
    "for i, x in enumerate(test_x):\n",
    "    pred = models_meta[model_pred[i]].predict(x.reshape(1,-1))\n",
    "    meta_preds.append(pred)\n",
    "\n",
    "meta_mse = np.mean((meta_preds-test_y)**2)"
   ]
  },
  {
   "cell_type": "code",
   "execution_count": 94,
   "metadata": {},
   "outputs": [
    {
     "name": "stdout",
     "output_type": "stream",
     "text": [
      "Meta Learning RMSE =  2.519051956727933\n"
     ]
    }
   ],
   "source": [
    "meta_rmse = np.sqrt(meta_mse)\n",
    "print(\"Meta Learning RMSE = \", meta_rmse)"
   ]
  },
  {
   "cell_type": "code",
   "execution_count": 95,
   "metadata": {},
   "outputs": [
    {
     "data": {
      "text/plain": [
       "<matplotlib.legend.Legend at 0x248ffe12588>"
      ]
     },
     "execution_count": 95,
     "metadata": {},
     "output_type": "execute_result"
    },
    {
     "data": {
      "image/png": "[encoded data removed]",
      "text/plain": [
       "<Figure size 432x288 with 1 Axes>"
      ]
     },
     "metadata": {
      "needs_background": "light"
     },
     "output_type": "display_data"
    }
   ],
   "source": [
    "plt.plot(meta_preds, label='pred')\n",
    "plt.plot(test_y, label='true')\n",
    "plt.legend()"
   ]
  },
  {
   "cell_type": "code",
   "execution_count": 102,
   "metadata": {},
   "outputs": [
    {
     "data": {
      "text/plain": [
       "(-20.0, 40.0)"
      ]
     },
     "execution_count": 102,
     "metadata": {},
     "output_type": "execute_result"
    },
    {
     "data": {
      "image/png": "[encoded data removed]",
      "text/plain": [
       "<Figure size 432x288 with 1 Axes>"
      ]
     },
     "metadata": {
      "needs_background": "light"
     },
     "output_type": "display_data"
    }
   ],
   "source": [
    "plt.plot(meta_preds, label='pred')\n",
    "plt.plot(test_y, label='true')\n",
    "plt.legend()\n",
    "plt.xlim(970,1050)\n",
    "plt.ylim(-20,40)"
   ]
  },
  {
   "cell_type": "markdown",
   "metadata": {},
   "source": [
    "### Stacking"
   ]
  },
  {
   "cell_type": "code",
   "execution_count": null,
   "metadata": {},
   "outputs": [],
   "source": [
    "df_m = df_t.copy()\n",
    "features = feat_2002\n",
    "regime = no_regime\n",
    "\n",
    "stack_target, stack_features = get_final_data(df=df_m,\n",
    "                                           features=features,\n",
    "                                           regime=regime,\n",
    "                                           target=prices)"
   ]
  },
  {
   "cell_type": "code",
   "execution_count": null,
   "metadata": {},
   "outputs": [],
   "source": [
    "stack_split, stack_train, stack_test = get_data_splits(stack_target, stack_features)"
   ]
  },
  {
   "cell_type": "code",
   "execution_count": null,
   "metadata": {},
   "outputs": [],
   "source": [
    "from sklearn.ensemble import StackingRegressor\n",
    "\n",
    "st_train_x = stack_train[0]\n",
    "st_train_y = stack_train[1]\n",
    "st_test_x = stack_test[0]\n",
    "st_test_y = stack_test[1]"
   ]
  },
  {
   "cell_type": "markdown",
   "metadata": {},
   "source": [
    "Here using hyperparameters for full data that we got earlier above, if we need to run for each regime, will have to get those hyperparameters again for each. \n",
    "Don't run the immediately next block for now, but run the one after that to set stack_hyper params"
   ]
  },
  {
   "cell_type": "code",
   "execution_count": null,
   "metadata": {},
   "outputs": [],
   "source": [
    "stack_lasso_mse, stack_lasso_alpha = lasso(stack_split)\n",
    "stack_huber_mse, stack_huber_alpha = huber(stack_split)\n",
    "stack_rf_mse, stack_rf_best_est = RF_regressor(stack_split)\n",
    "stack_xgb_mse, stack_xgb_best_est = XGBoost(stack_split)"
   ]
  },
  {
   "cell_type": "code",
   "execution_count": null,
   "metadata": {},
   "outputs": [],
   "source": [
    "stack_lasso_alpha = meta_lasso_alpha\n",
    "stack_huber_alpha = meta_huber_alpha\n",
    "stack_rf_best_est = meta_rf_best_est\n",
    "stack_xgb_best_est = meta_xgb_best_est"
   ]
  },
  {
   "cell_type": "code",
   "execution_count": null,
   "metadata": {},
   "outputs": [],
   "source": [
    "level0 = list()\n",
    "level0.append(('xgb', TransformedTargetRegressor(regressor=xgb.XGBRegressor(n_estimators=stack_xgb_best_est, subsample=1.0)\n",
    "                                                 , transformer=RobustScaler())))\n",
    "level0.append(('rf', TransformedTargetRegressor(regressor=RandomForestRegressor(n_estimators=stack_rf_best_est), transformer=RobustScaler())))\n",
    "level0.append(('huber', TransformedTargetRegressor(regressor=linear_model.HuberRegressor(alpha=stack_huber_alpha), transformer=RobustScaler())))\n",
    "level0.append(('lasso', TransformedTargetRegressor(regressor=linear_model.Lasso(alpha=stack_lasso_alpha), transformer=RobustScaler())))\n",
    "level1 = LinearRegression()"
   ]
  },
  {
   "cell_type": "code",
   "execution_count": null,
   "metadata": {},
   "outputs": [],
   "source": [
    "stack_model = StackingRegressor(estimators=level0, final_estimator=level1)\n",
    "stack_model.fit(st_train_x, st_train_y)\n",
    "stack_pred = stack_model.predict(st_test_x)\n",
    "stack_mse = np.mean((stack_pred - st_test_y)**2)"
   ]
  },
  {
   "cell_type": "code",
   "execution_count": null,
   "metadata": {},
   "outputs": [],
   "source": [
    "stack_rmse = np.sqrt(stack_mse)\n",
    "print(\"Stacking RMSE = \", stack_rmse)"
   ]
  },
  {
   "cell_type": "code",
   "execution_count": null,
   "metadata": {},
   "outputs": [],
   "source": [
    "plt.plot(stack_pred, label='pred')\n",
    "plt.plot(st_test_y, label='true')\n",
    "plt.legend()"
   ]
  }
 ],
 "metadata": {
  "kernelspec": {
   "display_name": "Python 3",
   "language": "python",
   "name": "python3"
  },
  "language_info": {
   "codemirror_mode": {
    "name": "ipython",
    "version": 3
   },
   "file_extension": ".py",
   "mimetype": "text/x-python",
   "name": "python",
   "nbconvert_exporter": "python",
   "pygments_lexer": "ipython3",
   "version": "3.7.7"
  }
 },
 "nbformat": 4,
 "nbformat_minor": 5
}
