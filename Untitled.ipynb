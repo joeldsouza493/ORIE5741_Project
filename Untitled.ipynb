{
 "cells": [
  {
   "cell_type": "code",
   "execution_count": 1,
   "metadata": {},
   "outputs": [],
   "source": [
    "import pandas as pd\n",
    "import numpy as np\n",
    "import os\n",
    "import glob\n",
    "import matplotlib.pyplot as plt\n",
    "\n",
    "from sklearn.model_selection import train_test_split\n",
    "from sklearn import preprocessing\n",
    "from sklearn.metrics import mean_squared_error\n",
    "\n",
    "from statsmodels.graphics.tsaplots import plot_acf\n",
    "\n",
    "from sklearn.linear_model import LinearRegression\n",
    "import statsmodels.api as sm"
   ]
  },
  {
   "cell_type": "code",
   "execution_count": 2,
   "metadata": {},
   "outputs": [],
   "source": [
    "wd = os.getcwd()\n",
    "\n",
    "df = pd.read_excel(wd+'/Data/'+'WTI.xlsx')\n",
    "df['Date'] = pd.to_datetime(df['Date'])\n",
    "df['Date'] = df['Date'].dt.strftime('%m-%d-%Y')\n",
    "df.set_index('Date', inplace=True)"
   ]
  },
  {
   "cell_type": "code",
   "execution_count": 3,
   "metadata": {},
   "outputs": [
    {
     "name": "stdout",
     "output_type": "stream",
     "text": [
      "Canada_daily_prod\n",
      "Cass_Freight_Rates\n",
      "China_GDP\n",
      "DAX\n",
      "DowJones\n",
      "Europe_Inflation\n",
      "Europe_IndProd_exConstruction\n",
      "Germany_GDP\n",
      "GT10\n",
      "HangSeng\n",
      "Japan_GDP\n",
      "NG1\n",
      "Nikkei\n",
      "OPEC_daily_prod\n",
      "Russia_GDP\n",
      "Russia_Industrial_Production\n",
      "Russia_daily_prod\n",
      "SPX\n",
      "US_GDP\n",
      "US_Inflation\n",
      "USDEUR\n",
      "US_daily_prod\n",
      "US_IndProd_Index\n",
      "WTI\n"
     ]
    },
    {
     "data": {
      "text/html": [
       "<div>\n",
       "<style scoped>\n",
       "    .dataframe tbody tr th:only-of-type {\n",
       "        vertical-align: middle;\n",
       "    }\n",
       "\n",
       "    .dataframe tbody tr th {\n",
       "        vertical-align: top;\n",
       "    }\n",
       "\n",
       "    .dataframe thead th {\n",
       "        text-align: right;\n",
       "    }\n",
       "</style>\n",
       "<table border=\"1\" class=\"dataframe\">\n",
       "  <thead>\n",
       "    <tr style=\"text-align: right;\">\n",
       "      <th></th>\n",
       "      <th>PX_LAST</th>\n",
       "      <th>PX_VOLUME</th>\n",
       "      <th>PX_LAST_Canada_daily_prod</th>\n",
       "      <th>PX_LAST_Cass_Freight_Rates</th>\n",
       "      <th>PX_LAST_China_GDP</th>\n",
       "      <th>PX_LAST_DAX</th>\n",
       "      <th>PX_LAST_DowJones</th>\n",
       "      <th>PX_LAST_Europe_Inflation</th>\n",
       "      <th>PX_LAST_Europe_IndProd_exConstruction</th>\n",
       "      <th>PX_LAST_Germany_GDP</th>\n",
       "      <th>...</th>\n",
       "      <th>PX_LAST_OPEC_daily_prod</th>\n",
       "      <th>PX_LAST_Russia_GDP</th>\n",
       "      <th>PX_LAST_Russia_Industrial_Production</th>\n",
       "      <th>PX_LAST_Russia_daily_prod</th>\n",
       "      <th>PX_LAST_SPX</th>\n",
       "      <th>PX_LAST_US_GDP</th>\n",
       "      <th>PX_LAST_US_Inflation</th>\n",
       "      <th>PX_LAST_USDEUR</th>\n",
       "      <th>PX_LAST_US_daily_prod</th>\n",
       "      <th>PX_LAST_US_IndProd_Index</th>\n",
       "    </tr>\n",
       "    <tr>\n",
       "      <th>Date</th>\n",
       "      <th></th>\n",
       "      <th></th>\n",
       "      <th></th>\n",
       "      <th></th>\n",
       "      <th></th>\n",
       "      <th></th>\n",
       "      <th></th>\n",
       "      <th></th>\n",
       "      <th></th>\n",
       "      <th></th>\n",
       "      <th></th>\n",
       "      <th></th>\n",
       "      <th></th>\n",
       "      <th></th>\n",
       "      <th></th>\n",
       "      <th></th>\n",
       "      <th></th>\n",
       "      <th></th>\n",
       "      <th></th>\n",
       "      <th></th>\n",
       "      <th></th>\n",
       "    </tr>\n",
       "  </thead>\n",
       "  <tbody>\n",
       "    <tr>\n",
       "      <th>10-29-2021</th>\n",
       "      <td>83.57</td>\n",
       "      <td>485727.0</td>\n",
       "      <td>4121.0</td>\n",
       "      <td>1.184</td>\n",
       "      <td>4.9</td>\n",
       "      <td>15688.77</td>\n",
       "      <td>35819.56</td>\n",
       "      <td>3.4</td>\n",
       "      <td>101.9</td>\n",
       "      <td>2.5</td>\n",
       "      <td>...</td>\n",
       "      <td>27490.0</td>\n",
       "      <td>10.5</td>\n",
       "      <td>6.8</td>\n",
       "      <td>10072.497</td>\n",
       "      <td>4605.38</td>\n",
       "      <td>9.6</td>\n",
       "      <td>5.4</td>\n",
       "      <td>0.8650</td>\n",
       "      <td>11230.181</td>\n",
       "      <td>100.0178</td>\n",
       "    </tr>\n",
       "    <tr>\n",
       "      <th>10-28-2021</th>\n",
       "      <td>82.81</td>\n",
       "      <td>491585.0</td>\n",
       "      <td>4121.0</td>\n",
       "      <td>1.184</td>\n",
       "      <td>4.9</td>\n",
       "      <td>15696.33</td>\n",
       "      <td>35730.48</td>\n",
       "      <td>3.4</td>\n",
       "      <td>101.9</td>\n",
       "      <td>2.5</td>\n",
       "      <td>...</td>\n",
       "      <td>27490.0</td>\n",
       "      <td>10.5</td>\n",
       "      <td>6.8</td>\n",
       "      <td>10072.497</td>\n",
       "      <td>4596.42</td>\n",
       "      <td>9.6</td>\n",
       "      <td>5.4</td>\n",
       "      <td>0.8559</td>\n",
       "      <td>11230.181</td>\n",
       "      <td>100.0178</td>\n",
       "    </tr>\n",
       "    <tr>\n",
       "      <th>10-27-2021</th>\n",
       "      <td>82.66</td>\n",
       "      <td>529952.0</td>\n",
       "      <td>4121.0</td>\n",
       "      <td>1.184</td>\n",
       "      <td>4.9</td>\n",
       "      <td>15705.81</td>\n",
       "      <td>35490.69</td>\n",
       "      <td>3.4</td>\n",
       "      <td>101.9</td>\n",
       "      <td>2.5</td>\n",
       "      <td>...</td>\n",
       "      <td>27490.0</td>\n",
       "      <td>10.5</td>\n",
       "      <td>6.8</td>\n",
       "      <td>10072.497</td>\n",
       "      <td>4551.68</td>\n",
       "      <td>9.6</td>\n",
       "      <td>5.4</td>\n",
       "      <td>0.8618</td>\n",
       "      <td>11230.181</td>\n",
       "      <td>100.0178</td>\n",
       "    </tr>\n",
       "    <tr>\n",
       "      <th>10-26-2021</th>\n",
       "      <td>84.65</td>\n",
       "      <td>467716.0</td>\n",
       "      <td>4121.0</td>\n",
       "      <td>1.184</td>\n",
       "      <td>4.9</td>\n",
       "      <td>15757.06</td>\n",
       "      <td>35756.88</td>\n",
       "      <td>3.4</td>\n",
       "      <td>101.9</td>\n",
       "      <td>2.5</td>\n",
       "      <td>...</td>\n",
       "      <td>27490.0</td>\n",
       "      <td>10.5</td>\n",
       "      <td>6.8</td>\n",
       "      <td>10072.497</td>\n",
       "      <td>4574.79</td>\n",
       "      <td>9.6</td>\n",
       "      <td>5.4</td>\n",
       "      <td>0.8623</td>\n",
       "      <td>11230.181</td>\n",
       "      <td>100.0178</td>\n",
       "    </tr>\n",
       "    <tr>\n",
       "      <th>10-25-2021</th>\n",
       "      <td>83.76</td>\n",
       "      <td>568725.0</td>\n",
       "      <td>4121.0</td>\n",
       "      <td>1.184</td>\n",
       "      <td>4.9</td>\n",
       "      <td>15599.23</td>\n",
       "      <td>35741.15</td>\n",
       "      <td>3.4</td>\n",
       "      <td>101.9</td>\n",
       "      <td>2.5</td>\n",
       "      <td>...</td>\n",
       "      <td>27490.0</td>\n",
       "      <td>10.5</td>\n",
       "      <td>6.8</td>\n",
       "      <td>10072.497</td>\n",
       "      <td>4566.48</td>\n",
       "      <td>9.6</td>\n",
       "      <td>5.4</td>\n",
       "      <td>0.8613</td>\n",
       "      <td>11230.181</td>\n",
       "      <td>100.0178</td>\n",
       "    </tr>\n",
       "    <tr>\n",
       "      <th>...</th>\n",
       "      <td>...</td>\n",
       "      <td>...</td>\n",
       "      <td>...</td>\n",
       "      <td>...</td>\n",
       "      <td>...</td>\n",
       "      <td>...</td>\n",
       "      <td>...</td>\n",
       "      <td>...</td>\n",
       "      <td>...</td>\n",
       "      <td>...</td>\n",
       "      <td>...</td>\n",
       "      <td>...</td>\n",
       "      <td>...</td>\n",
       "      <td>...</td>\n",
       "      <td>...</td>\n",
       "      <td>...</td>\n",
       "      <td>...</td>\n",
       "      <td>...</td>\n",
       "      <td>...</td>\n",
       "      <td>...</td>\n",
       "      <td>...</td>\n",
       "    </tr>\n",
       "    <tr>\n",
       "      <th>08-01-1990</th>\n",
       "      <td>21.62</td>\n",
       "      <td>38007.0</td>\n",
       "      <td>NaN</td>\n",
       "      <td>NaN</td>\n",
       "      <td>NaN</td>\n",
       "      <td>1892.89</td>\n",
       "      <td>2899.26</td>\n",
       "      <td>NaN</td>\n",
       "      <td>NaN</td>\n",
       "      <td>NaN</td>\n",
       "      <td>...</td>\n",
       "      <td>NaN</td>\n",
       "      <td>NaN</td>\n",
       "      <td>NaN</td>\n",
       "      <td>NaN</td>\n",
       "      <td>355.52</td>\n",
       "      <td>NaN</td>\n",
       "      <td>NaN</td>\n",
       "      <td>0.7566</td>\n",
       "      <td>NaN</td>\n",
       "      <td>NaN</td>\n",
       "    </tr>\n",
       "    <tr>\n",
       "      <th>05-01-1990</th>\n",
       "      <td>23.08</td>\n",
       "      <td>50.0</td>\n",
       "      <td>NaN</td>\n",
       "      <td>NaN</td>\n",
       "      <td>NaN</td>\n",
       "      <td>1787.87</td>\n",
       "      <td>2668.92</td>\n",
       "      <td>NaN</td>\n",
       "      <td>NaN</td>\n",
       "      <td>NaN</td>\n",
       "      <td>...</td>\n",
       "      <td>NaN</td>\n",
       "      <td>NaN</td>\n",
       "      <td>NaN</td>\n",
       "      <td>NaN</td>\n",
       "      <td>332.25</td>\n",
       "      <td>NaN</td>\n",
       "      <td>NaN</td>\n",
       "      <td>0.8003</td>\n",
       "      <td>NaN</td>\n",
       "      <td>NaN</td>\n",
       "    </tr>\n",
       "    <tr>\n",
       "      <th>04-01-1990</th>\n",
       "      <td>23.41</td>\n",
       "      <td>2500.0</td>\n",
       "      <td>NaN</td>\n",
       "      <td>NaN</td>\n",
       "      <td>NaN</td>\n",
       "      <td>1787.87</td>\n",
       "      <td>2635.59</td>\n",
       "      <td>NaN</td>\n",
       "      <td>NaN</td>\n",
       "      <td>NaN</td>\n",
       "      <td>...</td>\n",
       "      <td>NaN</td>\n",
       "      <td>NaN</td>\n",
       "      <td>NaN</td>\n",
       "      <td>NaN</td>\n",
       "      <td>332.74</td>\n",
       "      <td>NaN</td>\n",
       "      <td>NaN</td>\n",
       "      <td>0.8175</td>\n",
       "      <td>NaN</td>\n",
       "      <td>NaN</td>\n",
       "    </tr>\n",
       "    <tr>\n",
       "      <th>03-01-1990</th>\n",
       "      <td>23.68</td>\n",
       "      <td>1566.0</td>\n",
       "      <td>NaN</td>\n",
       "      <td>NaN</td>\n",
       "      <td>NaN</td>\n",
       "      <td>1787.87</td>\n",
       "      <td>2635.59</td>\n",
       "      <td>NaN</td>\n",
       "      <td>NaN</td>\n",
       "      <td>NaN</td>\n",
       "      <td>...</td>\n",
       "      <td>NaN</td>\n",
       "      <td>NaN</td>\n",
       "      <td>NaN</td>\n",
       "      <td>NaN</td>\n",
       "      <td>332.74</td>\n",
       "      <td>NaN</td>\n",
       "      <td>NaN</td>\n",
       "      <td>0.8175</td>\n",
       "      <td>NaN</td>\n",
       "      <td>NaN</td>\n",
       "    </tr>\n",
       "    <tr>\n",
       "      <th>02-01-1990</th>\n",
       "      <td>22.89</td>\n",
       "      <td>719.0</td>\n",
       "      <td>NaN</td>\n",
       "      <td>NaN</td>\n",
       "      <td>NaN</td>\n",
       "      <td>1858.08</td>\n",
       "      <td>2586.26</td>\n",
       "      <td>NaN</td>\n",
       "      <td>NaN</td>\n",
       "      <td>NaN</td>\n",
       "      <td>...</td>\n",
       "      <td>NaN</td>\n",
       "      <td>NaN</td>\n",
       "      <td>NaN</td>\n",
       "      <td>NaN</td>\n",
       "      <td>328.79</td>\n",
       "      <td>NaN</td>\n",
       "      <td>NaN</td>\n",
       "      <td>0.8068</td>\n",
       "      <td>NaN</td>\n",
       "      <td>NaN</td>\n",
       "    </tr>\n",
       "  </tbody>\n",
       "</table>\n",
       "<p>8006 rows × 25 columns</p>\n",
       "</div>"
      ],
      "text/plain": [
       "            PX_LAST  PX_VOLUME  PX_LAST_Canada_daily_prod  \\\n",
       "Date                                                        \n",
       "10-29-2021    83.57   485727.0                     4121.0   \n",
       "10-28-2021    82.81   491585.0                     4121.0   \n",
       "10-27-2021    82.66   529952.0                     4121.0   \n",
       "10-26-2021    84.65   467716.0                     4121.0   \n",
       "10-25-2021    83.76   568725.0                     4121.0   \n",
       "...             ...        ...                        ...   \n",
       "08-01-1990    21.62    38007.0                        NaN   \n",
       "05-01-1990    23.08       50.0                        NaN   \n",
       "04-01-1990    23.41     2500.0                        NaN   \n",
       "03-01-1990    23.68     1566.0                        NaN   \n",
       "02-01-1990    22.89      719.0                        NaN   \n",
       "\n",
       "            PX_LAST_Cass_Freight_Rates  PX_LAST_China_GDP  PX_LAST_DAX  \\\n",
       "Date                                                                     \n",
       "10-29-2021                       1.184                4.9     15688.77   \n",
       "10-28-2021                       1.184                4.9     15696.33   \n",
       "10-27-2021                       1.184                4.9     15705.81   \n",
       "10-26-2021                       1.184                4.9     15757.06   \n",
       "10-25-2021                       1.184                4.9     15599.23   \n",
       "...                                ...                ...          ...   \n",
       "08-01-1990                         NaN                NaN      1892.89   \n",
       "05-01-1990                         NaN                NaN      1787.87   \n",
       "04-01-1990                         NaN                NaN      1787.87   \n",
       "03-01-1990                         NaN                NaN      1787.87   \n",
       "02-01-1990                         NaN                NaN      1858.08   \n",
       "\n",
       "            PX_LAST_DowJones  PX_LAST_Europe_Inflation  \\\n",
       "Date                                                     \n",
       "10-29-2021          35819.56                       3.4   \n",
       "10-28-2021          35730.48                       3.4   \n",
       "10-27-2021          35490.69                       3.4   \n",
       "10-26-2021          35756.88                       3.4   \n",
       "10-25-2021          35741.15                       3.4   \n",
       "...                      ...                       ...   \n",
       "08-01-1990           2899.26                       NaN   \n",
       "05-01-1990           2668.92                       NaN   \n",
       "04-01-1990           2635.59                       NaN   \n",
       "03-01-1990           2635.59                       NaN   \n",
       "02-01-1990           2586.26                       NaN   \n",
       "\n",
       "            PX_LAST_Europe_IndProd_exConstruction  PX_LAST_Germany_GDP  ...  \\\n",
       "Date                                                                    ...   \n",
       "10-29-2021                                  101.9                  2.5  ...   \n",
       "10-28-2021                                  101.9                  2.5  ...   \n",
       "10-27-2021                                  101.9                  2.5  ...   \n",
       "10-26-2021                                  101.9                  2.5  ...   \n",
       "10-25-2021                                  101.9                  2.5  ...   \n",
       "...                                           ...                  ...  ...   \n",
       "08-01-1990                                    NaN                  NaN  ...   \n",
       "05-01-1990                                    NaN                  NaN  ...   \n",
       "04-01-1990                                    NaN                  NaN  ...   \n",
       "03-01-1990                                    NaN                  NaN  ...   \n",
       "02-01-1990                                    NaN                  NaN  ...   \n",
       "\n",
       "            PX_LAST_OPEC_daily_prod  PX_LAST_Russia_GDP  \\\n",
       "Date                                                      \n",
       "10-29-2021                  27490.0                10.5   \n",
       "10-28-2021                  27490.0                10.5   \n",
       "10-27-2021                  27490.0                10.5   \n",
       "10-26-2021                  27490.0                10.5   \n",
       "10-25-2021                  27490.0                10.5   \n",
       "...                             ...                 ...   \n",
       "08-01-1990                      NaN                 NaN   \n",
       "05-01-1990                      NaN                 NaN   \n",
       "04-01-1990                      NaN                 NaN   \n",
       "03-01-1990                      NaN                 NaN   \n",
       "02-01-1990                      NaN                 NaN   \n",
       "\n",
       "            PX_LAST_Russia_Industrial_Production  PX_LAST_Russia_daily_prod  \\\n",
       "Date                                                                          \n",
       "10-29-2021                                   6.8                  10072.497   \n",
       "10-28-2021                                   6.8                  10072.497   \n",
       "10-27-2021                                   6.8                  10072.497   \n",
       "10-26-2021                                   6.8                  10072.497   \n",
       "10-25-2021                                   6.8                  10072.497   \n",
       "...                                          ...                        ...   \n",
       "08-01-1990                                   NaN                        NaN   \n",
       "05-01-1990                                   NaN                        NaN   \n",
       "04-01-1990                                   NaN                        NaN   \n",
       "03-01-1990                                   NaN                        NaN   \n",
       "02-01-1990                                   NaN                        NaN   \n",
       "\n",
       "            PX_LAST_SPX  PX_LAST_US_GDP  PX_LAST_US_Inflation  PX_LAST_USDEUR  \\\n",
       "Date                                                                            \n",
       "10-29-2021      4605.38             9.6                   5.4          0.8650   \n",
       "10-28-2021      4596.42             9.6                   5.4          0.8559   \n",
       "10-27-2021      4551.68             9.6                   5.4          0.8618   \n",
       "10-26-2021      4574.79             9.6                   5.4          0.8623   \n",
       "10-25-2021      4566.48             9.6                   5.4          0.8613   \n",
       "...                 ...             ...                   ...             ...   \n",
       "08-01-1990       355.52             NaN                   NaN          0.7566   \n",
       "05-01-1990       332.25             NaN                   NaN          0.8003   \n",
       "04-01-1990       332.74             NaN                   NaN          0.8175   \n",
       "03-01-1990       332.74             NaN                   NaN          0.8175   \n",
       "02-01-1990       328.79             NaN                   NaN          0.8068   \n",
       "\n",
       "            PX_LAST_US_daily_prod  PX_LAST_US_IndProd_Index  \n",
       "Date                                                         \n",
       "10-29-2021              11230.181                  100.0178  \n",
       "10-28-2021              11230.181                  100.0178  \n",
       "10-27-2021              11230.181                  100.0178  \n",
       "10-26-2021              11230.181                  100.0178  \n",
       "10-25-2021              11230.181                  100.0178  \n",
       "...                           ...                       ...  \n",
       "08-01-1990                    NaN                       NaN  \n",
       "05-01-1990                    NaN                       NaN  \n",
       "04-01-1990                    NaN                       NaN  \n",
       "03-01-1990                    NaN                       NaN  \n",
       "02-01-1990                    NaN                       NaN  \n",
       "\n",
       "[8006 rows x 25 columns]"
      ]
     },
     "execution_count": 3,
     "metadata": {},
     "output_type": "execute_result"
    }
   ],
   "source": [
    "#Load Features\n",
    "\n",
    "xlsx_files = glob.glob(os.path.join(wd, 'Data', \"*.xlsx\"))\n",
    "\n",
    "for file in xlsx_files:\n",
    "    data_name = file.split(\"\\\\\")[-1].split('.')[0]\n",
    "    data_name = data_name.replace(\" \", \"_\")\n",
    "    print(data_name)\n",
    "    if data_name == 'WTI':\n",
    "        continue\n",
    "        \n",
    "    df_temp = pd.read_excel(file)\n",
    "    df_temp['Date'] = pd.to_datetime(df_temp['Date'])\n",
    "    df_temp['Date'] = df_temp['Date'].dt.strftime('%m-%d-%Y')\n",
    "    df_temp.set_index('Date', inplace=True)\n",
    "    \n",
    "    df[df_temp.columns[0] + '_' + data_name] = df_temp[df_temp.columns[0]]\n",
    "\n",
    "#backfill data for other frequencies\n",
    "df.fillna(method='bfill', inplace=True)\n",
    "df"
   ]
  },
  {
   "cell_type": "code",
   "execution_count": 4,
   "metadata": {},
   "outputs": [
    {
     "data": {
      "image/png": "[encoded data removed]",
      "text/plain": [
       "<Figure size 432x288 with 1 Axes>"
      ]
     },
     "metadata": {
      "needs_background": "light"
     },
     "output_type": "display_data"
    }
   ],
   "source": [
    "df_t = df.copy()\n",
    "ax = df_t[df_t.columns[0]][::-1].plot()\n",
    "ax.set_ylabel(\"WTI Price\")\n",
    "ax.set_title('WTI Price (1990-2021)')\n",
    "df_t = df_t[::-1]"
   ]
  },
  {
   "cell_type": "code",
   "execution_count": 5,
   "metadata": {},
   "outputs": [],
   "source": [
    "#Dict for frequency adjustment\n",
    "cols_freq = {\n",
    "    'PX_LAST':\"daily\",\n",
    "    'PX_VOLUME':\"daily\",\n",
    "    'PX_LAST_DowJones':\"daily\",\n",
    "    'PX_MID_GT10':\"daily\",\n",
    "    'PX_LAST_HangSeng':\"daily\",\n",
    "    'PX_LAST_Nikkei':\"daily\",\n",
    "    'PX_LAST_SPX':\"daily\",\n",
    "    'PX_LAST_USDEUR':\"daily\",\n",
    "    'PX_LAST_NG1':\"daily\",\n",
    "    'PX_LAST_DAX':\"daily\",\n",
    "    'PX_LAST_US_daily_prod':\"monthly\",\n",
    "    'PX_LAST_Cass_Freight_Rates':\"monthly\",\n",
    "    'PX_LAST_Canada_daily_prod':\"monthly\",\n",
    "    'PX_LAST_Russia_daily_prod':\"monthly\",\n",
    "    'PX_LAST_OPEC_daily_prod':\"monthly\",\n",
    "    'PX_LAST_US_Inflation':\"monthly\",\n",
    "    'PX_LAST_Europe_Inflation':\"monthly\",\n",
    "    'PX_LAST_Europe_IndProd_exConstruction':\"monthly\",\n",
    "    'PX_LAST_Russia_Industrial_Production':\"monthly\",\n",
    "    'PX_LAST_US_IndProd_Index':\"monthly\",\n",
    "    'PX_LAST_China_GDP':\"quarterly\",\n",
    "    'PX_LAST_Germany_GDP':\"quarterly\",\n",
    "    'PX_LAST_Japan_GDP':\"quarterly\",\n",
    "    'PX_LAST_Russia_GDP':\"quarterly\",\n",
    "    'PX_LAST_US_GDP':\"quarterly\",\n",
    "    'PX_Sign':'daily',\n",
    "}"
   ]
  },
  {
   "cell_type": "code",
   "execution_count": 6,
   "metadata": {},
   "outputs": [],
   "source": [
    "def ma(df, column, freq = \"monthly\"):\n",
    "    if freq == \"monthly\":\n",
    "        df[df.columns[column] + '_SMA22'] = df[df.columns[column]]\n",
    "        for i in range(0, len(df[df.columns[column]])-22):\n",
    "            df.iloc[i, -1] = np.mean(df.iloc[i:i+22, -2])\n",
    "    elif freq == \"quarterly\":\n",
    "        df[df.columns[column] + '_SMA65'] = df[df.columns[column]]\n",
    "        for i in range(0, len(df[df.columns[column]])-65):\n",
    "            df.iloc[i, -1] = np.mean(df.iloc[i:i+65, -2])\n",
    "    return df\n",
    "\n",
    "def daily_lag(df, column, lag):\n",
    "    lag = lag+1\n",
    "    for i in range(1, lag):\n",
    "        df[df.columns[column] + '_t-' + str(i)] = df[df.columns[column]].shift(-i)\n",
    "    \n",
    "    return df\n",
    "\n",
    "def lag_data(df, column, freq = \"monthly\"):\n",
    "    if freq == \"monthly\":\n",
    "        df[df.columns[column] + '_M'] = df[df.columns[column]].shift(-22)\n",
    "    elif freq == \"quarterly\":\n",
    "        df[df.columns[column] + '_Q'] = df[df.columns[column]].shift(-65)\n",
    "    elif freq == \"weekly\":\n",
    "        df[df.columns[column] + '_W'] = df[df.columns[column]].shift(-10)\n",
    "    else:\n",
    "        raise ValueError(\"Frequency invalid\")\n",
    "        \n",
    "    return df"
   ]
  },
  {
   "cell_type": "code",
   "execution_count": 7,
   "metadata": {},
   "outputs": [],
   "source": [
    "def get_lag_ma_data(df, daily_lags = 1, cols_freq=cols_freq):\n",
    "    for i in range(len(df.columns)):\n",
    "        column_name = df.columns[i]\n",
    "        \n",
    "        if cols_freq[column_name] == 'daily':\n",
    "            df = daily_lag(df, i, daily_lags)\n",
    "        else:\n",
    "            df = lag_data(df, i, cols_freq[column_name])\n",
    "            df = ma(df, i, cols_freq[column_name])\n",
    "    return df"
   ]
  },
  {
   "cell_type": "code",
   "execution_count": 8,
   "metadata": {},
   "outputs": [],
   "source": [
    "import warnings\n",
    "warnings.filterwarnings(\"ignore\")\n",
    "\n",
    "def get_final_data(df, features, target='Last_PX'):\n",
    "#     if target == classification:\n",
    "#         features = ['PX_LAST'] + features\n",
    "\n",
    "#     n = len(target + features)\n",
    "    n = len(features)\n",
    "#     df_trial = get_lag_ma_data(df[target + features]).dropna()\n",
    "    df_trial = get_lag_ma_data(df).dropna()\n",
    "    \n",
    "    df_target = df_trial[target]\n",
    "    df_features = df_trial.iloc[:, n+1:]\n",
    "    \n",
    "    return df_target, df_features"
   ]
  },
  {
   "cell_type": "code",
   "execution_count": 9,
   "metadata": {},
   "outputs": [],
   "source": [
    "# Feature Categories by Type\n",
    "fin_indices = ['PX_LAST_DAX', 'PX_LAST_DowJones', 'PX_MID_GT10',\n",
    "           'PX_LAST_HangSeng', 'PX_LAST_Nikkei', 'PX_LAST_SPX',\n",
    "           'PX_LAST_USDEUR']\n",
    "nat_gas = ['PX_LAST_NG1']\n",
    "gdp = ['PX_LAST_China_GDP', 'PX_LAST_Germany_GDP', 'PX_LAST_Japan_GDP',\n",
    "       'PX_LAST_Russia_GDP', 'PX_LAST_US_GDP']\n",
    "oil_prod = ['PX_LAST_Canada_daily_prod', 'PX_LAST_Russia_daily_prod',\n",
    "            'PX_LAST_OPEC_daily_prod', 'PX_LAST_US_daily_prod']\n",
    "freight = ['PX_LAST_Cass_Freight_Rates']\n",
    "inflation = ['PX_LAST_US_Inflation', 'PX_LAST_Europe_Inflation']\n",
    "ind_prod = ['PX_LAST_Europe_IndProd_exConstruction', \n",
    "            'PX_LAST_Russia_Industrial_Production',\n",
    "            'PX_LAST_US_IndProd_Index']"
   ]
  },
  {
   "cell_type": "code",
   "execution_count": 10,
   "metadata": {},
   "outputs": [],
   "source": [
    "# Feature Categories by Date Range\n",
    "feat_1992 = ['PX_LAST_DAX', 'PX_LAST_DowJones', 'PX_MID_GT10', \n",
    "             'PX_LAST_HangSeng', 'PX_LAST_Nikkei', 'PX_LAST_SPX', \n",
    "             'PX_LAST_USDEUR', 'PX_LAST_NG1', 'PX_LAST_China_GDP', \n",
    "             'PX_LAST_Germany_GDP', 'PX_LAST_US_GDP', 'PX_LAST_US_daily_prod', \n",
    "             'PX_LAST_Cass_Freight_Rates', 'PX_LAST_US_Inflation', \n",
    "             'PX_LAST_Europe_IndProd_exConstruction', 'PX_LAST_US_IndProd_Index']\n",
    "feat_1996 = feat_1992 + ['PX_LAST_Japan_GDP', 'PX_LAST_Russia_GDP',\n",
    "                         'PX_LAST_Canada_daily_prod', 'PX_LAST_Russia_daily_prod']\n",
    "feat_2000 = feat_1996 + ['PX_LAST_OPEC_daily_prod', 'PX_LAST_Europe_Inflation']\n",
    "feat_2002 = feat_2000 + ['PX_LAST_Russia_Industrial_Production']"
   ]
  },
  {
   "cell_type": "code",
   "execution_count": 11,
   "metadata": {},
   "outputs": [],
   "source": [
    "\n",
    "df_main = df_t.copy()\n",
    "features = feat_2002\n",
    "df_main\n",
    "target, features = get_final_data(df=df_main, \n",
    "                                      features=features,\n",
    "                                      target='PX_LAST')\n"
   ]
  },
  {
   "cell_type": "code",
   "execution_count": 12,
   "metadata": {},
   "outputs": [],
   "source": [
    "# https://machinelearningmastery.com/how-to-transform-target-variables-for-regression-with-scikit-learn/\n",
    "# https://machinelearningmastery.com/robust-scaler-transforms-for-machine-learning/"
   ]
  },
  {
   "cell_type": "code",
   "execution_count": 13,
   "metadata": {},
   "outputs": [],
   "source": [
    "# https://machinelearningmastery.com/backtest-machine-learning-models-time-series-forecasting/\n",
    "# https://medium.com/@subpath/backtesting-time-series-models-weekend-of-a-data-scientist-92079cc2c540\n",
    "\n",
    "def backtest_model_val(X, y, n_splits=100, model_name=''):\n",
    "    predictions = []\n",
    "    true_values = []\n",
    "    \n",
    "    splits = TimeSeriesSplit(n_splits=n_splits)\n",
    "    \n",
    "    for train_index, val_index in splits.split(X):\n",
    "        x_train = X[train_index]\n",
    "        y_train = y[train_index]\n",
    "        x_val = X[val_index]\n",
    "        y_val = y[val_index]\n",
    "        \n",
    "        model = LinearRegression()\n",
    "        model.fit(x_train, y_train)\n",
    "        \n",
    "        predictions.append(model.predict(x_val))\n",
    "        true_values.append(y_val)\n",
    "        \n",
    "    return true_values, predictions\n",
    "\n"
   ]
  },
  {
   "cell_type": "code",
   "execution_count": 14,
   "metadata": {},
   "outputs": [],
   "source": [
    "train_n = int(len(target) * 0.8)\n",
    "train_X = features[:train_n].to_numpy()\n",
    "train_y = target[:train_n].to_numpy()\n",
    "test_X = features[train_n:].to_numpy()\n",
    "test_y = target[train_n:].to_numpy()"
   ]
  },
  {
   "cell_type": "code",
   "execution_count": 15,
   "metadata": {},
   "outputs": [],
   "source": [
    "from sklearn.model_selection import TimeSeriesSplit\n",
    "\n",
    "splits = TimeSeriesSplit(n_splits=100)\n",
    "\n",
    "split_train_X = []\n",
    "split_val_X = []\n",
    "split_train_y = []\n",
    "split_val_y = []\n",
    "\n",
    "for train_index, val_index in splits.split(train_X):\n",
    "    split_train_X.append(train_X[train_index])\n",
    "    split_train_y.append(train_y[train_index])\n",
    "    split_val_X.append(train_X[val_index])\n",
    "    split_val_y.append(train_y[val_index])\n",
    "    "
   ]
  },
  {
   "cell_type": "code",
   "execution_count": 16,
   "metadata": {},
   "outputs": [],
   "source": [
    "from sklearn.compose import TransformedTargetRegressor\n",
    "from sklearn.preprocessing import RobustScaler\n",
    "from sklearn import linear_model"
   ]
  },
  {
   "cell_type": "code",
   "execution_count": 18,
   "metadata": {},
   "outputs": [],
   "source": [
    "alphas = np.arange(0.05, 1.01, 0.05)\n",
    "alpha_rmse = []\n",
    "\n",
    "for alpha in alphas:\n",
    "    transformer = RobustScaler\n",
    "    model = linear_model.Lasso(alpha=alpha)\n",
    "    rmse = []\n",
    "    for i in range(len(split_train_X)):\n",
    "        wrapped_model = TransformedTargetRegressor(regressor=model, transformer=RobustScaler())\n",
    "        wrapped_model.fit(split_train_X[i], split_train_y[i])\n",
    "        yhat = wrapped_model.predict(split_val_X[i])\n",
    "        rmse.append(np.mean((yhat-split_val_y[i])**2))\n",
    "    alpha_rmse.append(np.mean(rmse))"
   ]
  },
  {
   "cell_type": "code",
   "execution_count": 19,
   "metadata": {},
   "outputs": [
    {
     "name": "stdout",
     "output_type": "stream",
     "text": [
      "efficient alpha:  0.05\n"
     ]
    }
   ],
   "source": [
    "best_lambda = alphas[np.argmin(alpha_rmse)]\n",
    "print('efficient alpha: ', best_lambda)"
   ]
  },
  {
   "cell_type": "code",
   "execution_count": 20,
   "metadata": {},
   "outputs": [
    {
     "data": {
      "text/plain": [
       "(60.0, 70.0)"
      ]
     },
     "execution_count": 20,
     "metadata": {},
     "output_type": "execute_result"
    },
    {
     "data": {
      "image/png": "[encoded data removed]",
      "text/plain": [
       "<Figure size 432x288 with 1 Axes>"
      ]
     },
     "metadata": {
      "needs_background": "light"
     },
     "output_type": "display_data"
    }
   ],
   "source": [
    "model = linear_model.Lasso(alpha=best_lambda)\n",
    "wrapped_model = TransformedTargetRegressor(regressor=model, transformer=RobustScaler())\n",
    "wrapped_model.fit(train_X, train_y)\n",
    "yhat = wrapped_model.predict(test_X)\n",
    "plt.plot(yhat, label='pred')\n",
    "plt.plot(test_y, label='true')\n",
    "plt.legend()\n",
    "plt.xlim(400,410)\n",
    "plt.ylim(60,70)"
   ]
  },
  {
   "cell_type": "code",
   "execution_count": 21,
   "metadata": {},
   "outputs": [],
   "source": [
    "alphas = np.arange(0.05, 1.01, 0.05)\n",
    "alpha_rmse = []\n",
    "\n",
    "for alpha in alphas:                     \n",
    "    transformer = RobustScaler\n",
    "    model = linear_model.HuberRegressor(alpha=alpha)\n",
    "    rmse = []\n",
    "    for i in range(len(split_train_X)):\n",
    "        wrapped_model = TransformedTargetRegressor(regressor=model, transformer=RobustScaler())\n",
    "        wrapped_model.fit(split_train_X[i], split_train_y[i])\n",
    "        yhat = wrapped_model.predict(split_val_X[i])\n",
    "        rmse.append(np.mean((yhat-split_val_y[i])**2))\n",
    "    alpha_rmse.append(np.mean(rmse))"
   ]
  },
  {
   "cell_type": "code",
   "execution_count": 22,
   "metadata": {},
   "outputs": [
    {
     "name": "stdout",
     "output_type": "stream",
     "text": [
      "efficient alpha:  0.05\n"
     ]
    }
   ],
   "source": [
    "best_lambda_Huber = alphas[np.argmin(alpha_rmse)]\n",
    "print('efficient alpha: ', best_lambda)"
   ]
  },
  {
   "cell_type": "code",
   "execution_count": 23,
   "metadata": {},
   "outputs": [
    {
     "data": {
      "text/plain": [
       "<matplotlib.legend.Legend at 0x25027b58248>"
      ]
     },
     "execution_count": 23,
     "metadata": {},
     "output_type": "execute_result"
    },
    {
     "data": {
      "image/png": "[encoded data removed]",
      "text/plain": [
       "<Figure size 432x288 with 1 Axes>"
      ]
     },
     "metadata": {
      "needs_background": "light"
     },
     "output_type": "display_data"
    }
   ],
   "source": [
    "model = linear_model.HuberRegressor(alpha=best_lambda_Huber)\n",
    "wrapped_model = TransformedTargetRegressor(regressor=model, transformer=RobustScaler())\n",
    "wrapped_model.fit(train_X, train_y)\n",
    "yhat = wrapped_model.predict(test_X)\n",
    "\n",
    "plt.plot(yhat, label='pred')\n",
    "plt.plot(test_y, label='true')\n",
    "plt.legend()"
   ]
  },
  {
   "cell_type": "code",
   "execution_count": null,
   "metadata": {},
   "outputs": [],
   "source": []
  },
  {
   "cell_type": "code",
   "execution_count": null,
   "metadata": {},
   "outputs": [],
   "source": []
  },
  {
   "cell_type": "code",
   "execution_count": null,
   "metadata": {},
   "outputs": [],
   "source": []
  },
  {
   "cell_type": "code",
   "execution_count": 27,
   "metadata": {},
   "outputs": [
    {
     "name": "stdout",
     "output_type": "stream",
     "text": [
      "est 950\n",
      "est 960\n",
      "est 970\n",
      "est 980\n",
      "est 990\n"
     ]
    }
   ],
   "source": [
    "from sklearn.ensemble import RandomForestRegressor\n",
    "\n",
    "estimators = np.arange(950, 1000, 10)\n",
    "estimator_rmse = []\n",
    "\n",
    "for estimator in estimators:                     \n",
    "    model = RandomForestRegressor(n_estimators=estimator)\n",
    "    rmse = []\n",
    "    print('est', estimator)\n",
    "    model.fit(split_train_X[-1], split_train_y[-1])\n",
    "    yhat = model.predict(split_val_X[-1])\n",
    "    rmse.append(np.mean((yhat-split_val_y[-1])**2))\n",
    "    estimator_rmse.append(np.mean(rmse))"
   ]
  },
  {
   "cell_type": "code",
   "execution_count": 28,
   "metadata": {},
   "outputs": [
    {
     "name": "stdout",
     "output_type": "stream",
     "text": [
      "efficient n_estimators RF:  980\n"
     ]
    }
   ],
   "source": [
    "best_estimator_RF = estimators[np.argmin(estimator_rmse)]\n",
    "print('efficient n_estimators RF: ', best_estimator_RF)"
   ]
  },
  {
   "cell_type": "code",
   "execution_count": 39,
   "metadata": {},
   "outputs": [
    {
     "data": {
      "text/plain": [
       "(60.0, 70.0)"
      ]
     },
     "execution_count": 39,
     "metadata": {},
     "output_type": "execute_result"
    },
    {
     "data": {
      "image/png": "[encoded data removed]",
      "text/plain": [
       "<Figure size 432x288 with 1 Axes>"
      ]
     },
     "metadata": {
      "needs_background": "light"
     },
     "output_type": "display_data"
    }
   ],
   "source": [
    "model = RandomForestRegressor(n_estimators=best_estimator_RF)\n",
    "model.fit(train_X, train_y)\n",
    "yhat = model.predict(test_X)\n",
    "\n",
    "plt.plot(yhat, label='pred')\n",
    "plt.plot(test_y, label='true')\n",
    "plt.legend()\n",
    "plt.xlim(400,410)\n",
    "plt.ylim(60,70)"
   ]
  },
  {
   "cell_type": "code",
   "execution_count": null,
   "metadata": {},
   "outputs": [],
   "source": []
  },
  {
   "cell_type": "code",
   "execution_count": 31,
   "metadata": {},
   "outputs": [
    {
     "name": "stdout",
     "output_type": "stream",
     "text": [
      "Requirement already satisfied: xgboost==1.0.1 in c:\\users\\joel\\appdata\\local\\programs\\python\\python37\\lib\\site-packages (1.0.1)\n",
      "Requirement already satisfied: scipy in c:\\users\\joel\\appdata\\local\\programs\\python\\python37\\lib\\site-packages (from xgboost==1.0.1) (1.7.1)\n",
      "Requirement already satisfied: numpy in c:\\users\\joel\\appdata\\local\\programs\\python\\python37\\lib\\site-packages (from xgboost==1.0.1) (1.18.2)\n"
     ]
    }
   ],
   "source": [
    "!pip install xgboost==1.0.1"
   ]
  },
  {
   "cell_type": "code",
   "execution_count": 35,
   "metadata": {},
   "outputs": [],
   "source": [
    "estimators = np.arange(500, 1001, 100)\n",
    "estimator_rmse = []\n",
    "\n",
    "import xgboost as xgb\n",
    "\n",
    "for estimator in estimators:                     \n",
    "    transformer = RobustScaler\n",
    "    model = xgb.XGBRegressor(n_estimators=estimator, subsample=1.0)\n",
    "    rmse = []\n",
    "    wrapped_model = TransformedTargetRegressor(regressor=model, transformer=RobustScaler())\n",
    "    wrapped_model.fit(split_train_X[-1], split_train_y[-1])\n",
    "    yhat = wrapped_model.predict(split_val_X[i])\n",
    "    rmse.append(np.mean((yhat-split_val_y[i])**2))\n",
    "    estimator_rmse.append(np.mean(rmse))\n",
    "\n"
   ]
  },
  {
   "cell_type": "code",
   "execution_count": 44,
   "metadata": {},
   "outputs": [
    {
     "name": "stdout",
     "output_type": "stream",
     "text": [
      "efficient n_estimators XGB:  600\n"
     ]
    }
   ],
   "source": [
    "best_estimator_xgb = estimators[np.argmin(estimator_rmse)]\n",
    "print('efficient n_estimators XGB: ', best_estimator_xgb)"
   ]
  },
  {
   "cell_type": "code",
   "execution_count": 53,
   "metadata": {},
   "outputs": [
    {
     "data": {
      "text/plain": [
       "<matplotlib.legend.Legend at 0x2504d2c8ac8>"
      ]
     },
     "execution_count": 53,
     "metadata": {},
     "output_type": "execute_result"
    },
    {
     "data": {
      "image/png": "[encoded data removed]",
      "text/plain": [
       "<Figure size 432x288 with 1 Axes>"
      ]
     },
     "metadata": {
      "needs_background": "light"
     },
     "output_type": "display_data"
    }
   ],
   "source": [
    "model = xgb.XGBRegressor(n_estimators=best_estimator_xgb, subsample=1.0)\n",
    "\n",
    "wrapped_model = TransformedTargetRegressor(regressor=model, transformer=RobustScaler())\n",
    "wrapped_model.fit(train_X, train_y)\n",
    "yhat = wrapped_model.predict(test_X)\n",
    "\n",
    "plt.plot(yhat, label='pred')\n",
    "plt.plot(test_y, label='true')\n",
    "plt.legend()"
   ]
  },
  {
   "cell_type": "code",
   "execution_count": 54,
   "metadata": {},
   "outputs": [
    {
     "data": {
      "text/plain": [
       "(60.0, 70.0)"
      ]
     },
     "execution_count": 54,
     "metadata": {},
     "output_type": "execute_result"
    },
    {
     "data": {
      "image/png": "[encoded data removed]",
      "text/plain": [
       "<Figure size 432x288 with 1 Axes>"
      ]
     },
     "metadata": {
      "needs_background": "light"
     },
     "output_type": "display_data"
    }
   ],
   "source": [
    "plt.plot(yhat, label='pred')\n",
    "plt.plot(test_y, label='true')\n",
    "plt.legend()\n",
    "plt.xlim(400,410)\n",
    "plt.ylim(60,70)"
   ]
  },
  {
   "cell_type": "code",
   "execution_count": 47,
   "metadata": {},
   "outputs": [],
   "source": [
    "from sklearn.neighbors import KNeighborsRegressor\n",
    "\n",
    "ks = np.arange(1, 51, 3)\n",
    "k_rmse = []\n",
    "\n",
    "for k in ks:\n",
    "    model = KNeighborsRegressor(n_neighbors=k)\n",
    "    rmse = []\n",
    "    for i in range(len(split_train_X)):\n",
    "        wrapped_model = TransformedTargetRegressor(regressor=model, transformer=RobustScaler())\n",
    "        wrapped_model.fit(split_train_X[i], split_train_y[i])\n",
    "        yhat = wrapped_model.predict(split_val_X[i])\n",
    "        rmse.append(np.mean((yhat-split_val_y[i])**2))\n",
    "    k_rmse.append(np.mean(rmse))"
   ]
  },
  {
   "cell_type": "code",
   "execution_count": 48,
   "metadata": {},
   "outputs": [
    {
     "name": "stdout",
     "output_type": "stream",
     "text": [
      "efficient k:  1\n"
     ]
    }
   ],
   "source": [
    "best_k = ks[np.argmin(k_rmse)]\n",
    "print('efficient k: ', best_k)"
   ]
  },
  {
   "cell_type": "code",
   "execution_count": 50,
   "metadata": {},
   "outputs": [],
   "source": [
    "model = KNeighborsRegressor(n_neighbors=best_k)\n",
    "wrapped_model = TransformedTargetRegressor(regressor=model, transformer=RobustScaler())\n",
    "wrapped_model.fit(train_X, train_y)\n",
    "yhat = wrapped_model.predict(test_X)"
   ]
  },
  {
   "cell_type": "code",
   "execution_count": 52,
   "metadata": {},
   "outputs": [
    {
     "data": {
      "text/plain": [
       "<matplotlib.legend.Legend at 0x2504d246b88>"
      ]
     },
     "execution_count": 52,
     "metadata": {},
     "output_type": "execute_result"
    },
    {
     "data": {
      "image/png": "[encoded data removed]",
      "text/plain": [
       "<Figure size 432x288 with 1 Axes>"
      ]
     },
     "metadata": {
      "needs_background": "light"
     },
     "output_type": "display_data"
    }
   ],
   "source": [
    "plt.plot(yhat, label='pred')\n",
    "plt.plot(test_y, label='true')\n",
    "plt.legend()\n",
    "# plt.xlim(400,410)\n",
    "# plt.ylim(60,70)"
   ]
  },
  {
   "cell_type": "code",
   "execution_count": 60,
   "metadata": {},
   "outputs": [],
   "source": [
    "from sklearn.ensemble import StackingRegressor"
   ]
  },
  {
   "cell_type": "code",
   "execution_count": 62,
   "metadata": {},
   "outputs": [],
   "source": [
    "level0 = list()\n",
    "level0.append(('knn', TransformedTargetRegressor(regressor=KNeighborsRegressor(n_neighbors=best_k), transformer=RobustScaler())))\n",
    "level0.append(('xgb', TransformedTargetRegressor(regressor=xgb.XGBRegressor(n_estimators=best_estimator_xgb, subsample=1.0)\n",
    "                                                 , transformer=RobustScaler())))\n",
    "level0.append(('rf', TransformedTargetRegressor(regressor=RandomForestRegressor(n_estimators=best_estimator_RF), transformer=RobustScaler())))\n",
    "level0.append(('huber', TransformedTargetRegressor(regressor=linear_model.HuberRegressor(alpha=best_lambda_Huber), transformer=RobustScaler())))\n",
    "level0.append(('lasso', TransformedTargetRegressor(regressor=linear_model.Lasso(alpha=best_lambda), transformer=RobustScaler())))\n",
    "level1 = LinearRegression()\n",
    "              \n",
    "model = StackingRegressor(estimators=level0, final_estimator=level1)\n",
    "model.fit(train_X, train_y)\n",
    "yhat = model.predict(test_X)"
   ]
  },
  {
   "cell_type": "code",
   "execution_count": 69,
   "metadata": {},
   "outputs": [
    {
     "data": {
      "text/plain": [
       "(35.0, 45.0)"
      ]
     },
     "execution_count": 69,
     "metadata": {},
     "output_type": "execute_result"
    },
    {
     "data": {
      "image/png": "[encoded data removed]",
      "text/plain": [
       "<Figure size 432x288 with 1 Axes>"
      ]
     },
     "metadata": {
      "needs_background": "light"
     },
     "output_type": "display_data"
    }
   ],
   "source": [
    "plt.plot(yhat, label='pred')\n",
    "plt.plot(test_y, label='true')\n",
    "plt.legend()\n",
    "plt.xlim(750,800)\n",
    "plt.ylim(35,45)"
   ]
  },
  {
   "cell_type": "code",
   "execution_count": null,
   "metadata": {},
   "outputs": [],
   "source": []
  },
  {
   "cell_type": "code",
   "execution_count": 158,
   "metadata": {},
   "outputs": [],
   "source": [
    "split_1 = int(len(target) * 0.5)\n",
    "split_2 = int(len(target) * 0.75)\n",
    "\n",
    "t_train_X = features[:split_1].to_numpy()\n",
    "t_train_y = target[:split_1].to_numpy()\n",
    "t_val_X = features[split_1:split_2].to_numpy()\n",
    "t_val_y = target[split_1:split_2].to_numpy()\n",
    "t_test_X = features[split_2:].to_numpy()\n",
    "t_test_y = target[split_2:].to_numpy()\n",
    "\n",
    "models_meta = []"
   ]
  },
  {
   "cell_type": "code",
   "execution_count": 159,
   "metadata": {},
   "outputs": [
    {
     "data": {
      "text/plain": [
       "TransformedTargetRegressor(regressor=Lasso(alpha=0.05),\n",
       "                           transformer=RobustScaler())"
      ]
     },
     "execution_count": 159,
     "metadata": {},
     "output_type": "execute_result"
    }
   ],
   "source": [
    "model = linear_model.Lasso(alpha=best_lambda)\n",
    "models_meta.append(TransformedTargetRegressor(regressor=model, transformer=RobustScaler()))\n",
    "models_meta[0].fit(t_train_X, t_train_y)"
   ]
  },
  {
   "cell_type": "code",
   "execution_count": 160,
   "metadata": {},
   "outputs": [
    {
     "data": {
      "text/plain": [
       "TransformedTargetRegressor(regressor=HuberRegressor(alpha=0.45),\n",
       "                           transformer=RobustScaler())"
      ]
     },
     "execution_count": 160,
     "metadata": {},
     "output_type": "execute_result"
    }
   ],
   "source": [
    "model = linear_model.HuberRegressor(alpha=best_lambda_Huber)\n",
    "models_meta.append(TransformedTargetRegressor(regressor=model, transformer=RobustScaler()))\n",
    "models_meta[1].fit(t_train_X, t_train_y)"
   ]
  },
  {
   "cell_type": "code",
   "execution_count": 161,
   "metadata": {},
   "outputs": [
    {
     "data": {
      "text/plain": [
       "RandomForestRegressor(n_estimators=980)"
      ]
     },
     "execution_count": 161,
     "metadata": {},
     "output_type": "execute_result"
    }
   ],
   "source": [
    "models_meta.append(RandomForestRegressor(n_estimators=best_estimator_RF))\n",
    "models_meta[2].fit(t_train_X, t_train_y)"
   ]
  },
  {
   "cell_type": "code",
   "execution_count": 162,
   "metadata": {},
   "outputs": [
    {
     "data": {
      "text/plain": [
       "TransformedTargetRegressor(regressor=XGBRegressor(base_score=None, booster=None,\n",
       "                                                  colsample_bylevel=None,\n",
       "                                                  colsample_bynode=None,\n",
       "                                                  colsample_bytree=None,\n",
       "                                                  gamma=None, gpu_id=None,\n",
       "                                                  importance_type='gain',\n",
       "                                                  interaction_constraints=None,\n",
       "                                                  learning_rate=None,\n",
       "                                                  max_delta_step=None,\n",
       "                                                  max_depth=None,\n",
       "                                                  min_child_weight=None,\n",
       "                                                  missing=nan,\n",
       "                                                  monotone_constraints=None,\n",
       "                                                  n_estimators=600, n_jobs=None,\n",
       "                                                  num_parallel_tree=None,\n",
       "                                                  random_state=None,\n",
       "                                                  reg_alpha=None,\n",
       "                                                  reg_lambda=None,\n",
       "                                                  scale_pos_weight=None,\n",
       "                                                  subsample=1.0,\n",
       "                                                  tree_method=None,\n",
       "                                                  validate_parameters=False,\n",
       "                                                  verbosity=None),\n",
       "                           transformer=RobustScaler())"
      ]
     },
     "execution_count": 162,
     "metadata": {},
     "output_type": "execute_result"
    }
   ],
   "source": [
    "model = xgb.XGBRegressor(n_estimators=best_estimator_xgb, subsample=1.0)\n",
    "models_meta.append(TransformedTargetRegressor(regressor=model, transformer=RobustScaler()))\n",
    "models_meta[3].fit(t_train_X, t_train_y)"
   ]
  },
  {
   "cell_type": "code",
   "execution_count": 113,
   "metadata": {},
   "outputs": [
    {
     "data": {
      "text/plain": [
       "TransformedTargetRegressor(regressor=KNeighborsRegressor(n_neighbors=1),\n",
       "                           transformer=RobustScaler())"
      ]
     },
     "execution_count": 113,
     "metadata": {},
     "output_type": "execute_result"
    }
   ],
   "source": [
    "# model = model = KNeighborsRegressor(n_neighbors=best_k)\n",
    "# models_meta.append(TransformedTargetRegressor(regressor=model, transformer=RobustScaler()))\n",
    "# models_meta[4].fit(t_train_X, t_train_y)"
   ]
  },
  {
   "cell_type": "code",
   "execution_count": 163,
   "metadata": {},
   "outputs": [],
   "source": [
    "model_num = []\n",
    "for i, x in enumerate(t_val_X):\n",
    "    err = []\n",
    "    for model in models_meta:\n",
    "        yhat = model.predict(x.reshape(1, -1))\n",
    "        err.append((yhat-t_val_y[i])**2)\n",
    "    model_num.append(np.argmin(err))"
   ]
  },
  {
   "cell_type": "code",
   "execution_count": 164,
   "metadata": {},
   "outputs": [
    {
     "name": "stdout",
     "output_type": "stream",
     "text": [
      "Count of  0  is  505\n",
      "Count of  1  is  9\n",
      "Count of  2  is  494\n",
      "Count of  3  is  219\n"
     ]
    }
   ],
   "source": [
    "for i in range(len(models_meta)):\n",
    "    print('Count of ', i, ' is ',model_num.count(i))"
   ]
  },
  {
   "cell_type": "code",
   "execution_count": 165,
   "metadata": {},
   "outputs": [],
   "source": [
    "model_label = np.array(model_num)"
   ]
  },
  {
   "cell_type": "code",
   "execution_count": 166,
   "metadata": {},
   "outputs": [],
   "source": [
    "from sklearn.tree import DecisionTreeClassifier\n",
    "\n",
    "split = int(0.75*len(t_val_X))\n",
    "tt_train_X = t_val_X[:split]\n",
    "tt_train_y = model_label[:split]\n",
    "tt_val_X = t_val_X[split:]\n",
    "tt_val_y = model_label[split:]\n",
    "\n",
    "depths = np.arange(2,10,1)\n",
    "scores = []\n",
    "for depth in depths:\n",
    "    dtree_model = DecisionTreeClassifier(max_depth = depth).fit(tt_train_X, tt_train_y)\n",
    "    dtree_score = dtree_model.score(tt_val_X, tt_val_y)\n",
    "    scores.append(dtree_score)"
   ]
  },
  {
   "cell_type": "code",
   "execution_count": 167,
   "metadata": {},
   "outputs": [
    {
     "name": "stdout",
     "output_type": "stream",
     "text": [
      "Best depth:  8\n"
     ]
    }
   ],
   "source": [
    "best_depth = depths[np.argmax(scores)]\n",
    "print('Best depth: ', best_depth)"
   ]
  },
  {
   "cell_type": "code",
   "execution_count": 176,
   "metadata": {},
   "outputs": [],
   "source": [
    "dtree_model = DecisionTreeClassifier(max_depth = best_depth).fit(t_val_X, model_label)\n",
    "model_pred = dtree_model.predict(t_test_X)"
   ]
  },
  {
   "cell_type": "code",
   "execution_count": 147,
   "metadata": {},
   "outputs": [
    {
     "data": {
      "text/plain": [
       "array([2, 0, 2, ..., 2, 2, 2], dtype=int64)"
      ]
     },
     "execution_count": 147,
     "metadata": {},
     "output_type": "execute_result"
    }
   ],
   "source": []
  },
  {
   "cell_type": "code",
   "execution_count": 177,
   "metadata": {},
   "outputs": [],
   "source": [
    "preds = []\n",
    "\n",
    "for i, x in enumerate(t_test_X):\n",
    "    pred = models_meta[model_pred[i]].predict(x.reshape(1,-1))\n",
    "    preds.append(pred)"
   ]
  },
  {
   "cell_type": "code",
   "execution_count": 178,
   "metadata": {},
   "outputs": [
    {
     "data": {
      "text/plain": [
       "<matplotlib.legend.Legend at 0x250597b1588>"
      ]
     },
     "execution_count": 178,
     "metadata": {},
     "output_type": "execute_result"
    },
    {
     "data": {
      "image/png": "[encoded data removed]",
      "text/plain": [
       "<Figure size 432x288 with 1 Axes>"
      ]
     },
     "metadata": {
      "needs_background": "light"
     },
     "output_type": "display_data"
    }
   ],
   "source": [
    "plt.plot(preds, label='pred')\n",
    "plt.plot(t_test_y, label='true')\n",
    "plt.legend()"
   ]
  },
  {
   "cell_type": "code",
   "execution_count": 179,
   "metadata": {},
   "outputs": [
    {
     "data": {
      "text/plain": [
       "21.89070888646221"
      ]
     },
     "execution_count": 179,
     "metadata": {},
     "output_type": "execute_result"
    }
   ],
   "source": [
    "np.mean((pred-t_test_y)**2)**0.5"
   ]
  },
  {
   "cell_type": "code",
   "execution_count": 180,
   "metadata": {},
   "outputs": [
    {
     "data": {
      "text/plain": [
       "(-40.0, 40.0)"
      ]
     },
     "execution_count": 180,
     "metadata": {},
     "output_type": "execute_result"
    },
    {
     "data": {
      "image/png": "[encoded data removed]",
      "text/plain": [
       "<Figure size 432x288 with 1 Axes>"
      ]
     },
     "metadata": {
      "needs_background": "light"
     },
     "output_type": "display_data"
    }
   ],
   "source": [
    "plt.plot(preds, label='pred')\n",
    "plt.plot(t_test_y, label='true')\n",
    "plt.legend()\n",
    "plt.xlim(890,920)\n",
    "plt.ylim(-40,40)"
   ]
  },
  {
   "cell_type": "code",
   "execution_count": null,
   "metadata": {},
   "outputs": [],
   "source": []
  }
 ],
 "metadata": {
  "kernelspec": {
   "display_name": "Python 3",
   "language": "python",
   "name": "python3"
  },
  "language_info": {
   "codemirror_mode": {
    "name": "ipython",
    "version": 3
   },
   "file_extension": ".py",
   "mimetype": "text/x-python",
   "name": "python",
   "nbconvert_exporter": "python",
   "pygments_lexer": "ipython3",
   "version": "3.7.7"
  }
 },
 "nbformat": 4,
 "nbformat_minor": 4
}
