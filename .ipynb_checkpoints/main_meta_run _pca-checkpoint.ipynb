{
 "cells": [
  {
   "cell_type": "code",
   "execution_count": 1,
   "metadata": {},
   "outputs": [],
   "source": [
    "import pandas as pd\n",
    "import numpy as np\n",
    "import os\n",
    "import glob\n",
    "import matplotlib.pyplot as plt\n",
    "\n",
    "from sklearn.model_selection import train_test_split\n",
    "from sklearn import preprocessing\n",
    "from sklearn.metrics import mean_squared_error\n",
    "from sklearn.preprocessing import StandardScaler\n",
    "\n",
    "from statsmodels.graphics.tsaplots import plot_acf\n",
    "\n",
    "from sklearn.linear_model import LinearRegression\n",
    "import statsmodels.api as sm\n",
    "\n",
    "import pandas_market_calendars as mcal\n",
    "\n",
    "import warnings\n",
    "warnings.filterwarnings('ignore')"
   ]
  },
  {
   "cell_type": "code",
   "execution_count": 2,
   "metadata": {},
   "outputs": [],
   "source": [
    "def nyse_holidays():\n",
    "    nyse = mcal.get_calendar('NYSE')\n",
    "    holidays = nyse.holidays()\n",
    "    nyse_holidays = holidays.holidays\n",
    "    \n",
    "    return nyse_holidays\n",
    "\n",
    "# shift dates if they fall on a weekend/trading holiday\n",
    "def get_prev_business_date(date, holidays):\n",
    "    if date.isoweekday() in set((6, 7)):\n",
    "        #if date falls on a weekend, move the date back\n",
    "        date -= pd.offsets.BDay(n = date.isoweekday() % 5)\n",
    "    elif date in holidays:\n",
    "        #if date is a NYSE trading holiday, move the date back\n",
    "        date -= pd.offsets.BDay(n=1)  # get prev day\n",
    "        # now if the new date is on a weekend, move it back \n",
    "        if date.isoweekday() in set((6, 7)):\n",
    "            date -= pd.offsets.BDay(n = date.isoweekday() % 5)\n",
    "\n",
    "    return date"
   ]
  },
  {
   "cell_type": "code",
   "execution_count": 3,
   "metadata": {},
   "outputs": [],
   "source": [
    "#Load Price Data\n",
    "wd = os.getcwd()\n",
    "\n",
    "df = pd.read_excel(wd+'/Data/'+'WTI.xlsx')\n",
    "df['Date'] = pd.to_datetime(df['Date'])\n",
    "df['Date'] = df['Date'].dt.strftime('%m-%d-%Y')\n",
    "df.set_index('Date', inplace=True)"
   ]
  },
  {
   "cell_type": "code",
   "execution_count": 4,
   "metadata": {},
   "outputs": [],
   "source": [
    "def get_ma(df, column, freq='monthly'):\n",
    "    df[df.columns[column] + '_temp'] = df[df.columns[column]]\n",
    "    \n",
    "    for i in range(0, len(df[df.columns[column]])-22):\n",
    "        df.iloc[i, column] = np.mean(df.iloc[i:i+22, -1])\n",
    "        \n",
    "    drop_col_name = df.columns[column] + '_temp'\n",
    "    df = df.loc[:, ~df.columns.isin([drop_col_name])]\n",
    "    \n",
    "    return df"
   ]
  },
  {
   "cell_type": "code",
   "execution_count": 5,
   "metadata": {},
   "outputs": [],
   "source": [
    "# df = get_ma(df, 0)"
   ]
  },
  {
   "cell_type": "code",
   "execution_count": null,
   "metadata": {},
   "outputs": [],
   "source": [
    "#Load Features\n",
    "\n",
    "xlsx_files = glob.glob(os.path.join(wd, 'Data', \"*.xlsx\"))\n",
    "holidays = nyse_holidays()\n",
    "daily_data = ['DowJones', 'SPX', 'USDEUR', 'DAX', 'NG1', 'Nikkei', 'HangSeng', 'GT10']\n",
    "\n",
    "for file in xlsx_files:\n",
    "    data_name = file.split(\"\\\\\")[-1].split('.')[0]\n",
    "    data_name = data_name.replace(\" \", \"_\")\n",
    "    \n",
    "    if data_name == 'WTI':\n",
    "        continue\n",
    "        \n",
    "    df_temp = pd.read_excel(file)\n",
    "    df_temp['Date'] = pd.to_datetime(df_temp['Date'])\n",
    "    #print(data_name)\n",
    "    if data_name in daily_data:\n",
    "        df_temp['Date'] = df_temp['Date'].dt.strftime('%m-%d-%Y')\n",
    "        df_temp.set_index('Date', inplace=True)\n",
    "    else:\n",
    "        df_temp['Artificial Date'] = df_temp['Date'].apply(lambda x: get_prev_business_date(x, holidays))\n",
    "        df_temp['Artificial Date'] = df_temp['Artificial Date'].dt.strftime('%m-%d-%Y')\n",
    "        df_temp = df_temp.drop(columns=['Date'])\n",
    "        df_temp.set_index('Artificial Date', inplace=True)\n",
    "    \n",
    "    try:\n",
    "        df[df_temp.columns[0] + '_' + data_name] = df_temp[df_temp.columns[0]]\n",
    "    except ValueError:\n",
    "        print(data_name, \"Error\")\n",
    "\n",
    "#backfill data for other frequencies\n",
    "df.fillna(method='bfill', inplace=True)\n",
    "idx = list(df.index).index('12-31-2020')\n",
    "df = df.iloc[idx:,:]\n",
    "df_t = df.copy()"
   ]
  },
  {
   "cell_type": "code",
   "execution_count": null,
   "metadata": {},
   "outputs": [],
   "source": [
    "df_t"
   ]
  },
  {
   "cell_type": "code",
   "execution_count": null,
   "metadata": {},
   "outputs": [],
   "source": [
    "def get_raw_data(df, freq = 'daily'):\n",
    "    if freq == 'weekly':\n",
    "        df = df.iloc[::5, :]\n",
    "    \n",
    "    #Add Sign and returns Data point\n",
    "    df['PX_Sign'] = np.sign(df['PX_LAST'] - df['PX_LAST'].shift(-1))\n",
    "    df.loc[df.PX_Sign == 0, 'PX_Sign'] = int(1)\n",
    "    df['Returns'] = df['PX_LAST']/df['PX_LAST'].shift(-1) - 1\n",
    "    \n",
    "    return df\n",
    "    "
   ]
  },
  {
   "cell_type": "code",
   "execution_count": null,
   "metadata": {},
   "outputs": [],
   "source": [
    "def plot_graph(df):\n",
    "    ax = df_t[df_t.columns[0]][::-1].plot()\n",
    "    ax.set_ylabel(\"WTI Price\")\n",
    "    ax.set_title('WTI Price (1990-2021)')"
   ]
  },
  {
   "cell_type": "code",
   "execution_count": null,
   "metadata": {},
   "outputs": [],
   "source": [
    "prices = ['PX_LAST']\n",
    "classification = ['PX_Sign']\n",
    "returns = ['Returns']"
   ]
  },
  {
   "cell_type": "code",
   "execution_count": null,
   "metadata": {},
   "outputs": [],
   "source": [
    "#Dict for frequency adjustment\n",
    "cols_freq = {\n",
    "    'PX_LAST':\"daily\",\n",
    "    'PX_VOLUME':\"daily\",\n",
    "    'PX_LAST_DowJones':\"daily\",\n",
    "    'PX_MID_GT10':\"daily\",\n",
    "    'PX_LAST_HangSeng':\"daily\",\n",
    "    'PX_LAST_Nikkei':\"daily\",\n",
    "    'PX_LAST_SPX':\"daily\",\n",
    "    'PX_LAST_USDEUR':\"daily\",\n",
    "    'PX_LAST_NG1':\"daily\",\n",
    "    'PX_LAST_DAX':\"daily\",\n",
    "    'PX_LAST_US_daily_prod':\"monthly\",\n",
    "    'PX_LAST_Cass_Freight_Rates':\"monthly\",\n",
    "    'PX_LAST_Canada_daily_prod':\"monthly\",\n",
    "    'PX_LAST_Russia_daily_prod':\"monthly\",\n",
    "    'PX_LAST_OPEC_daily_prod':\"monthly\",\n",
    "    'PX_LAST_US_Inflation':\"monthly\",\n",
    "    'PX_LAST_Europe_Inflation':\"monthly\",\n",
    "    'PX_LAST_Europe_IndProd_exConstruction':\"monthly\",\n",
    "    'PX_LAST_Russia_Industrial_Production':\"monthly\",\n",
    "    'PX_LAST_US_IndProd_Index':\"monthly\",\n",
    "    'PX_LAST_China_GDP':\"quarterly\",\n",
    "    'PX_LAST_Germany_GDP':\"quarterly\",\n",
    "    'PX_LAST_Japan_GDP':\"quarterly\",\n",
    "    'PX_LAST_Russia_GDP':\"quarterly\",\n",
    "    'PX_LAST_US_GDP':\"quarterly\",\n",
    "    'PX_Sign':'daily',\n",
    "    'Returns':'daily'\n",
    "}"
   ]
  },
  {
   "cell_type": "code",
   "execution_count": null,
   "metadata": {},
   "outputs": [],
   "source": [
    "def daily_lag(df, column, lag):\n",
    "    lag = lag+1\n",
    "    if column==0:\n",
    "        for i in range(1, lag):\n",
    "            #creating new column here since column==0 is target\n",
    "            \n",
    "            df[df.columns[column] + '_t-' + str(i)] = df[df.columns[column]].shift(-i)\n",
    "            cols_freq[df.columns[column]+'_t-'+str(i)] = \"daily\"\n",
    "    else:\n",
    "        for i in range(1, lag):\n",
    "            #replacing old column here and renaming\n",
    "            df[df.columns[column]] = df[df.columns[column]].shift(-i)\n",
    "            df.rename(columns={df.columns[column]:df.columns[column]+'_t-'+str(i)}, inplace=True)\n",
    "            new_col = df.columns[column]\n",
    "            cols_freq[new_col] = \"daily\"\n",
    "    \n",
    "    return df\n",
    "\n",
    "\n",
    "def ma(df, column, freq = \"monthly\"):\n",
    "    if freq == \"monthly\":\n",
    "        #creating temp column to get values\n",
    "        df[df.columns[column] + '_temp'] = df[df.columns[column]]\n",
    "        \n",
    "        for i in range(0, len(df[df.columns[column]])-22):\n",
    "            df.iloc[i, column] = np.mean(df.iloc[i:i+22, -1])\n",
    "        \n",
    "        #dropping temp column\n",
    "        drop_col_name = df.columns[column] + '_temp'\n",
    "        df = df.loc[:, ~df.columns.isin([drop_col_name])]\n",
    "        \n",
    "        #renaming column to indicate moving average\n",
    "        df.rename(columns={df.columns[column]:df.columns[column]+'_SMA22'}, inplace=True)\n",
    "        cols_freq[df.columns[column]] = \"monthly\"\n",
    "    elif freq == \"quarterly\":\n",
    "        #creating temp column to get values\n",
    "        df[df.columns[column] + '_temp'] = df[df.columns[column]]\n",
    "        \n",
    "        for i in range(0, len(df[df.columns[column]])-65):\n",
    "            df.iloc[i, column] = np.mean(df.iloc[i:i+65, -1])\n",
    "        \n",
    "        #dropping temp column\n",
    "        drop_col_name = df.columns[column] + '_temp'\n",
    "        df = df.loc[:, ~df.columns.isin([drop_col_name])]\n",
    "        \n",
    "        #renaming column to indicate moving average\n",
    "        df.rename(columns={df.columns[column]:df.columns[column]+'_SMA65'}, inplace=True)\n",
    "        cols_freq[df.columns[column]] = \"quarterly\"\n",
    "    \n",
    "    return df\n",
    "\n",
    "\n",
    "def lag_data(df, column, freq = \"monthly\"):\n",
    "    if freq == \"monthly\":\n",
    "        #replacing old column and renaming\n",
    "        df[df.columns[column]] = df[df.columns[column]].shift(-22)\n",
    "        df.rename(columns={df.columns[column]:df.columns[column]+'_M'}, inplace=True)\n",
    "    elif freq == \"quarterly\":\n",
    "        #replacing old column and renaming\n",
    "        df[df.columns[column]] = df[df.columns[column]].shift(-65)\n",
    "        df.rename(columns={df.columns[column]:df.columns[column]+'_Q'}, inplace=True)\n",
    "    elif freq == \"weekly\":\n",
    "        #replacing old column and renaming\n",
    "        df[df.columns[column]] = df[df.columns[column]].shift(-10)\n",
    "        df.rename(columns={df.columns[column]:df.columns[column]+'_W'}, inplace=True)\n",
    "    else:\n",
    "        raise ValueError(\"Frequency invalid\")\n",
    "    \n",
    "    return df\n",
    "\n",
    "def get_lag_ma_data(df, daily_lags = 1, cols_freq=cols_freq):\n",
    "    for i in range(len(df.columns)):\n",
    "        column_name = df.columns[i]\n",
    "        #print(column_name)\n",
    "        if cols_freq[column_name] == 'daily':\n",
    "            df = daily_lag(df, i, daily_lags)\n",
    "        else:\n",
    "            df = lag_data(df, i, cols_freq[column_name])\n",
    "            df = ma(df, i, cols_freq[column_name])\n",
    "            \n",
    "    return df"
   ]
  },
  {
   "cell_type": "code",
   "execution_count": null,
   "metadata": {},
   "outputs": [],
   "source": [
    "def one_day_change(df, column):\n",
    "    #creating new column here, will drop old column later in get_diffs\n",
    "    df[df.columns[column] + '_1D_change'] = df[df.columns[column]] - df[df.columns[column]].shift(-1)\n",
    "    return df\n",
    "\n",
    "def two_week_change(df, column):\n",
    "    #creating new column here, will drop old column later in get_diffs\n",
    "    df[df.columns[column] + '_2W_change'] = df[df.columns[column]] - df[df.columns[column]].shift(-10)\n",
    "    return df\n",
    "\n",
    "def one_month_change(df, column):\n",
    "    #creating new column here, will drop old column later in get_diffs\n",
    "    df[df.columns[column] + '_1M_change'] = df[df.columns[column]] - df[df.columns[column]].shift(-22)\n",
    "    return df\n",
    "\n",
    "def get_diffs(df, target, cols_freq=cols_freq, drop=True):\n",
    "    cols = []\n",
    "    for i in range(1, len(df.columns)):\n",
    "        column_name = df.columns[i]\n",
    "        #collecting old columns to drop later\n",
    "        cols.append(column_name)\n",
    "        \n",
    "        if cols_freq[column_name] == 'daily':\n",
    "            df = one_day_change(df, i)\n",
    "            df = two_week_change(df, i)\n",
    "            df = one_month_change(df, i)\n",
    "        elif cols_freq[column_name] == 'monthly':\n",
    "            df = two_week_change(df, i)\n",
    "            df = one_month_change(df, i)\n",
    "        elif cols_freq[column_name] == 'quarterly':\n",
    "            df = one_month_change(df, i)\n",
    "        \n",
    "    #dropping old columns\n",
    "    target_lagged = df.columns[0] + '_t-1'\n",
    "    cols.remove(target_lagged)\n",
    "    #print(cols)\n",
    "    df = df.loc[:, ~df.columns.isin(cols)]\n",
    "    \n",
    "    return df"
   ]
  },
  {
   "cell_type": "code",
   "execution_count": null,
   "metadata": {},
   "outputs": [],
   "source": [
    "def make_regime(df, end, start=0):\n",
    "    if start==0 and end==0:\n",
    "        return df\n",
    "    \n",
    "    if start!=0:\n",
    "        st_idx = list(df.index).index(start)\n",
    "    else:\n",
    "        st_idx = 0\n",
    "    end_idx = list(df.index).index(end)\n",
    "    df_reg = df.iloc[st_idx:end_idx,:]\n",
    "    return df_reg"
   ]
  },
  {
   "cell_type": "code",
   "execution_count": null,
   "metadata": {},
   "outputs": [],
   "source": [
    "def pca(feature_set):\n",
    "    n = len(feature_set)\n",
    "    d = len(feature_set.columns)\n",
    "    \n",
    "    k = int(round(d/3, 0)) #no. of reduced features needed\n",
    "    w0 = np.random.randn(k, d) #Y is (n x d) dimensional\n",
    "    wt = w0\n",
    "    I = 10 #no. of iterations for alternating minimisation\n",
    "    residuals_am = np.zeros(I)\n",
    "\n",
    "    for t in range(I):\n",
    "        wt_1 = wt\n",
    "        gram_w = np.matmul(wt_1, wt_1.T)\n",
    "        gram_w_inv = np.linalg.inv(gram_w)\n",
    "        xt = np.zeros((n,k))\n",
    "        for i in range(n):\n",
    "            xt[i] = np.matmul(feature_set.iloc[i].values, np.matmul(wt_1.T, gram_w_inv))\n",
    "\n",
    "        gram_x = np.matmul(xt.T, xt)\n",
    "        gram_x_inv = np.linalg.inv(gram_x)\n",
    "        wt = np.zeros((k,d))\n",
    "        for j in range(d):\n",
    "            wt[:,j] = np.matmul(np.matmul(gram_x_inv, xt.T), feature_set.iloc[:,j])\n",
    "\n",
    "        residuals_am[t] = np.linalg.norm(feature_set.values-np.matmul(xt, wt))\n",
    "        \n",
    "    return xt, k, residuals_am"
   ]
  },
  {
   "cell_type": "code",
   "execution_count": null,
   "metadata": {},
   "outputs": [],
   "source": [
    "def get_final_data(df, features, regime, target=classification, pca=False):\n",
    "    if target != prices:\n",
    "        features = ['PX_LAST'] + features\n",
    "    \n",
    "    df_trial = get_lag_ma_data(df[target + features])\n",
    "    df_trial = get_diffs(df_trial, target)\n",
    "    \n",
    "    df_trial = df_trial.dropna()\n",
    "    df_trial = df_trial[::-1]\n",
    "    \n",
    "    df_reg = make_regime(df_trial, end=regime[1], start=regime[0])\n",
    "    \n",
    "    df_target = df_reg[target]\n",
    "    df_features_raw = df_reg.iloc[:, 1:]\n",
    "    \n",
    "    if pca:\n",
    "        d = len(df_features_raw.columns)\n",
    "        df_features, k, res = pca(df_features_raw)\n",
    "        df_features.index = df_features_raw.index\n",
    "        print(\"PCA reduced features from {} to {}\".format(d, k))\n",
    "        print(\"Error = {}\".format(residuals_am[-1]))\n",
    "    else:\n",
    "        df_features = df_features_raw.copy()\n",
    "    \n",
    "    if target == classification:\n",
    "        df_target = df_target.astype(int)\n",
    "    \n",
    "    return df_target, df_features"
   ]
  },
  {
   "cell_type": "code",
   "execution_count": null,
   "metadata": {},
   "outputs": [],
   "source": [
    "from sklearn.compose import TransformedTargetRegressor\n",
    "from sklearn.preprocessing import RobustScaler\n",
    "from sklearn import linear_model\n",
    "from sklearn.model_selection import TimeSeriesSplit\n",
    "\n",
    "def get_data_splits(target, features, n_splits=100, train_per=0.8):\n",
    "    train_n = int(len(target) * train_per)\n",
    "    train_x = features[:train_n].to_numpy()\n",
    "    train_y = target[:train_n].to_numpy()\n",
    "    test_x = features[train_n:].to_numpy()\n",
    "    test_y = target[train_n:].to_numpy()\n",
    "\n",
    "    splits = TimeSeriesSplit(n_splits=n_splits)\n",
    "\n",
    "    split_train_x = []\n",
    "    split_val_x = []\n",
    "    split_train_y = []\n",
    "    split_val_y = []\n",
    "\n",
    "    for train_index, val_index in splits.split(train_x):\n",
    "        split_train_x.append(train_x[train_index])\n",
    "        split_train_y.append(train_y[train_index])\n",
    "        split_val_x.append(train_x[val_index])\n",
    "        split_val_y.append(train_y[val_index])\n",
    "        \n",
    "    split_data = [split_train_x, split_train_y, split_val_x, split_val_y]\n",
    "    train_data = [train_x, train_y]\n",
    "    test_data = [test_x, test_y]\n",
    "    \n",
    "    return split_data, train_data, test_data"
   ]
  },
  {
   "cell_type": "markdown",
   "metadata": {},
   "source": [
    "### Classification Models"
   ]
  },
  {
   "cell_type": "code",
   "execution_count": null,
   "metadata": {},
   "outputs": [],
   "source": [
    "from sklearn import svm\n",
    "from sklearn.svm import SVC\n",
    "from sklearn.preprocessing import StandardScaler\n",
    "\n",
    "def svc_hinge(split_data, iters=1000):\n",
    "    split_train_x = split_data[0]\n",
    "    split_train_y = split_data[1]\n",
    "    split_val_x = split_data[2]\n",
    "    split_val_y = split_data[3]\n",
    "    \n",
    "    lambdas = np.arange(0.001, 0.101, 0.02)\n",
    "    Hloss = []\n",
    "    Rh = []\n",
    "    count = 0\n",
    "    \n",
    "    for lam in lambdas:\n",
    "        scaler = RobustScaler()\n",
    "        clf = svm.LinearSVC(penalty='l2', loss='hinge', fit_intercept=True,\n",
    "                            C=(1/lam), max_iter=iters, random_state=42)\n",
    "        acc = []\n",
    "        \n",
    "        for i in range(len(split_train_x)):\n",
    "            scaled_fit_train = scaler.fit(split_train_x[i])\n",
    "            split_train_x[i] = scaled_fit_train.transform(split_train_x[i])\n",
    "            split_val_x[i] = scaled_fit_train.transform(split_val_x[i])\n",
    "            \n",
    "            model = clf.fit(split_train_x[i], split_train_y[i].reshape(-1,1))\n",
    "            pred = model.predict(split_val_x[i])\n",
    "            acc.append(np.mean(pred != split_val_y[i]))\n",
    "            count+=1\n",
    "            #print(count)\n",
    "        Hloss.append(np.mean(acc))\n",
    "        Rh.append(lam)\n",
    "    l_star = Rh[np.argmin(Hloss)]\n",
    "    print('Lambda* = {}'.format(l_star))\n",
    "    print('SVM Validation Error Rate = {}'.format(Hloss[np.argmin(Hloss)]))\n",
    "    return Hloss, Rh, l_star\n",
    "\n",
    "def svc_hinge_test(train_data, test_data, l_star, iters=10000):\n",
    "    train_x = train_data[0]\n",
    "    train_y = train_data[1]\n",
    "    test_x = test_data[0]\n",
    "    test_y = test_data[1]\n",
    "    \n",
    "    scaler = RobustScaler()\n",
    "    scaled_fit_train = scaler.fit(train_x)\n",
    "    \n",
    "    train_x_std = scaled_fit_train.transform(train_x)\n",
    "    test_x_std = scaled_fit_train.transform(test_x)\n",
    "    \n",
    "    \n",
    "    model = svm.LinearSVC(penalty='l2', loss='hinge', fit_intercept=True,\n",
    "                            C=(1/l_star), max_iter=iters, random_state=42)\n",
    "    \n",
    "    train_y = train_y.reshape(-1,1)\n",
    "    model.fit(train_x_std, train_y)\n",
    "    pred = model.predict(test_x_std)\n",
    "    mse = np.mean(pred!=test_y)\n",
    "    \n",
    "    return pred, mse"
   ]
  },
  {
   "cell_type": "code",
   "execution_count": null,
   "metadata": {},
   "outputs": [],
   "source": [
    "from sklearn.tree import DecisionTreeClassifier\n",
    "from sklearn import tree\n",
    "\n",
    "def decision_tree(split_data):\n",
    "    split_train_x = split_data[0]\n",
    "    split_train_y = split_data[1]\n",
    "    split_val_x = split_data[2]\n",
    "    split_val_y = split_data[3]\n",
    "    \n",
    "    maxnodes = np.arange(3, 18, 1)\n",
    "    maxnodes_misclas = []\n",
    "    \n",
    "    for maxnode in maxnodes:\n",
    "        misclas = []\n",
    "        \n",
    "        for i in range(len(split_train_x)):\n",
    "            model = tree.DecisionTreeClassifier(random_state=42, max_leaf_nodes = maxnode)\n",
    "            model = model.fit(split_train_x[i], split_train_y[i])\n",
    "            yhat = model.predict(split_val_x[i])\n",
    "            misclas.append(np.mean(yhat!=split_val_y[i]))\n",
    "\n",
    "        maxnodes_misclas.append(np.mean(misclas))\n",
    "    \n",
    "    best_nodes = maxnodes[np.argmin(maxnodes_misclas)]\n",
    "    print('Best Max Nodes = {}'.format(best_nodes))\n",
    "    print('Decision Tree Validation Error Rate = {}'.format(maxnodes_misclas[np.argmin(maxnodes_misclas)]))\n",
    "    \n",
    "    return maxnodes_misclas, best_nodes\n",
    "\n",
    "def decision_tree_test(train_data, test_data, maxnodes):\n",
    "    train_x = train_data[0]\n",
    "    train_y = train_data[1]\n",
    "    test_x = test_data[0]\n",
    "    test_y = test_data[1]\n",
    "    \n",
    "    tr_model = tree.DecisionTreeClassifier(random_state=2, max_leaf_nodes = maxnodes)\n",
    "    tr_model = tr_model.fit(train_x, train_y)\n",
    "    pred = tr_model.predict(test_x)\n",
    "    error = np.mean(pred!=test_y)\n",
    "    \n",
    "    return pred, error\n",
    "\n"
   ]
  },
  {
   "cell_type": "code",
   "execution_count": null,
   "metadata": {},
   "outputs": [],
   "source": [
    "from sklearn.linear_model import LogisticRegression\n",
    "\n",
    "def logistic(split_data, iters=1000):\n",
    "    split_train_x = split_data[0]\n",
    "    split_train_y = split_data[1]\n",
    "    split_val_x = split_data[2]\n",
    "    split_val_y = split_data[3]\n",
    "    \n",
    "    lambdas = np.arange(0.01, 1.01, 0.20)\n",
    "    Lloss = []\n",
    "    Rl = []\n",
    "    count = 0\n",
    "    \n",
    "    for lam in lambdas:\n",
    "        scaler = RobustScaler()\n",
    "        clf = LogisticRegression(penalty='l2', C=(1/lam), max_iter=iters, random_state=42,\n",
    "                            fit_intercept=True)\n",
    "        acc = []\n",
    "        \n",
    "        for i in range(len(split_train_x)):\n",
    "            scaled_fit_train = scaler.fit(split_train_x[i])\n",
    "            split_train_x[i] = scaled_fit_train.transform(split_train_x[i])\n",
    "            split_val_x[i] = scaled_fit_train.transform(split_val_x[i])\n",
    "            \n",
    "            model = clf.fit(split_train_x[i], split_train_y[i].reshape(-1,1))\n",
    "            pred = model.predict(split_val_x[i])\n",
    "            acc.append(np.mean(pred != split_val_y[i]))\n",
    "            count+=1\n",
    "            #print(count)\n",
    "        Lloss.append(np.mean(acc))\n",
    "        Rl.append(lam)\n",
    "    l_star = Rl[np.argmin(Lloss)]\n",
    "    print('Lambda* = {}'.format(l_star))\n",
    "    print('Logistic Validation Error Rate = {}'.format(Lloss[np.argmin(Lloss)]))\n",
    "    return Lloss, Rl, l_star\n",
    "\n",
    "def logistic_test(train_data, test_data, l_star, iters=1000):\n",
    "    train_x = train_data[0]\n",
    "    train_y = train_data[1]\n",
    "    test_x = test_data[0]\n",
    "    test_y = test_data[1]\n",
    "    \n",
    "    scaler = RobustScaler()\n",
    "    scaled_fit_train = scaler.fit(train_x)\n",
    "    \n",
    "    train_x_std = scaled_fit_train.transform(train_x)\n",
    "    test_x_std = scaled_fit_train.transform(test_x)\n",
    "    \n",
    "    model = LogisticRegression(penalty='l2', C=(1/l_star), max_iter=iters, random_state=42, \n",
    "                             fit_intercept=True)\n",
    "    \n",
    "    train_y = train_y.reshape(-1,1)\n",
    "    model.fit(train_x_std, train_y)\n",
    "    pred = model.predict(test_x_std)\n",
    "    mse = np.mean(pred!=test_y)\n",
    "    \n",
    "    return pred, mse"
   ]
  },
  {
   "cell_type": "markdown",
   "metadata": {},
   "source": [
    "### Regression Models"
   ]
  },
  {
   "cell_type": "code",
   "execution_count": null,
   "metadata": {},
   "outputs": [],
   "source": [
    "def lasso(split_data, alphas=np.arange(0.05, 1.01, 0.05)):\n",
    "    split_train_x = split_data[0]\n",
    "    split_train_y = split_data[1]\n",
    "    split_val_x = split_data[2]\n",
    "    split_val_y = split_data[3]\n",
    "    \n",
    "    alpha_rmse = []\n",
    "    \n",
    "    for alpha in alphas:\n",
    "        transformer = RobustScaler\n",
    "        model = linear_model.Lasso(alpha=alpha)\n",
    "        rmse = []\n",
    "        for i in range(len(split_train_x)):\n",
    "            wrapped_model = TransformedTargetRegressor(regressor=model, transformer=RobustScaler())\n",
    "            wrapped_model.fit(split_train_x[i], split_train_y[i])\n",
    "            yhat = wrapped_model.predict(split_val_x[i])\n",
    "            rmse.append(np.sqrt(np.mean((yhat-split_val_y[i])**2)))\n",
    "        alpha_rmse.append(np.mean(rmse))\n",
    "    a_star = alphas[np.argmin(alpha_rmse)]\n",
    "    print('Lasso Alpha* = {}'.format(a_star))\n",
    "    print('Lasso Validation RMSE = {}'.format(alpha_rmse[np.argmin(alpha_rmse)]))\n",
    "    return alpha_rmse, a_star\n",
    "\n",
    "def lasso_test(train_data, test_data, alpha):\n",
    "    train_x = train_data[0]\n",
    "    train_y = train_data[1]\n",
    "    test_x = test_data[0]\n",
    "    test_y = test_data[1]\n",
    "    \n",
    "    model = linear_model.Lasso(alpha=alpha)\n",
    "    wrapped_model = TransformedTargetRegressor(regressor=model, transformer=RobustScaler())\n",
    "    wrapped_model.fit(train_x, train_y)\n",
    "    pred = wrapped_model.predict(test_x)\n",
    "    rmse = np.mean((pred-test_y)**2)**0.5\n",
    "    \n",
    "    return pred, rmse"
   ]
  },
  {
   "cell_type": "code",
   "execution_count": null,
   "metadata": {},
   "outputs": [],
   "source": [
    "def huber(split_data, alphas=np.arange(0.05, 1.01, 0.05)):\n",
    "    split_train_x = split_data[0]\n",
    "    split_train_y = split_data[1]\n",
    "    split_val_x = split_data[2]\n",
    "    split_val_y = split_data[3]\n",
    "    \n",
    "    alpha_rmse = []\n",
    "    \n",
    "    for alpha in alphas:\n",
    "#         print('alpha=', alpha)\n",
    "        transformer = RobustScaler\n",
    "        model = linear_model.HuberRegressor(alpha=alpha)\n",
    "        rmse = []\n",
    "        for i in range(len(split_train_x)):\n",
    "            wrapped_model = TransformedTargetRegressor(regressor=model, transformer=RobustScaler())\n",
    "            wrapped_model.fit(split_train_x[i], split_train_y[i])\n",
    "            yhat = wrapped_model.predict(split_val_x[i])\n",
    "            rmse.append(np.mean((yhat-split_val_y[i])**2)**0.5)\n",
    "        alpha_rmse.append(np.mean(rmse))\n",
    "    a_star = alphas[np.argmin(alpha_rmse)]\n",
    "    print('Huber Alpha* = {}'.format(a_star))\n",
    "    print('Huber Validation RMSE = {}'.format(alpha_rmse[np.argmin(alpha_rmse)]))\n",
    "    return alpha_mse, a_star\n",
    "\n",
    "def huber_test(train_data, test_data, alpha):\n",
    "    train_x = train_data[0]\n",
    "    train_y = train_data[1]\n",
    "    test_x = test_data[0]\n",
    "    test_y = test_data[1]\n",
    "    \n",
    "    model = linear_model.HuberRegressor(alpha=alpha)\n",
    "    wrapped_model = TransformedTargetRegressor(regressor=model, transformer=RobustScaler())\n",
    "    wrapped_model.fit(train_x, train_y)\n",
    "    pred = wrapped_model.predict(test_x)\n",
    "    rmse = np.mean((pred-test_y)**2)**0.5\n",
    "    \n",
    "    return pred, rmse"
   ]
  },
  {
   "cell_type": "code",
   "execution_count": null,
   "metadata": {},
   "outputs": [],
   "source": [
    "from sklearn.ensemble import RandomForestRegressor\n",
    "\n",
    "def RF_regressor(split_data, estimators = np.arange(950, 1000, 10)):\n",
    "    split_train_x = split_data[0]\n",
    "    split_train_y = split_data[1]\n",
    "    split_val_x = split_data[2]\n",
    "    split_val_y = split_data[3]\n",
    "    \n",
    "    estimator_rmse = []\n",
    "    \n",
    "    for estimator in estimators:\n",
    "        print('n_est=', estimator)\n",
    "        model = RandomForestRegressor(n_estimators=estimator)\n",
    "#         rmse = []\n",
    "        model.fit(split_train_x[-1], split_train_y[-1])\n",
    "        yhat = model.predict(split_val_x[-1])\n",
    "#         rmse.append(np.mean((yhat-split_val_y[-1])**2)**0.5)\n",
    "#         estimator_rmse.append(np.mean(rmse))\n",
    "        estimator_rmse.append(np.mean((yhat-split_val_y[-1])**2)**0.5)\n",
    "    best_est = estimators[np.argmin(estimator_rmse)]\n",
    "    print('Random Forest Efficient Estimator = {}'.format(best_est))\n",
    "    print('Random Forest Validation RMSE = {}'.format(estimator_rmse[np.argmin(estimator_rmse)]))\n",
    "    return estimator_rmse, best_est\n",
    "\n",
    "def RF_regressor_test(train_data, test_data, best_est):\n",
    "    train_x = train_data[0]\n",
    "    train_y = train_data[1]\n",
    "    test_x = test_data[0]\n",
    "    test_y = test_data[1]\n",
    "    \n",
    "    model = RandomForestRegressor(n_estimators=best_est)\n",
    "    model.fit(train_x, train_y)\n",
    "    pred = model.predict(test_x)\n",
    "    rmse = np.mean((pred-test_y)**2)**0.5\n",
    "    \n",
    "    return pred, rmse"
   ]
  },
  {
   "cell_type": "markdown",
   "metadata": {},
   "source": [
    "### Turn into code:"
   ]
  },
  {
   "cell_type": "code",
   "execution_count": null,
   "metadata": {},
   "outputs": [],
   "source": [
    "import xgboost as xgb\n",
    "\n",
    "def XGBoost(split_data, estimators = np.arange(10, 1000, 10)):\n",
    "    split_train_x = split_data[0]\n",
    "    split_train_y = split_data[1]\n",
    "    split_val_x = split_data[2]\n",
    "    split_val_y = split_data[3]\n",
    "    \n",
    "    estimator_rmse = []\n",
    "    \n",
    "    for estimator in estimators:\n",
    "        print('est=',estimator)\n",
    "        transformer = RobustScaler\n",
    "        model = xgb.XGBRegressor(n_estimators=estimator, subsample=1.0)\n",
    "        rmse = []\n",
    "        \n",
    "        for i in range(len(split_train_x)):\n",
    "            wrapped_model = TransformedTargetRegressor(regressor=model, transformer=RobustScaler())\n",
    "            wrapped_model.fit(split_train_x[i], split_train_y[i])\n",
    "            yhat = wrapped_model.predict(split_val_x[i])\n",
    "            rmse.append(np.mean((yhat-split_val_y[i])**2)**0.5)\n",
    "        estimator_rmse.append(np.mean(rmse))\n",
    "    best_est = estimators[np.argmin(estimator_rmse)]\n",
    "    print('Efficient Estimator = {}'.format(best_est))\n",
    "    return estimator_rmse, best_est\n",
    "\n",
    "def XGBoost_test(train_data, test_data, best_est):\n",
    "    train_x = train_data[0]\n",
    "    train_y = train_data[1]\n",
    "    test_x = test_data[0]\n",
    "    test_y = test_data[1]\n",
    "    \n",
    "    model = xgb.XGBRegressor(n_estimators=best_est, subsample=1.0)\n",
    "    wrapped_model = TransformedTargetRegressor(regressor=model, transformer=RobustScaler())\n",
    "    wrapped_model.fit(train_x, train_y)\n",
    "    pred = wrapped_model.predict(test_x)\n",
    "    rmse = np.mean((pred-test_y)**2)**0.5\n",
    "    \n",
    "    return pred, rmse"
   ]
  },
  {
   "cell_type": "code",
   "execution_count": null,
   "metadata": {},
   "outputs": [],
   "source": [
    "def classification_models(features, regime_period, freq='daily', pca=False):\n",
    "    if freq == 'daily':\n",
    "        regime = regime_period[0]\n",
    "    elif freq == 'weekly':\n",
    "        regime = regime_period[1]\n",
    "    \n",
    "    df_m = get_raw_data(df_t, freq=freq)\n",
    "    \n",
    "    df_target, df_features = get_final_data(df=df_m,\n",
    "                                            features=features,\n",
    "                                            regime=regime,\n",
    "                                            target=classification,\n",
    "                                            pca=pca)\n",
    "    \n",
    "    split_data, train_data, test_data = get_data_splits(df_target, df_features)\n",
    "    \n",
    "    Hloss, Rh, hinge_lambda = svc_hinge(split_data)\n",
    "    hinge_yhat, hinge_error = svc_hinge_test(train_data, test_data, hinge_lambda)\n",
    "    print(\"SVM Test error rate = \", hinge_error, '\\n')\n",
    "    \n",
    "    Lloss, Rl, log_lambda = logistic(split_data)\n",
    "    log_yhat, log_error = logistic_test(train_data, test_data, log_lambda)\n",
    "    print(\"Logistic Test error rate = \", log_error, '\\n')\n",
    "    \n",
    "    trees_maxnode_misclas, trees_max_nodes = decision_tree(split_data)\n",
    "    trees_yhat, trees_error = decision_tree_test(train_data, test_data, trees_max_nodes)\n",
    "    print(\"Decision Trees Test error rate = \", trees_error, '\\n')\n",
    "    \n",
    "    yhats = [hinge_yhat, log_yhat, trees_yhat]\n",
    "    errors = [hinge_error, log_error, trees_error]\n",
    "    \n",
    "    return yhats, errors"
   ]
  },
  {
   "cell_type": "code",
   "execution_count": null,
   "metadata": {},
   "outputs": [],
   "source": [
    "def plot_graph(yhat, test_y):\n",
    "    plt.plot(yhat, label='pred')\n",
    "    plt.plot(test_y, label='true')\n",
    "    plt.legend()\n",
    "    plt.show()"
   ]
  },
  {
   "cell_type": "code",
   "execution_count": 27,
   "metadata": {},
   "outputs": [],
   "source": [
    "def regression_models(features, regime_period, target=prices, freq='daily', pca=False):\n",
    "    if freq == 'daily':\n",
    "        regime = regime_period[0]\n",
    "    elif freq == 'weekly':\n",
    "        regime = regime_period[1]\n",
    "    \n",
    "    df_m = get_raw_data(df_t, freq=freq)\n",
    "    \n",
    "    df_target, df_features = get_final_data(df=df_m,\n",
    "                                            features=features,\n",
    "                                            regime=regime,\n",
    "                                            target=target,\n",
    "                                            pca=pca)\n",
    "    \n",
    "    split_data, train_data, test_data = get_data_splits(df_target, df_features)\n",
    "    test_x = test_data[0]\n",
    "    test_y = test_data[1]\n",
    "    \n",
    "    lasso_mse, lasso_alpha = lasso(split_data)\n",
    "    lasso_pred, lasso_mse = lasso_test(train_data, test_data, lasso_alpha)\n",
    "    lasso_rmse = np.sqrt(lasso_mse)\n",
    "    print(\"Lasso RMSE = \", lasso_mse)\n",
    "    plot_graph(lasso_pred, test_y)\n",
    "    \n",
    "    huber_mse, huber_alpha = huber(split_data)\n",
    "    huber_pred, huber_mse = huber_test(train_data, test_data, huber_alpha)\n",
    "    huber_rmse = np.sqrt(huber_mse)\n",
    "    print(\"Huber RMSE = \", huber_rmse)\n",
    "    plot_graph(huber_pred, test_y)\n",
    "    \n",
    "    RF_mse, RF_best_est = RF_regressor(split_data)\n",
    "    rf_pred, rf_mse = RF_regressor_test(train_data, test_data, RF_best_est)\n",
    "    rf_rmse = np.sqrt(rf_mse)\n",
    "    print(\"RandomForest RMSE = \", rf_rmse)\n",
    "    plot_graph(rf_pred, test_y)\n",
    "    \n",
    "    pred = [lasso_pred, huber_pred, rf_pred]\n",
    "    rmse = [lasso_rmse, huber_rmse, rf_rmse]\n",
    "    \n",
    "    return pred, rmse"
   ]
  },
  {
   "cell_type": "code",
   "execution_count": 28,
   "metadata": {},
   "outputs": [],
   "source": [
    "def meta_ready(features, regime_period, target=prices, freq='daily', pca=False):\n",
    "    if freq == 'daily':\n",
    "        regime = regime_period[0]\n",
    "    elif freq == 'weekly':\n",
    "        regime = regime_period[1]\n",
    "    \n",
    "    df_m = get_raw_data(df_t, freq=freq)\n",
    "    \n",
    "    df_target, df_features = get_final_data(df=df_m,\n",
    "                                            features=features,\n",
    "                                            regime=regime,\n",
    "                                            target=target,\n",
    "                                            pca=pca)\n",
    "    \n",
    "    return df_target, df_features"
   ]
  },
  {
   "cell_type": "code",
   "execution_count": 29,
   "metadata": {},
   "outputs": [],
   "source": [
    "# Feature Categories by Type\n",
    "fin_indices = ['PX_LAST_DAX', 'PX_LAST_DowJones', 'PX_MID_GT10',\n",
    "           'PX_LAST_HangSeng', 'PX_LAST_Nikkei', 'PX_LAST_SPX',\n",
    "           'PX_LAST_USDEUR']\n",
    "nat_gas = ['PX_LAST_NG1']\n",
    "gdp = ['PX_LAST_China_GDP', 'PX_LAST_Germany_GDP', 'PX_LAST_Japan_GDP',\n",
    "       'PX_LAST_Russia_GDP', 'PX_LAST_US_GDP']\n",
    "oil_prod = ['PX_LAST_Canada_daily_prod', 'PX_LAST_Russia_daily_prod',\n",
    "            'PX_LAST_OPEC_daily_prod', 'PX_LAST_US_daily_prod']\n",
    "freight = ['PX_LAST_Cass_Freight_Rates']\n",
    "inflation = ['PX_LAST_US_Inflation', 'PX_LAST_Europe_Inflation']\n",
    "ind_prod = ['PX_LAST_Europe_IndProd_exConstruction', \n",
    "            'PX_LAST_Russia_Industrial_Production',\n",
    "            'PX_LAST_US_IndProd_Index']"
   ]
  },
  {
   "cell_type": "code",
   "execution_count": 30,
   "metadata": {},
   "outputs": [],
   "source": [
    "# Feature Categories by Date Range\n",
    "feat_1992 = ['PX_LAST_DAX', 'PX_LAST_DowJones', 'PX_MID_GT10', \n",
    "             'PX_LAST_HangSeng', 'PX_LAST_Nikkei', 'PX_LAST_SPX', \n",
    "             'PX_LAST_USDEUR', 'PX_LAST_NG1', 'PX_LAST_China_GDP', \n",
    "             'PX_LAST_Germany_GDP', 'PX_LAST_US_GDP', 'PX_LAST_US_daily_prod', \n",
    "             'PX_LAST_Cass_Freight_Rates', 'PX_LAST_US_Inflation', \n",
    "             'PX_LAST_Europe_IndProd_exConstruction', 'PX_LAST_US_IndProd_Index']\n",
    "feat_1996 = feat_1992 + ['PX_LAST_Japan_GDP', 'PX_LAST_Russia_GDP',\n",
    "                         'PX_LAST_Canada_daily_prod', 'PX_LAST_Russia_daily_prod']\n",
    "feat_2000 = feat_1996 + ['PX_LAST_OPEC_daily_prod', 'PX_LAST_Europe_Inflation']\n",
    "feat_2002 = feat_2000 + ['PX_LAST_Russia_Industrial_Production']"
   ]
  },
  {
   "cell_type": "code",
   "execution_count": 31,
   "metadata": {},
   "outputs": [],
   "source": [
    "reg_92_99 = [[0, '12-30-1999'], [0, '12-30-1999']]\n",
    "reg_00_06 = [['04-03-2000', '12-29-2006'], ['12-14-2000', '12-28-2006']]\n",
    "reg_07_12 = [['01-02-2007', '12-31-2012'], ['01-05-2007', '12-24-2012']]\n",
    "reg_13_20 = [['01-02-2013', '12-31-2020'], ['01-02-2013', '12-31-2020']]\n",
    "no_regime = [[0, 0], [0, 0]]"
   ]
  },
  {
   "cell_type": "markdown",
   "metadata": {},
   "source": [
    "### Implementation"
   ]
  },
  {
   "cell_type": "code",
   "execution_count": 37,
   "metadata": {},
   "outputs": [],
   "source": [
    "df_m = get_raw_data(df_t)\n",
    "features = feat_2002\n",
    "target=prices\n",
    "regime = no_regime\n",
    "freq='daily'\n",
    "pca=False\n",
    "\n",
    "df_target, df_features = meta_ready(features, regime, target, freq, pca)\n",
    "\n"
   ]
  },
  {
   "cell_type": "code",
   "execution_count": 150,
   "metadata": {},
   "outputs": [
    {
     "data": {
      "text/html": [
       "<div>\n",
       "<style scoped>\n",
       "    .dataframe tbody tr th:only-of-type {\n",
       "        vertical-align: middle;\n",
       "    }\n",
       "\n",
       "    .dataframe tbody tr th {\n",
       "        vertical-align: top;\n",
       "    }\n",
       "\n",
       "    .dataframe thead th {\n",
       "        text-align: right;\n",
       "    }\n",
       "</style>\n",
       "<table border=\"1\" class=\"dataframe\">\n",
       "  <thead>\n",
       "    <tr style=\"text-align: right;\">\n",
       "      <th></th>\n",
       "      <th>PX_LAST_t-1</th>\n",
       "      <th>PX_LAST_DAX_t-1_1D_change</th>\n",
       "      <th>PX_LAST_DAX_t-1_2W_change</th>\n",
       "      <th>PX_LAST_DAX_t-1_1M_change</th>\n",
       "      <th>PX_LAST_DowJones_t-1_1D_change</th>\n",
       "      <th>PX_LAST_DowJones_t-1_2W_change</th>\n",
       "      <th>PX_LAST_DowJones_t-1_1M_change</th>\n",
       "      <th>PX_MID_GT10_t-1_1D_change</th>\n",
       "      <th>PX_MID_GT10_t-1_2W_change</th>\n",
       "      <th>PX_MID_GT10_t-1_1M_change</th>\n",
       "      <th>...</th>\n",
       "      <th>PX_LAST_Russia_daily_prod_M_SMA22_1M_change</th>\n",
       "      <th>PX_LAST_OPEC_daily_prod_M_SMA22_2W_change</th>\n",
       "      <th>PX_LAST_OPEC_daily_prod_M_SMA22_1M_change</th>\n",
       "      <th>PX_LAST_Europe_Inflation_M_SMA22_2W_change</th>\n",
       "      <th>PX_LAST_Europe_Inflation_M_SMA22_1M_change</th>\n",
       "      <th>PX_LAST_Russia_Industrial_Production_M_SMA22_2W_change</th>\n",
       "      <th>PX_LAST_Russia_Industrial_Production_M_SMA22_1M_change</th>\n",
       "      <th>PX_LAST_t-1_1D_change</th>\n",
       "      <th>PX_LAST_t-1_2W_change</th>\n",
       "      <th>PX_LAST_t-1_1M_change</th>\n",
       "    </tr>\n",
       "    <tr>\n",
       "      <th>Date</th>\n",
       "      <th></th>\n",
       "      <th></th>\n",
       "      <th></th>\n",
       "      <th></th>\n",
       "      <th></th>\n",
       "      <th></th>\n",
       "      <th></th>\n",
       "      <th></th>\n",
       "      <th></th>\n",
       "      <th></th>\n",
       "      <th></th>\n",
       "      <th></th>\n",
       "      <th></th>\n",
       "      <th></th>\n",
       "      <th></th>\n",
       "      <th></th>\n",
       "      <th></th>\n",
       "      <th></th>\n",
       "      <th></th>\n",
       "      <th></th>\n",
       "      <th></th>\n",
       "    </tr>\n",
       "  </thead>\n",
       "  <tbody>\n",
       "    <tr>\n",
       "      <th>05-04-2002</th>\n",
       "      <td>25.123636</td>\n",
       "      <td>9.11</td>\n",
       "      <td>-109.75</td>\n",
       "      <td>-26.89</td>\n",
       "      <td>-351.65</td>\n",
       "      <td>-266.40</td>\n",
       "      <td>36.88</td>\n",
       "      <td>0.259</td>\n",
       "      <td>-0.148</td>\n",
       "      <td>-0.020</td>\n",
       "      <td>...</td>\n",
       "      <td>-19.454545</td>\n",
       "      <td>-338.181818</td>\n",
       "      <td>-774.545455</td>\n",
       "      <td>0.186364</td>\n",
       "      <td>0.459091</td>\n",
       "      <td>-0.145455</td>\n",
       "      <td>-0.145455</td>\n",
       "      <td>0.187727</td>\n",
       "      <td>2.239091</td>\n",
       "      <td>4.274091</td>\n",
       "    </tr>\n",
       "    <tr>\n",
       "      <th>08-04-2002</th>\n",
       "      <td>25.261818</td>\n",
       "      <td>0.00</td>\n",
       "      <td>-93.73</td>\n",
       "      <td>372.18</td>\n",
       "      <td>0.00</td>\n",
       "      <td>-244.67</td>\n",
       "      <td>228.54</td>\n",
       "      <td>0.000</td>\n",
       "      <td>-0.107</td>\n",
       "      <td>0.202</td>\n",
       "      <td>...</td>\n",
       "      <td>-15.227273</td>\n",
       "      <td>-304.545455</td>\n",
       "      <td>-740.909091</td>\n",
       "      <td>0.159091</td>\n",
       "      <td>0.431818</td>\n",
       "      <td>-0.181818</td>\n",
       "      <td>-0.181818</td>\n",
       "      <td>0.138182</td>\n",
       "      <td>2.162273</td>\n",
       "      <td>4.244545</td>\n",
       "    </tr>\n",
       "    <tr>\n",
       "      <th>09-04-2002</th>\n",
       "      <td>25.415909</td>\n",
       "      <td>0.00</td>\n",
       "      <td>-111.18</td>\n",
       "      <td>507.00</td>\n",
       "      <td>0.00</td>\n",
       "      <td>-192.50</td>\n",
       "      <td>525.38</td>\n",
       "      <td>0.000</td>\n",
       "      <td>-0.146</td>\n",
       "      <td>0.259</td>\n",
       "      <td>...</td>\n",
       "      <td>-11.000000</td>\n",
       "      <td>-270.909091</td>\n",
       "      <td>-707.272727</td>\n",
       "      <td>0.131818</td>\n",
       "      <td>0.404545</td>\n",
       "      <td>-0.218182</td>\n",
       "      <td>-0.218182</td>\n",
       "      <td>0.154091</td>\n",
       "      <td>2.086364</td>\n",
       "      <td>4.272727</td>\n",
       "    </tr>\n",
       "    <tr>\n",
       "      <th>10-04-2002</th>\n",
       "      <td>25.511818</td>\n",
       "      <td>-1829.05</td>\n",
       "      <td>-1891.48</td>\n",
       "      <td>-712.25</td>\n",
       "      <td>-1810.05</td>\n",
       "      <td>-1856.55</td>\n",
       "      <td>-629.85</td>\n",
       "      <td>-1.295</td>\n",
       "      <td>-1.445</td>\n",
       "      <td>-0.803</td>\n",
       "      <td>...</td>\n",
       "      <td>-6.772727</td>\n",
       "      <td>-237.272727</td>\n",
       "      <td>-673.636364</td>\n",
       "      <td>0.104545</td>\n",
       "      <td>0.377273</td>\n",
       "      <td>-0.254545</td>\n",
       "      <td>-0.254545</td>\n",
       "      <td>0.095909</td>\n",
       "      <td>1.998636</td>\n",
       "      <td>4.203182</td>\n",
       "    </tr>\n",
       "    <tr>\n",
       "      <th>11-04-2002</th>\n",
       "      <td>25.615909</td>\n",
       "      <td>-711.28</td>\n",
       "      <td>-2675.97</td>\n",
       "      <td>-1423.53</td>\n",
       "      <td>-896.72</td>\n",
       "      <td>-2824.96</td>\n",
       "      <td>-1526.57</td>\n",
       "      <td>-0.297</td>\n",
       "      <td>-1.677</td>\n",
       "      <td>-1.100</td>\n",
       "      <td>...</td>\n",
       "      <td>-2.545455</td>\n",
       "      <td>-203.636364</td>\n",
       "      <td>-640.000000</td>\n",
       "      <td>0.077273</td>\n",
       "      <td>0.350000</td>\n",
       "      <td>-0.290909</td>\n",
       "      <td>-0.290909</td>\n",
       "      <td>0.104091</td>\n",
       "      <td>1.907727</td>\n",
       "      <td>4.135909</td>\n",
       "    </tr>\n",
       "  </tbody>\n",
       "</table>\n",
       "<p>5 rows × 53 columns</p>\n",
       "</div>"
      ],
      "text/plain": [
       "            PX_LAST_t-1  PX_LAST_DAX_t-1_1D_change  PX_LAST_DAX_t-1_2W_change  \\\n",
       "Date                                                                            \n",
       "05-04-2002    25.123636                       9.11                    -109.75   \n",
       "08-04-2002    25.261818                       0.00                     -93.73   \n",
       "09-04-2002    25.415909                       0.00                    -111.18   \n",
       "10-04-2002    25.511818                   -1829.05                   -1891.48   \n",
       "11-04-2002    25.615909                    -711.28                   -2675.97   \n",
       "\n",
       "            PX_LAST_DAX_t-1_1M_change  PX_LAST_DowJones_t-1_1D_change  \\\n",
       "Date                                                                    \n",
       "05-04-2002                     -26.89                         -351.65   \n",
       "08-04-2002                     372.18                            0.00   \n",
       "09-04-2002                     507.00                            0.00   \n",
       "10-04-2002                    -712.25                        -1810.05   \n",
       "11-04-2002                   -1423.53                         -896.72   \n",
       "\n",
       "            PX_LAST_DowJones_t-1_2W_change  PX_LAST_DowJones_t-1_1M_change  \\\n",
       "Date                                                                         \n",
       "05-04-2002                         -266.40                           36.88   \n",
       "08-04-2002                         -244.67                          228.54   \n",
       "09-04-2002                         -192.50                          525.38   \n",
       "10-04-2002                        -1856.55                         -629.85   \n",
       "11-04-2002                        -2824.96                        -1526.57   \n",
       "\n",
       "            PX_MID_GT10_t-1_1D_change  PX_MID_GT10_t-1_2W_change  \\\n",
       "Date                                                               \n",
       "05-04-2002                      0.259                     -0.148   \n",
       "08-04-2002                      0.000                     -0.107   \n",
       "09-04-2002                      0.000                     -0.146   \n",
       "10-04-2002                     -1.295                     -1.445   \n",
       "11-04-2002                     -0.297                     -1.677   \n",
       "\n",
       "            PX_MID_GT10_t-1_1M_change  ...  \\\n",
       "Date                                   ...   \n",
       "05-04-2002                     -0.020  ...   \n",
       "08-04-2002                      0.202  ...   \n",
       "09-04-2002                      0.259  ...   \n",
       "10-04-2002                     -0.803  ...   \n",
       "11-04-2002                     -1.100  ...   \n",
       "\n",
       "            PX_LAST_Russia_daily_prod_M_SMA22_1M_change  \\\n",
       "Date                                                      \n",
       "05-04-2002                                   -19.454545   \n",
       "08-04-2002                                   -15.227273   \n",
       "09-04-2002                                   -11.000000   \n",
       "10-04-2002                                    -6.772727   \n",
       "11-04-2002                                    -2.545455   \n",
       "\n",
       "            PX_LAST_OPEC_daily_prod_M_SMA22_2W_change  \\\n",
       "Date                                                    \n",
       "05-04-2002                                -338.181818   \n",
       "08-04-2002                                -304.545455   \n",
       "09-04-2002                                -270.909091   \n",
       "10-04-2002                                -237.272727   \n",
       "11-04-2002                                -203.636364   \n",
       "\n",
       "            PX_LAST_OPEC_daily_prod_M_SMA22_1M_change  \\\n",
       "Date                                                    \n",
       "05-04-2002                                -774.545455   \n",
       "08-04-2002                                -740.909091   \n",
       "09-04-2002                                -707.272727   \n",
       "10-04-2002                                -673.636364   \n",
       "11-04-2002                                -640.000000   \n",
       "\n",
       "            PX_LAST_Europe_Inflation_M_SMA22_2W_change  \\\n",
       "Date                                                     \n",
       "05-04-2002                                    0.186364   \n",
       "08-04-2002                                    0.159091   \n",
       "09-04-2002                                    0.131818   \n",
       "10-04-2002                                    0.104545   \n",
       "11-04-2002                                    0.077273   \n",
       "\n",
       "            PX_LAST_Europe_Inflation_M_SMA22_1M_change  \\\n",
       "Date                                                     \n",
       "05-04-2002                                    0.459091   \n",
       "08-04-2002                                    0.431818   \n",
       "09-04-2002                                    0.404545   \n",
       "10-04-2002                                    0.377273   \n",
       "11-04-2002                                    0.350000   \n",
       "\n",
       "            PX_LAST_Russia_Industrial_Production_M_SMA22_2W_change  \\\n",
       "Date                                                                 \n",
       "05-04-2002                                          -0.145455        \n",
       "08-04-2002                                          -0.181818        \n",
       "09-04-2002                                          -0.218182        \n",
       "10-04-2002                                          -0.254545        \n",
       "11-04-2002                                          -0.290909        \n",
       "\n",
       "            PX_LAST_Russia_Industrial_Production_M_SMA22_1M_change  \\\n",
       "Date                                                                 \n",
       "05-04-2002                                          -0.145455        \n",
       "08-04-2002                                          -0.181818        \n",
       "09-04-2002                                          -0.218182        \n",
       "10-04-2002                                          -0.254545        \n",
       "11-04-2002                                          -0.290909        \n",
       "\n",
       "            PX_LAST_t-1_1D_change  PX_LAST_t-1_2W_change  \\\n",
       "Date                                                       \n",
       "05-04-2002               0.187727               2.239091   \n",
       "08-04-2002               0.138182               2.162273   \n",
       "09-04-2002               0.154091               2.086364   \n",
       "10-04-2002               0.095909               1.998636   \n",
       "11-04-2002               0.104091               1.907727   \n",
       "\n",
       "            PX_LAST_t-1_1M_change  \n",
       "Date                               \n",
       "05-04-2002               4.274091  \n",
       "08-04-2002               4.244545  \n",
       "09-04-2002               4.272727  \n",
       "10-04-2002               4.203182  \n",
       "11-04-2002               4.135909  \n",
       "\n",
       "[5 rows x 53 columns]"
      ]
     },
     "execution_count": 150,
     "metadata": {},
     "output_type": "execute_result"
    }
   ],
   "source": [
    "df_features.head()"
   ]
  },
  {
   "cell_type": "code",
   "execution_count": 41,
   "metadata": {},
   "outputs": [
    {
     "data": {
      "text/html": [
       "<div>\n",
       "<style scoped>\n",
       "    .dataframe tbody tr th:only-of-type {\n",
       "        vertical-align: middle;\n",
       "    }\n",
       "\n",
       "    .dataframe tbody tr th {\n",
       "        vertical-align: top;\n",
       "    }\n",
       "\n",
       "    .dataframe thead th {\n",
       "        text-align: right;\n",
       "    }\n",
       "</style>\n",
       "<table border=\"1\" class=\"dataframe\">\n",
       "  <thead>\n",
       "    <tr style=\"text-align: right;\">\n",
       "      <th></th>\n",
       "      <th>PX_LAST</th>\n",
       "    </tr>\n",
       "    <tr>\n",
       "      <th>Date</th>\n",
       "      <th></th>\n",
       "    </tr>\n",
       "  </thead>\n",
       "  <tbody>\n",
       "    <tr>\n",
       "      <th>05-04-2002</th>\n",
       "      <td>25.261818</td>\n",
       "    </tr>\n",
       "    <tr>\n",
       "      <th>08-04-2002</th>\n",
       "      <td>25.415909</td>\n",
       "    </tr>\n",
       "    <tr>\n",
       "      <th>09-04-2002</th>\n",
       "      <td>25.511818</td>\n",
       "    </tr>\n",
       "    <tr>\n",
       "      <th>10-04-2002</th>\n",
       "      <td>25.615909</td>\n",
       "    </tr>\n",
       "    <tr>\n",
       "      <th>11-04-2002</th>\n",
       "      <td>25.646818</td>\n",
       "    </tr>\n",
       "  </tbody>\n",
       "</table>\n",
       "</div>"
      ],
      "text/plain": [
       "              PX_LAST\n",
       "Date                 \n",
       "05-04-2002  25.261818\n",
       "08-04-2002  25.415909\n",
       "09-04-2002  25.511818\n",
       "10-04-2002  25.615909\n",
       "11-04-2002  25.646818"
      ]
     },
     "execution_count": 41,
     "metadata": {},
     "output_type": "execute_result"
    }
   ],
   "source": [
    "df_target.head()"
   ]
  },
  {
   "cell_type": "code",
   "execution_count": 44,
   "metadata": {},
   "outputs": [],
   "source": [
    "split_data, train_data, test_data = get_data_splits(df_target, df_features, n_splits=100, train_per=0.75)"
   ]
  },
  {
   "cell_type": "markdown",
   "metadata": {},
   "source": [
    "#### Lasso regression with time series CV to find lambda"
   ]
  },
  {
   "cell_type": "code",
   "execution_count": 160,
   "metadata": {},
   "outputs": [
    {
     "name": "stdout",
     "output_type": "stream",
     "text": [
      "Lasso Alpha* = 0.01\n",
      "Lasso Validation RMSE = 0.2913132055850323\n"
     ]
    }
   ],
   "source": [
    "alpha_rmse, a_star_lasso = lasso(split_data, alphas=np.arange(0.01, 0.5, 0.02))"
   ]
  },
  {
   "cell_type": "code",
   "execution_count": null,
   "metadata": {},
   "outputs": [],
   "source": [
    "pred_lasso, rmse = lasso_test(train_data, test_data, alpha=a_star_lasso)"
   ]
  },
  {
   "cell_type": "code",
   "execution_count": null,
   "metadata": {},
   "outputs": [],
   "source": [
    "rmse"
   ]
  },
  {
   "cell_type": "code",
   "execution_count": null,
   "metadata": {},
   "outputs": [],
   "source": [
    "plt.plot(pred_lasso, label='pred')\n",
    "plt.plot(test_data[1], label='true')\n",
    "plt.legend()\n",
    "plt.xlim(1000, 1050)\n",
    "plt.ylim(0,40)"
   ]
  },
  {
   "cell_type": "markdown",
   "metadata": {},
   "source": [
    "#### Huber regression with time series CV to find lambda"
   ]
  },
  {
   "cell_type": "code",
   "execution_count": 172,
   "metadata": {},
   "outputs": [
    {
     "ename": "KeyboardInterrupt",
     "evalue": "",
     "output_type": "error",
     "traceback": [
      "\u001b[1;31m---------------------------------------------------------------------------\u001b[0m",
      "\u001b[1;31mKeyboardInterrupt\u001b[0m                         Traceback (most recent call last)",
      "\u001b[1;32m<ipython-input-172-7725ba23b6b6>\u001b[0m in \u001b[0;36m<module>\u001b[1;34m\u001b[0m\n\u001b[1;32m----> 1\u001b[1;33m \u001b[0malpha_rmse\u001b[0m\u001b[1;33m,\u001b[0m \u001b[0ma_star_huber\u001b[0m \u001b[1;33m=\u001b[0m \u001b[0mhuber\u001b[0m\u001b[1;33m(\u001b[0m\u001b[0msplit_data\u001b[0m\u001b[1;33m,\u001b[0m \u001b[0malphas\u001b[0m\u001b[1;33m=\u001b[0m\u001b[0mnp\u001b[0m\u001b[1;33m.\u001b[0m\u001b[0marange\u001b[0m\u001b[1;33m(\u001b[0m\u001b[1;36m0.01\u001b[0m\u001b[1;33m,\u001b[0m \u001b[1;36m0.5\u001b[0m\u001b[1;33m,\u001b[0m \u001b[1;36m0.02\u001b[0m\u001b[1;33m)\u001b[0m\u001b[1;33m)\u001b[0m\u001b[1;33m\u001b[0m\u001b[1;33m\u001b[0m\u001b[0m\n\u001b[0m",
      "\u001b[1;32m<ipython-input-161-905efbc3db10>\u001b[0m in \u001b[0;36mhuber\u001b[1;34m(split_data, alphas)\u001b[0m\n\u001b[0;32m     14\u001b[0m         \u001b[1;32mfor\u001b[0m \u001b[0mi\u001b[0m \u001b[1;32min\u001b[0m \u001b[0mrange\u001b[0m\u001b[1;33m(\u001b[0m\u001b[0mlen\u001b[0m\u001b[1;33m(\u001b[0m\u001b[0msplit_train_x\u001b[0m\u001b[1;33m)\u001b[0m\u001b[1;33m)\u001b[0m\u001b[1;33m:\u001b[0m\u001b[1;33m\u001b[0m\u001b[1;33m\u001b[0m\u001b[0m\n\u001b[0;32m     15\u001b[0m             \u001b[0mwrapped_model\u001b[0m \u001b[1;33m=\u001b[0m \u001b[0mTransformedTargetRegressor\u001b[0m\u001b[1;33m(\u001b[0m\u001b[0mregressor\u001b[0m\u001b[1;33m=\u001b[0m\u001b[0mmodel\u001b[0m\u001b[1;33m,\u001b[0m \u001b[0mtransformer\u001b[0m\u001b[1;33m=\u001b[0m\u001b[0mRobustScaler\u001b[0m\u001b[1;33m(\u001b[0m\u001b[1;33m)\u001b[0m\u001b[1;33m)\u001b[0m\u001b[1;33m\u001b[0m\u001b[1;33m\u001b[0m\u001b[0m\n\u001b[1;32m---> 16\u001b[1;33m             \u001b[0mwrapped_model\u001b[0m\u001b[1;33m.\u001b[0m\u001b[0mfit\u001b[0m\u001b[1;33m(\u001b[0m\u001b[0msplit_train_x\u001b[0m\u001b[1;33m[\u001b[0m\u001b[0mi\u001b[0m\u001b[1;33m]\u001b[0m\u001b[1;33m,\u001b[0m \u001b[0msplit_train_y\u001b[0m\u001b[1;33m[\u001b[0m\u001b[0mi\u001b[0m\u001b[1;33m]\u001b[0m\u001b[1;33m)\u001b[0m\u001b[1;33m\u001b[0m\u001b[1;33m\u001b[0m\u001b[0m\n\u001b[0m\u001b[0;32m     17\u001b[0m             \u001b[0myhat\u001b[0m \u001b[1;33m=\u001b[0m \u001b[0mwrapped_model\u001b[0m\u001b[1;33m.\u001b[0m\u001b[0mpredict\u001b[0m\u001b[1;33m(\u001b[0m\u001b[0msplit_val_x\u001b[0m\u001b[1;33m[\u001b[0m\u001b[0mi\u001b[0m\u001b[1;33m]\u001b[0m\u001b[1;33m)\u001b[0m\u001b[1;33m\u001b[0m\u001b[1;33m\u001b[0m\u001b[0m\n\u001b[0;32m     18\u001b[0m             \u001b[0mrmse\u001b[0m\u001b[1;33m.\u001b[0m\u001b[0mappend\u001b[0m\u001b[1;33m(\u001b[0m\u001b[0mnp\u001b[0m\u001b[1;33m.\u001b[0m\u001b[0mmean\u001b[0m\u001b[1;33m(\u001b[0m\u001b[1;33m(\u001b[0m\u001b[0myhat\u001b[0m\u001b[1;33m-\u001b[0m\u001b[0msplit_val_y\u001b[0m\u001b[1;33m[\u001b[0m\u001b[0mi\u001b[0m\u001b[1;33m]\u001b[0m\u001b[1;33m)\u001b[0m\u001b[1;33m**\u001b[0m\u001b[1;36m2\u001b[0m\u001b[1;33m)\u001b[0m\u001b[1;33m**\u001b[0m\u001b[1;36m0.5\u001b[0m\u001b[1;33m)\u001b[0m\u001b[1;33m\u001b[0m\u001b[1;33m\u001b[0m\u001b[0m\n",
      "\u001b[1;32mc:\\users\\joel\\appdata\\local\\programs\\python\\python37\\lib\\site-packages\\sklearn\\compose\\_target.py\u001b[0m in \u001b[0;36mfit\u001b[1;34m(self, X, y, **fit_params)\u001b[0m\n\u001b[0;32m    244\u001b[0m             \u001b[0mself\u001b[0m\u001b[1;33m.\u001b[0m\u001b[0mregressor_\u001b[0m \u001b[1;33m=\u001b[0m \u001b[0mclone\u001b[0m\u001b[1;33m(\u001b[0m\u001b[0mself\u001b[0m\u001b[1;33m.\u001b[0m\u001b[0mregressor\u001b[0m\u001b[1;33m)\u001b[0m\u001b[1;33m\u001b[0m\u001b[1;33m\u001b[0m\u001b[0m\n\u001b[0;32m    245\u001b[0m \u001b[1;33m\u001b[0m\u001b[0m\n\u001b[1;32m--> 246\u001b[1;33m         \u001b[0mself\u001b[0m\u001b[1;33m.\u001b[0m\u001b[0mregressor_\u001b[0m\u001b[1;33m.\u001b[0m\u001b[0mfit\u001b[0m\u001b[1;33m(\u001b[0m\u001b[0mX\u001b[0m\u001b[1;33m,\u001b[0m \u001b[0my_trans\u001b[0m\u001b[1;33m,\u001b[0m \u001b[1;33m**\u001b[0m\u001b[0mfit_params\u001b[0m\u001b[1;33m)\u001b[0m\u001b[1;33m\u001b[0m\u001b[1;33m\u001b[0m\u001b[0m\n\u001b[0m\u001b[0;32m    247\u001b[0m \u001b[1;33m\u001b[0m\u001b[0m\n\u001b[0;32m    248\u001b[0m         \u001b[1;32mif\u001b[0m \u001b[0mhasattr\u001b[0m\u001b[1;33m(\u001b[0m\u001b[0mself\u001b[0m\u001b[1;33m.\u001b[0m\u001b[0mregressor_\u001b[0m\u001b[1;33m,\u001b[0m \u001b[1;34m\"feature_names_in_\"\u001b[0m\u001b[1;33m)\u001b[0m\u001b[1;33m:\u001b[0m\u001b[1;33m\u001b[0m\u001b[1;33m\u001b[0m\u001b[0m\n",
      "\u001b[1;32mc:\\users\\joel\\appdata\\local\\programs\\python\\python37\\lib\\site-packages\\sklearn\\linear_model\\_huber.py\u001b[0m in \u001b[0;36mfit\u001b[1;34m(self, X, y, sample_weight)\u001b[0m\n\u001b[0;32m    320\u001b[0m             \u001b[0margs\u001b[0m\u001b[1;33m=\u001b[0m\u001b[1;33m(\u001b[0m\u001b[0mX\u001b[0m\u001b[1;33m,\u001b[0m \u001b[0my\u001b[0m\u001b[1;33m,\u001b[0m \u001b[0mself\u001b[0m\u001b[1;33m.\u001b[0m\u001b[0mepsilon\u001b[0m\u001b[1;33m,\u001b[0m \u001b[0mself\u001b[0m\u001b[1;33m.\u001b[0m\u001b[0malpha\u001b[0m\u001b[1;33m,\u001b[0m \u001b[0msample_weight\u001b[0m\u001b[1;33m)\u001b[0m\u001b[1;33m,\u001b[0m\u001b[1;33m\u001b[0m\u001b[1;33m\u001b[0m\u001b[0m\n\u001b[0;32m    321\u001b[0m             \u001b[0moptions\u001b[0m\u001b[1;33m=\u001b[0m\u001b[1;33m{\u001b[0m\u001b[1;34m\"maxiter\"\u001b[0m\u001b[1;33m:\u001b[0m \u001b[0mself\u001b[0m\u001b[1;33m.\u001b[0m\u001b[0mmax_iter\u001b[0m\u001b[1;33m,\u001b[0m \u001b[1;34m\"gtol\"\u001b[0m\u001b[1;33m:\u001b[0m \u001b[0mself\u001b[0m\u001b[1;33m.\u001b[0m\u001b[0mtol\u001b[0m\u001b[1;33m,\u001b[0m \u001b[1;34m\"iprint\"\u001b[0m\u001b[1;33m:\u001b[0m \u001b[1;33m-\u001b[0m\u001b[1;36m1\u001b[0m\u001b[1;33m}\u001b[0m\u001b[1;33m,\u001b[0m\u001b[1;33m\u001b[0m\u001b[1;33m\u001b[0m\u001b[0m\n\u001b[1;32m--> 322\u001b[1;33m             \u001b[0mbounds\u001b[0m\u001b[1;33m=\u001b[0m\u001b[0mbounds\u001b[0m\u001b[1;33m,\u001b[0m\u001b[1;33m\u001b[0m\u001b[1;33m\u001b[0m\u001b[0m\n\u001b[0m\u001b[0;32m    323\u001b[0m         )\n\u001b[0;32m    324\u001b[0m \u001b[1;33m\u001b[0m\u001b[0m\n",
      "\u001b[1;32mc:\\users\\joel\\appdata\\local\\programs\\python\\python37\\lib\\site-packages\\scipy\\optimize\\_minimize.py\u001b[0m in \u001b[0;36mminimize\u001b[1;34m(fun, x0, args, method, jac, hess, hessp, bounds, constraints, tol, callback, options)\u001b[0m\n\u001b[0;32m    622\u001b[0m     \u001b[1;32melif\u001b[0m \u001b[0mmeth\u001b[0m \u001b[1;33m==\u001b[0m \u001b[1;34m'l-bfgs-b'\u001b[0m\u001b[1;33m:\u001b[0m\u001b[1;33m\u001b[0m\u001b[1;33m\u001b[0m\u001b[0m\n\u001b[0;32m    623\u001b[0m         return _minimize_lbfgsb(fun, x0, args, jac, bounds,\n\u001b[1;32m--> 624\u001b[1;33m                                 callback=callback, **options)\n\u001b[0m\u001b[0;32m    625\u001b[0m     \u001b[1;32melif\u001b[0m \u001b[0mmeth\u001b[0m \u001b[1;33m==\u001b[0m \u001b[1;34m'tnc'\u001b[0m\u001b[1;33m:\u001b[0m\u001b[1;33m\u001b[0m\u001b[1;33m\u001b[0m\u001b[0m\n\u001b[0;32m    626\u001b[0m         return _minimize_tnc(fun, x0, args, jac, bounds, callback=callback,\n",
      "\u001b[1;32mc:\\users\\joel\\appdata\\local\\programs\\python\\python37\\lib\\site-packages\\scipy\\optimize\\lbfgsb.py\u001b[0m in \u001b[0;36m_minimize_lbfgsb\u001b[1;34m(fun, x0, args, jac, bounds, disp, maxcor, ftol, gtol, eps, maxfun, maxiter, iprint, callback, maxls, finite_diff_rel_step, **unknown_options)\u001b[0m\n\u001b[0;32m    358\u001b[0m             \u001b[1;31m# until the completion of the current minimization iteration.\u001b[0m\u001b[1;33m\u001b[0m\u001b[1;33m\u001b[0m\u001b[1;33m\u001b[0m\u001b[0m\n\u001b[0;32m    359\u001b[0m             \u001b[1;31m# Overwrite f and g:\u001b[0m\u001b[1;33m\u001b[0m\u001b[1;33m\u001b[0m\u001b[1;33m\u001b[0m\u001b[0m\n\u001b[1;32m--> 360\u001b[1;33m             \u001b[0mf\u001b[0m\u001b[1;33m,\u001b[0m \u001b[0mg\u001b[0m \u001b[1;33m=\u001b[0m \u001b[0mfunc_and_grad\u001b[0m\u001b[1;33m(\u001b[0m\u001b[0mx\u001b[0m\u001b[1;33m)\u001b[0m\u001b[1;33m\u001b[0m\u001b[1;33m\u001b[0m\u001b[0m\n\u001b[0m\u001b[0;32m    361\u001b[0m         \u001b[1;32melif\u001b[0m \u001b[0mtask_str\u001b[0m\u001b[1;33m.\u001b[0m\u001b[0mstartswith\u001b[0m\u001b[1;33m(\u001b[0m\u001b[1;34mb'NEW_X'\u001b[0m\u001b[1;33m)\u001b[0m\u001b[1;33m:\u001b[0m\u001b[1;33m\u001b[0m\u001b[1;33m\u001b[0m\u001b[0m\n\u001b[0;32m    362\u001b[0m             \u001b[1;31m# new iteration\u001b[0m\u001b[1;33m\u001b[0m\u001b[1;33m\u001b[0m\u001b[1;33m\u001b[0m\u001b[0m\n",
      "\u001b[1;32mc:\\users\\joel\\appdata\\local\\programs\\python\\python37\\lib\\site-packages\\scipy\\optimize\\_differentiable_functions.py\u001b[0m in \u001b[0;36mfun_and_grad\u001b[1;34m(self, x)\u001b[0m\n\u001b[0;32m    265\u001b[0m         \u001b[1;32mif\u001b[0m \u001b[1;32mnot\u001b[0m \u001b[0mnp\u001b[0m\u001b[1;33m.\u001b[0m\u001b[0marray_equal\u001b[0m\u001b[1;33m(\u001b[0m\u001b[0mx\u001b[0m\u001b[1;33m,\u001b[0m \u001b[0mself\u001b[0m\u001b[1;33m.\u001b[0m\u001b[0mx\u001b[0m\u001b[1;33m)\u001b[0m\u001b[1;33m:\u001b[0m\u001b[1;33m\u001b[0m\u001b[1;33m\u001b[0m\u001b[0m\n\u001b[0;32m    266\u001b[0m             \u001b[0mself\u001b[0m\u001b[1;33m.\u001b[0m\u001b[0m_update_x_impl\u001b[0m\u001b[1;33m(\u001b[0m\u001b[0mx\u001b[0m\u001b[1;33m)\u001b[0m\u001b[1;33m\u001b[0m\u001b[1;33m\u001b[0m\u001b[0m\n\u001b[1;32m--> 267\u001b[1;33m         \u001b[0mself\u001b[0m\u001b[1;33m.\u001b[0m\u001b[0m_update_fun\u001b[0m\u001b[1;33m(\u001b[0m\u001b[1;33m)\u001b[0m\u001b[1;33m\u001b[0m\u001b[1;33m\u001b[0m\u001b[0m\n\u001b[0m\u001b[0;32m    268\u001b[0m         \u001b[0mself\u001b[0m\u001b[1;33m.\u001b[0m\u001b[0m_update_grad\u001b[0m\u001b[1;33m(\u001b[0m\u001b[1;33m)\u001b[0m\u001b[1;33m\u001b[0m\u001b[1;33m\u001b[0m\u001b[0m\n\u001b[0;32m    269\u001b[0m         \u001b[1;32mreturn\u001b[0m \u001b[0mself\u001b[0m\u001b[1;33m.\u001b[0m\u001b[0mf\u001b[0m\u001b[1;33m,\u001b[0m \u001b[0mself\u001b[0m\u001b[1;33m.\u001b[0m\u001b[0mg\u001b[0m\u001b[1;33m\u001b[0m\u001b[1;33m\u001b[0m\u001b[0m\n",
      "\u001b[1;32mc:\\users\\joel\\appdata\\local\\programs\\python\\python37\\lib\\site-packages\\scipy\\optimize\\_differentiable_functions.py\u001b[0m in \u001b[0;36m_update_fun\u001b[1;34m(self)\u001b[0m\n\u001b[0;32m    231\u001b[0m     \u001b[1;32mdef\u001b[0m \u001b[0m_update_fun\u001b[0m\u001b[1;33m(\u001b[0m\u001b[0mself\u001b[0m\u001b[1;33m)\u001b[0m\u001b[1;33m:\u001b[0m\u001b[1;33m\u001b[0m\u001b[1;33m\u001b[0m\u001b[0m\n\u001b[0;32m    232\u001b[0m         \u001b[1;32mif\u001b[0m \u001b[1;32mnot\u001b[0m \u001b[0mself\u001b[0m\u001b[1;33m.\u001b[0m\u001b[0mf_updated\u001b[0m\u001b[1;33m:\u001b[0m\u001b[1;33m\u001b[0m\u001b[1;33m\u001b[0m\u001b[0m\n\u001b[1;32m--> 233\u001b[1;33m             \u001b[0mself\u001b[0m\u001b[1;33m.\u001b[0m\u001b[0m_update_fun_impl\u001b[0m\u001b[1;33m(\u001b[0m\u001b[1;33m)\u001b[0m\u001b[1;33m\u001b[0m\u001b[1;33m\u001b[0m\u001b[0m\n\u001b[0m\u001b[0;32m    234\u001b[0m             \u001b[0mself\u001b[0m\u001b[1;33m.\u001b[0m\u001b[0mf_updated\u001b[0m \u001b[1;33m=\u001b[0m \u001b[1;32mTrue\u001b[0m\u001b[1;33m\u001b[0m\u001b[1;33m\u001b[0m\u001b[0m\n\u001b[0;32m    235\u001b[0m \u001b[1;33m\u001b[0m\u001b[0m\n",
      "\u001b[1;32mc:\\users\\joel\\appdata\\local\\programs\\python\\python37\\lib\\site-packages\\scipy\\optimize\\_differentiable_functions.py\u001b[0m in \u001b[0;36mupdate_fun\u001b[1;34m()\u001b[0m\n\u001b[0;32m    135\u001b[0m \u001b[1;33m\u001b[0m\u001b[0m\n\u001b[0;32m    136\u001b[0m         \u001b[1;32mdef\u001b[0m \u001b[0mupdate_fun\u001b[0m\u001b[1;33m(\u001b[0m\u001b[1;33m)\u001b[0m\u001b[1;33m:\u001b[0m\u001b[1;33m\u001b[0m\u001b[1;33m\u001b[0m\u001b[0m\n\u001b[1;32m--> 137\u001b[1;33m             \u001b[0mself\u001b[0m\u001b[1;33m.\u001b[0m\u001b[0mf\u001b[0m \u001b[1;33m=\u001b[0m \u001b[0mfun_wrapped\u001b[0m\u001b[1;33m(\u001b[0m\u001b[0mself\u001b[0m\u001b[1;33m.\u001b[0m\u001b[0mx\u001b[0m\u001b[1;33m)\u001b[0m\u001b[1;33m\u001b[0m\u001b[1;33m\u001b[0m\u001b[0m\n\u001b[0m\u001b[0;32m    138\u001b[0m \u001b[1;33m\u001b[0m\u001b[0m\n\u001b[0;32m    139\u001b[0m         \u001b[0mself\u001b[0m\u001b[1;33m.\u001b[0m\u001b[0m_update_fun_impl\u001b[0m \u001b[1;33m=\u001b[0m \u001b[0mupdate_fun\u001b[0m\u001b[1;33m\u001b[0m\u001b[1;33m\u001b[0m\u001b[0m\n",
      "\u001b[1;32mc:\\users\\joel\\appdata\\local\\programs\\python\\python37\\lib\\site-packages\\scipy\\optimize\\_differentiable_functions.py\u001b[0m in \u001b[0;36mfun_wrapped\u001b[1;34m(x)\u001b[0m\n\u001b[0;32m    132\u001b[0m             \u001b[1;31m# Overwriting results in undefined behaviour because\u001b[0m\u001b[1;33m\u001b[0m\u001b[1;33m\u001b[0m\u001b[1;33m\u001b[0m\u001b[0m\n\u001b[0;32m    133\u001b[0m             \u001b[1;31m# fun(self.x) will change self.x, with the two no longer linked.\u001b[0m\u001b[1;33m\u001b[0m\u001b[1;33m\u001b[0m\u001b[1;33m\u001b[0m\u001b[0m\n\u001b[1;32m--> 134\u001b[1;33m             \u001b[1;32mreturn\u001b[0m \u001b[0mfun\u001b[0m\u001b[1;33m(\u001b[0m\u001b[0mnp\u001b[0m\u001b[1;33m.\u001b[0m\u001b[0mcopy\u001b[0m\u001b[1;33m(\u001b[0m\u001b[0mx\u001b[0m\u001b[1;33m)\u001b[0m\u001b[1;33m,\u001b[0m \u001b[1;33m*\u001b[0m\u001b[0margs\u001b[0m\u001b[1;33m)\u001b[0m\u001b[1;33m\u001b[0m\u001b[1;33m\u001b[0m\u001b[0m\n\u001b[0m\u001b[0;32m    135\u001b[0m \u001b[1;33m\u001b[0m\u001b[0m\n\u001b[0;32m    136\u001b[0m         \u001b[1;32mdef\u001b[0m \u001b[0mupdate_fun\u001b[0m\u001b[1;33m(\u001b[0m\u001b[1;33m)\u001b[0m\u001b[1;33m:\u001b[0m\u001b[1;33m\u001b[0m\u001b[1;33m\u001b[0m\u001b[0m\n",
      "\u001b[1;32mc:\\users\\joel\\appdata\\local\\programs\\python\\python37\\lib\\site-packages\\scipy\\optimize\\optimize.py\u001b[0m in \u001b[0;36m__call__\u001b[1;34m(self, x, *args)\u001b[0m\n\u001b[0;32m     72\u001b[0m     \u001b[1;32mdef\u001b[0m \u001b[0m__call__\u001b[0m\u001b[1;33m(\u001b[0m\u001b[0mself\u001b[0m\u001b[1;33m,\u001b[0m \u001b[0mx\u001b[0m\u001b[1;33m,\u001b[0m \u001b[1;33m*\u001b[0m\u001b[0margs\u001b[0m\u001b[1;33m)\u001b[0m\u001b[1;33m:\u001b[0m\u001b[1;33m\u001b[0m\u001b[1;33m\u001b[0m\u001b[0m\n\u001b[0;32m     73\u001b[0m         \u001b[1;34m\"\"\" returns the the function value \"\"\"\u001b[0m\u001b[1;33m\u001b[0m\u001b[1;33m\u001b[0m\u001b[0m\n\u001b[1;32m---> 74\u001b[1;33m         \u001b[0mself\u001b[0m\u001b[1;33m.\u001b[0m\u001b[0m_compute_if_needed\u001b[0m\u001b[1;33m(\u001b[0m\u001b[0mx\u001b[0m\u001b[1;33m,\u001b[0m \u001b[1;33m*\u001b[0m\u001b[0margs\u001b[0m\u001b[1;33m)\u001b[0m\u001b[1;33m\u001b[0m\u001b[1;33m\u001b[0m\u001b[0m\n\u001b[0m\u001b[0;32m     75\u001b[0m         \u001b[1;32mreturn\u001b[0m \u001b[0mself\u001b[0m\u001b[1;33m.\u001b[0m\u001b[0m_value\u001b[0m\u001b[1;33m\u001b[0m\u001b[1;33m\u001b[0m\u001b[0m\n\u001b[0;32m     76\u001b[0m \u001b[1;33m\u001b[0m\u001b[0m\n",
      "\u001b[1;32mc:\\users\\joel\\appdata\\local\\programs\\python\\python37\\lib\\site-packages\\scipy\\optimize\\optimize.py\u001b[0m in \u001b[0;36m_compute_if_needed\u001b[1;34m(self, x, *args)\u001b[0m\n\u001b[0;32m     66\u001b[0m         \u001b[1;32mif\u001b[0m \u001b[1;32mnot\u001b[0m \u001b[0mnp\u001b[0m\u001b[1;33m.\u001b[0m\u001b[0mall\u001b[0m\u001b[1;33m(\u001b[0m\u001b[0mx\u001b[0m \u001b[1;33m==\u001b[0m \u001b[0mself\u001b[0m\u001b[1;33m.\u001b[0m\u001b[0mx\u001b[0m\u001b[1;33m)\u001b[0m \u001b[1;32mor\u001b[0m \u001b[0mself\u001b[0m\u001b[1;33m.\u001b[0m\u001b[0m_value\u001b[0m \u001b[1;32mis\u001b[0m \u001b[1;32mNone\u001b[0m \u001b[1;32mor\u001b[0m \u001b[0mself\u001b[0m\u001b[1;33m.\u001b[0m\u001b[0mjac\u001b[0m \u001b[1;32mis\u001b[0m \u001b[1;32mNone\u001b[0m\u001b[1;33m:\u001b[0m\u001b[1;33m\u001b[0m\u001b[1;33m\u001b[0m\u001b[0m\n\u001b[0;32m     67\u001b[0m             \u001b[0mself\u001b[0m\u001b[1;33m.\u001b[0m\u001b[0mx\u001b[0m \u001b[1;33m=\u001b[0m \u001b[0mnp\u001b[0m\u001b[1;33m.\u001b[0m\u001b[0masarray\u001b[0m\u001b[1;33m(\u001b[0m\u001b[0mx\u001b[0m\u001b[1;33m)\u001b[0m\u001b[1;33m.\u001b[0m\u001b[0mcopy\u001b[0m\u001b[1;33m(\u001b[0m\u001b[1;33m)\u001b[0m\u001b[1;33m\u001b[0m\u001b[1;33m\u001b[0m\u001b[0m\n\u001b[1;32m---> 68\u001b[1;33m             \u001b[0mfg\u001b[0m \u001b[1;33m=\u001b[0m \u001b[0mself\u001b[0m\u001b[1;33m.\u001b[0m\u001b[0mfun\u001b[0m\u001b[1;33m(\u001b[0m\u001b[0mx\u001b[0m\u001b[1;33m,\u001b[0m \u001b[1;33m*\u001b[0m\u001b[0margs\u001b[0m\u001b[1;33m)\u001b[0m\u001b[1;33m\u001b[0m\u001b[1;33m\u001b[0m\u001b[0m\n\u001b[0m\u001b[0;32m     69\u001b[0m             \u001b[0mself\u001b[0m\u001b[1;33m.\u001b[0m\u001b[0mjac\u001b[0m \u001b[1;33m=\u001b[0m \u001b[0mfg\u001b[0m\u001b[1;33m[\u001b[0m\u001b[1;36m1\u001b[0m\u001b[1;33m]\u001b[0m\u001b[1;33m\u001b[0m\u001b[1;33m\u001b[0m\u001b[0m\n\u001b[0;32m     70\u001b[0m             \u001b[0mself\u001b[0m\u001b[1;33m.\u001b[0m\u001b[0m_value\u001b[0m \u001b[1;33m=\u001b[0m \u001b[0mfg\u001b[0m\u001b[1;33m[\u001b[0m\u001b[1;36m0\u001b[0m\u001b[1;33m]\u001b[0m\u001b[1;33m\u001b[0m\u001b[1;33m\u001b[0m\u001b[0m\n",
      "\u001b[1;32mc:\\users\\joel\\appdata\\local\\programs\\python\\python37\\lib\\site-packages\\sklearn\\linear_model\\_huber.py\u001b[0m in \u001b[0;36m_huber_loss_and_gradient\u001b[1;34m(w, X, y, epsilon, alpha, sample_weight)\u001b[0m\n\u001b[0;32m     93\u001b[0m \u001b[1;33m\u001b[0m\u001b[0m\n\u001b[0;32m     94\u001b[0m     \u001b[1;31m# Gradient due to the squared loss.\u001b[0m\u001b[1;33m\u001b[0m\u001b[1;33m\u001b[0m\u001b[1;33m\u001b[0m\u001b[0m\n\u001b[1;32m---> 95\u001b[1;33m     \u001b[0mX_non_outliers\u001b[0m \u001b[1;33m=\u001b[0m \u001b[1;33m-\u001b[0m\u001b[0maxis0_safe_slice\u001b[0m\u001b[1;33m(\u001b[0m\u001b[0mX\u001b[0m\u001b[1;33m,\u001b[0m \u001b[1;33m~\u001b[0m\u001b[0moutliers_mask\u001b[0m\u001b[1;33m,\u001b[0m \u001b[0mn_non_outliers\u001b[0m\u001b[1;33m)\u001b[0m\u001b[1;33m\u001b[0m\u001b[1;33m\u001b[0m\u001b[0m\n\u001b[0m\u001b[0;32m     96\u001b[0m     grad[:n_features] = (\n\u001b[0;32m     97\u001b[0m         \u001b[1;36m2.0\u001b[0m \u001b[1;33m/\u001b[0m \u001b[0msigma\u001b[0m \u001b[1;33m*\u001b[0m \u001b[0msafe_sparse_dot\u001b[0m\u001b[1;33m(\u001b[0m\u001b[0mweighted_non_outliers\u001b[0m\u001b[1;33m,\u001b[0m \u001b[0mX_non_outliers\u001b[0m\u001b[1;33m)\u001b[0m\u001b[1;33m\u001b[0m\u001b[1;33m\u001b[0m\u001b[0m\n",
      "\u001b[1;32mc:\\users\\joel\\appdata\\local\\programs\\python\\python37\\lib\\site-packages\\sklearn\\utils\\__init__.py\u001b[0m in \u001b[0;36maxis0_safe_slice\u001b[1;34m(X, mask, len_mask)\u001b[0m\n\u001b[0;32m    187\u001b[0m     \"\"\"\n\u001b[0;32m    188\u001b[0m     \u001b[1;32mif\u001b[0m \u001b[0mlen_mask\u001b[0m \u001b[1;33m!=\u001b[0m \u001b[1;36m0\u001b[0m\u001b[1;33m:\u001b[0m\u001b[1;33m\u001b[0m\u001b[1;33m\u001b[0m\u001b[0m\n\u001b[1;32m--> 189\u001b[1;33m         \u001b[1;32mreturn\u001b[0m \u001b[0mX\u001b[0m\u001b[1;33m[\u001b[0m\u001b[0msafe_mask\u001b[0m\u001b[1;33m(\u001b[0m\u001b[0mX\u001b[0m\u001b[1;33m,\u001b[0m \u001b[0mmask\u001b[0m\u001b[1;33m)\u001b[0m\u001b[1;33m,\u001b[0m \u001b[1;33m:\u001b[0m\u001b[1;33m]\u001b[0m\u001b[1;33m\u001b[0m\u001b[1;33m\u001b[0m\u001b[0m\n\u001b[0m\u001b[0;32m    190\u001b[0m     \u001b[1;32mreturn\u001b[0m \u001b[0mnp\u001b[0m\u001b[1;33m.\u001b[0m\u001b[0mzeros\u001b[0m\u001b[1;33m(\u001b[0m\u001b[0mshape\u001b[0m\u001b[1;33m=\u001b[0m\u001b[1;33m(\u001b[0m\u001b[1;36m0\u001b[0m\u001b[1;33m,\u001b[0m \u001b[0mX\u001b[0m\u001b[1;33m.\u001b[0m\u001b[0mshape\u001b[0m\u001b[1;33m[\u001b[0m\u001b[1;36m1\u001b[0m\u001b[1;33m]\u001b[0m\u001b[1;33m)\u001b[0m\u001b[1;33m)\u001b[0m\u001b[1;33m\u001b[0m\u001b[1;33m\u001b[0m\u001b[0m\n\u001b[0;32m    191\u001b[0m \u001b[1;33m\u001b[0m\u001b[0m\n",
      "\u001b[1;31mKeyboardInterrupt\u001b[0m: "
     ]
    }
   ],
   "source": [
    "alpha_rmse, a_star_huber = huber(split_data, alphas=np.arange(0.01, 0.5, 0.02))"
   ]
  },
  {
   "cell_type": "code",
   "execution_count": null,
   "metadata": {},
   "outputs": [],
   "source": [
    "pred_huber, rmse = huber_test(train_data, test_data, alpha=a_star_huber)"
   ]
  },
  {
   "cell_type": "code",
   "execution_count": null,
   "metadata": {},
   "outputs": [],
   "source": [
    "rmse"
   ]
  },
  {
   "cell_type": "code",
   "execution_count": null,
   "metadata": {},
   "outputs": [],
   "source": [
    "plt.plot(pred_huber, label='pred')\n",
    "plt.plot(test_data[1], label='true')\n",
    "plt.legend()\n",
    "# plt.xlim(900, 1100)\n",
    "# plt.ylim(-40,60)"
   ]
  },
  {
   "cell_type": "markdown",
   "metadata": {},
   "source": [
    "#### Random Forest regression with time series CV to find no of base esimators"
   ]
  },
  {
   "cell_type": "code",
   "execution_count": 93,
   "metadata": {},
   "outputs": [
    {
     "name": "stdout",
     "output_type": "stream",
     "text": [
      "n_est= 50\n",
      "n_est= 100\n",
      "n_est= 150\n",
      "n_est= 200\n",
      "n_est= 250\n",
      "n_est= 300\n",
      "n_est= 350\n",
      "n_est= 400\n",
      "n_est= 450\n",
      "n_est= 500\n",
      "n_est= 550\n",
      "n_est= 600\n",
      "n_est= 650\n",
      "n_est= 700\n",
      "n_est= 750\n",
      "n_est= 800\n",
      "n_est= 850\n",
      "n_est= 900\n",
      "n_est= 950\n",
      "n_est= 1000\n",
      "Random Forest Efficient Estimator = 100\n",
      "Random Forest Validation RMSE = 3.2783351369196376\n"
     ]
    }
   ],
   "source": [
    "estimator_rmse, best_est_rf = RF_regressor(split_data, estimators = np.arange(50, 1001, 50))"
   ]
  },
  {
   "cell_type": "code",
   "execution_count": 94,
   "metadata": {},
   "outputs": [],
   "source": [
    "pred, rmse = RF_regressor_test(train_data, test_data, best_est_rf)"
   ]
  },
  {
   "cell_type": "code",
   "execution_count": 173,
   "metadata": {},
   "outputs": [
    {
     "data": {
      "text/plain": [
       "0.26246144414480305"
      ]
     },
     "execution_count": 173,
     "metadata": {},
     "output_type": "execute_result"
    }
   ],
   "source": [
    "rmse"
   ]
  },
  {
   "cell_type": "code",
   "execution_count": 96,
   "metadata": {},
   "outputs": [
    {
     "data": {
      "text/plain": [
       "<matplotlib.legend.Legend at 0x2c6923ec408>"
      ]
     },
     "execution_count": 96,
     "metadata": {},
     "output_type": "execute_result"
    },
    {
     "data": {
      "image/png": "[encoded data removed]",
      "text/plain": [
       "<Figure size 432x288 with 1 Axes>"
      ]
     },
     "metadata": {
      "needs_background": "light"
     },
     "output_type": "display_data"
    }
   ],
   "source": [
    "plt.plot(pred, label='pred')\n",
    "plt.plot(test_data[1], label='true')\n",
    "plt.legend()"
   ]
  },
  {
   "cell_type": "markdown",
   "metadata": {},
   "source": [
    "#### XGBoost with time series CV to find no of base esimators"
   ]
  },
  {
   "cell_type": "code",
   "execution_count": 102,
   "metadata": {},
   "outputs": [
    {
     "name": "stdout",
     "output_type": "stream",
     "text": [
      "est= 50\n",
      "est= 100\n",
      "est= 150\n",
      "est= 200\n",
      "est= 250\n",
      "est= 300\n",
      "est= 350\n",
      "est= 400\n",
      "est= 450\n",
      "est= 500\n",
      "est= 550\n",
      "est= 600\n",
      "est= 650\n",
      "est= 700\n",
      "est= 750\n",
      "est= 800\n",
      "est= 850\n",
      "est= 900\n",
      "est= 950\n",
      "est= 1000\n",
      "Efficient Estimator = 50\n"
     ]
    }
   ],
   "source": [
    "estimator_rmse, best_est_xg = XGBoost(split_data, estimators = np.arange(50, 1001, 50))"
   ]
  },
  {
   "cell_type": "code",
   "execution_count": 105,
   "metadata": {},
   "outputs": [],
   "source": [
    "pred, rmse = XGBoost_test(train_data, test_data, best_est_xg)"
   ]
  },
  {
   "cell_type": "code",
   "execution_count": 106,
   "metadata": {},
   "outputs": [
    {
     "data": {
      "text/plain": [
       "1.173822757897424"
      ]
     },
     "execution_count": 106,
     "metadata": {},
     "output_type": "execute_result"
    }
   ],
   "source": [
    "rmse"
   ]
  },
  {
   "cell_type": "code",
   "execution_count": 107,
   "metadata": {},
   "outputs": [
    {
     "data": {
      "text/plain": [
       "<matplotlib.legend.Legend at 0x2c6869a28c8>"
      ]
     },
     "execution_count": 107,
     "metadata": {},
     "output_type": "execute_result"
    },
    {
     "data": {
      "image/png": "[encoded data removed]",
      "text/plain": [
       "<Figure size 432x288 with 1 Axes>"
      ]
     },
     "metadata": {
      "needs_background": "light"
     },
     "output_type": "display_data"
    }
   ],
   "source": [
    "plt.plot(pred, label='pred')\n",
    "plt.plot(test_data[1], label='true')\n",
    "plt.legend()"
   ]
  },
  {
   "cell_type": "markdown",
   "metadata": {},
   "source": [
    "### Stacking of all the regressors"
   ]
  },
  {
   "cell_type": "code",
   "execution_count": 110,
   "metadata": {},
   "outputs": [],
   "source": [
    "from sklearn.ensemble import StackingRegressor\n",
    "\n",
    "level0 = list()\n",
    "level0.append(('xgb', TransformedTargetRegressor(regressor=xgb.XGBRegressor(n_estimators=best_est_xg, subsample=1.0)\n",
    "                                                 , transformer=RobustScaler())))\n",
    "level0.append(('rf', TransformedTargetRegressor(regressor=RandomForestRegressor(n_estimators=best_est_rf), transformer=RobustScaler())))\n",
    "level0.append(('huber', TransformedTargetRegressor(regressor=linear_model.HuberRegressor(alpha=a_star_huber), transformer=RobustScaler())))\n",
    "level0.append(('lasso', TransformedTargetRegressor(regressor=linear_model.Lasso(alpha=a_star_lasso), transformer=RobustScaler())))\n",
    "level1 = LinearRegression()"
   ]
  },
  {
   "cell_type": "code",
   "execution_count": 111,
   "metadata": {},
   "outputs": [],
   "source": [
    "stack_model = StackingRegressor(estimators=level0, final_estimator=level1)\n",
    "stack_model.fit(train_data[0], train_data[1])\n",
    "stack_pred = stack_model.predict(test_data[0])\n",
    "stack_rmse = np.mean((stack_pred - train_data[1])**2)**0.5"
   ]
  },
  {
   "cell_type": "code",
   "execution_count": 112,
   "metadata": {},
   "outputs": [
    {
     "data": {
      "text/plain": [
       "<matplotlib.legend.Legend at 0x2c6b8051488>"
      ]
     },
     "execution_count": 112,
     "metadata": {},
     "output_type": "execute_result"
    },
    {
     "data": {
      "image/png": "[encoded data removed]",
      "text/plain": [
       "<Figure size 432x288 with 1 Axes>"
      ]
     },
     "metadata": {
      "needs_background": "light"
     },
     "output_type": "display_data"
    }
   ],
   "source": [
    "plt.plot(stack_pred, label='pred')\n",
    "plt.plot(test_data[1], label='true')\n",
    "plt.legend()"
   ]
  },
  {
   "cell_type": "code",
   "execution_count": 113,
   "metadata": {},
   "outputs": [
    {
     "data": {
      "text/plain": [
       "33.163674279100256"
      ]
     },
     "execution_count": 113,
     "metadata": {},
     "output_type": "execute_result"
    }
   ],
   "source": [
    "stack_rmse"
   ]
  },
  {
   "cell_type": "markdown",
   "metadata": {},
   "source": [
    "#### Classify data and predict "
   ]
  },
  {
   "cell_type": "code",
   "execution_count": 114,
   "metadata": {},
   "outputs": [],
   "source": [
    "split_n = int(len(train_data[0])*0.6)\n",
    "\n",
    "r_train_X = train_data[0][:split_n]\n",
    "r_train_y = train_data[1][:split_n]\n",
    "\n",
    "c_train_X = train_data[0][split_n:]\n",
    "c_train_y = train_data[1][split_n:]\n"
   ]
  },
  {
   "cell_type": "code",
   "execution_count": 124,
   "metadata": {},
   "outputs": [],
   "source": [
    "models_meta = [0]*4"
   ]
  },
  {
   "cell_type": "code",
   "execution_count": 125,
   "metadata": {},
   "outputs": [
    {
     "data": {
      "text/plain": [
       "TransformedTargetRegressor(regressor=Lasso(alpha=0.01),\n",
       "                           transformer=RobustScaler())"
      ]
     },
     "execution_count": 125,
     "metadata": {},
     "output_type": "execute_result"
    }
   ],
   "source": [
    "lasso = linear_model.Lasso(alpha=a_star_lasso)\n",
    "models_meta[0] = TransformedTargetRegressor(regressor=lasso, transformer=RobustScaler())\n",
    "models_meta[0].fit(r_train_X, r_train_y)"
   ]
  },
  {
   "cell_type": "code",
   "execution_count": 126,
   "metadata": {},
   "outputs": [
    {
     "data": {
      "text/plain": [
       "TransformedTargetRegressor(regressor=HuberRegressor(alpha=0.29),\n",
       "                           transformer=RobustScaler())"
      ]
     },
     "execution_count": 126,
     "metadata": {},
     "output_type": "execute_result"
    }
   ],
   "source": [
    "huber = linear_model.HuberRegressor(alpha=a_star_huber)\n",
    "models_meta[1] = TransformedTargetRegressor(regressor=huber, transformer=RobustScaler())\n",
    "models_meta[1].fit(r_train_X, r_train_y)"
   ]
  },
  {
   "cell_type": "code",
   "execution_count": 127,
   "metadata": {},
   "outputs": [
    {
     "data": {
      "text/plain": [
       "RandomForestRegressor()"
      ]
     },
     "execution_count": 127,
     "metadata": {},
     "output_type": "execute_result"
    }
   ],
   "source": [
    "models_meta[2] = RandomForestRegressor(n_estimators=best_est_rf)\n",
    "models_meta[2].fit(r_train_X, r_train_y)"
   ]
  },
  {
   "cell_type": "code",
   "execution_count": 130,
   "metadata": {},
   "outputs": [
    {
     "data": {
      "text/plain": [
       "TransformedTargetRegressor(regressor=XGBRegressor(base_score=None, booster=None,\n",
       "                                                  colsample_bylevel=None,\n",
       "                                                  colsample_bynode=None,\n",
       "                                                  colsample_bytree=None,\n",
       "                                                  gamma=None, gpu_id=None,\n",
       "                                                  importance_type='gain',\n",
       "                                                  interaction_constraints=None,\n",
       "                                                  learning_rate=None,\n",
       "                                                  max_delta_step=None,\n",
       "                                                  max_depth=None,\n",
       "                                                  min_child_weight=None,\n",
       "                                                  missing=nan,\n",
       "                                                  monotone_constraints=None,\n",
       "                                                  n_estimators=50, n_jobs=None,\n",
       "                                                  num_parallel_tree=None,\n",
       "                                                  random_state=None,\n",
       "                                                  reg_alpha=None,\n",
       "                                                  reg_lambda=None,\n",
       "                                                  scale_pos_weight=None,\n",
       "                                                  subsample=1.0,\n",
       "                                                  tree_method=None,\n",
       "                                                  validate_parameters=False,\n",
       "                                                  verbosity=None),\n",
       "                           transformer=RobustScaler())"
      ]
     },
     "execution_count": 130,
     "metadata": {},
     "output_type": "execute_result"
    }
   ],
   "source": [
    "xgb_reg = xgb.XGBRegressor(n_estimators=best_est_xg, subsample=1.0)\n",
    "models_meta[3] = TransformedTargetRegressor(regressor=xgb_reg, transformer=RobustScaler())\n",
    "models_meta[3].fit(r_train_X, r_train_y)"
   ]
  },
  {
   "cell_type": "code",
   "execution_count": 131,
   "metadata": {},
   "outputs": [],
   "source": [
    "model_num = []\n",
    "for i, x in enumerate(c_train_X):\n",
    "    err = []\n",
    "    for model in models_meta:\n",
    "#         print(model)\n",
    "        yhat = model.predict(x.reshape(1,-1))\n",
    "        err.append((yhat-c_train_y[i])**2)\n",
    "    model_num.append((np.argmin(err)))\n"
   ]
  },
  {
   "cell_type": "code",
   "execution_count": 132,
   "metadata": {},
   "outputs": [
    {
     "name": "stdout",
     "output_type": "stream",
     "text": [
      "Count of  0  is  793\n",
      "Count of  1  is  6\n",
      "Count of  2  is  286\n",
      "Count of  3  is  331\n"
     ]
    }
   ],
   "source": [
    "for i in range(len(models_meta)):\n",
    "    print('Count of ', i, ' is ', model_num.count(i))"
   ]
  },
  {
   "cell_type": "code",
   "execution_count": 133,
   "metadata": {},
   "outputs": [],
   "source": [
    "model_label = np.array(model_num)"
   ]
  },
  {
   "cell_type": "code",
   "execution_count": 134,
   "metadata": {},
   "outputs": [],
   "source": [
    "split = int(0.75*len(c_train_X))\n",
    "t_train_X = c_train_X[:split]\n",
    "t_train_y = model_label[:split]\n",
    "t_val_X = c_train_X[split:]\n",
    "t_val_y = model_label[split:]"
   ]
  },
  {
   "cell_type": "code",
   "execution_count": 135,
   "metadata": {},
   "outputs": [
    {
     "name": "stdout",
     "output_type": "stream",
     "text": [
      "Best depth:  5\n"
     ]
    }
   ],
   "source": [
    "depths = np.arange(2, 10, 1)\n",
    "scores = []\n",
    "for depth in depths:\n",
    "    dtree_model = DecisionTreeClassifier(max_depth = depth).fit(t_train_X, t_train_y)\n",
    "    dtree_score = dtree_model.score(t_val_X, t_val_y)\n",
    "    scores.append(dtree_score)\n",
    "    \n",
    "best_depth = depths[np.argmax(scores)]\n",
    "print('Best depth: ', best_depth)"
   ]
  },
  {
   "cell_type": "code",
   "execution_count": 137,
   "metadata": {},
   "outputs": [
    {
     "data": {
      "text/plain": [
       "[0.403954802259887,\n",
       " 0.4067796610169492,\n",
       " 0.4011299435028249,\n",
       " 0.4096045197740113,\n",
       " 0.3926553672316384,\n",
       " 0.3672316384180791,\n",
       " 0.384180790960452,\n",
       " 0.3531073446327684]"
      ]
     },
     "execution_count": 137,
     "metadata": {},
     "output_type": "execute_result"
    }
   ],
   "source": [
    "scores"
   ]
  },
  {
   "cell_type": "code",
   "execution_count": 138,
   "metadata": {},
   "outputs": [],
   "source": [
    "dtree_final = DecisionTreeClassifier(max_depth=best_depth).fit(c_train_X, model_label)\n",
    "model_pred = dtree_final.predict(test_data[0])"
   ]
  },
  {
   "cell_type": "code",
   "execution_count": 141,
   "metadata": {},
   "outputs": [],
   "source": [
    "meta_preds = []\n",
    "for i, x in enumerate(test_data[0]):\n",
    "    pred = models_meta[model_pred[i]].predict(x.reshape(1,-1))\n",
    "    meta_preds.append(pred)\n"
   ]
  },
  {
   "cell_type": "code",
   "execution_count": 143,
   "metadata": {},
   "outputs": [
    {
     "data": {
      "text/plain": [
       "0.6233386623282166"
      ]
     },
     "execution_count": 143,
     "metadata": {},
     "output_type": "execute_result"
    }
   ],
   "source": [
    "meta_mse = np.mean((meta_preds-test_data[1])**2)**0.5\n",
    "meta_mse"
   ]
  },
  {
   "cell_type": "code",
   "execution_count": 184,
   "metadata": {},
   "outputs": [
    {
     "data": {
      "text/plain": [
       "<matplotlib.legend.Legend at 0x2c6b8a9d348>"
      ]
     },
     "execution_count": 184,
     "metadata": {},
     "output_type": "execute_result"
    },
    {
     "data": {
      "image/png": "[encoded data removed]",
      "text/plain": [
       "<Figure size 432x288 with 1 Axes>"
      ]
     },
     "metadata": {
      "needs_background": "light"
     },
     "output_type": "display_data"
    }
   ],
   "source": [
    "plt.plot(meta_preds, label='pred')\n",
    "plt.plot(test_data[1], label='true')\n",
    "plt.legend()\n",
    "#plt.xlim(800,810)\n",
    "#plt.ylim(52,58)"
   ]
  },
  {
   "cell_type": "code",
   "execution_count": 147,
   "metadata": {},
   "outputs": [
    {
     "data": {
      "text/plain": [
       "array([[0.18049486]])"
      ]
     },
     "execution_count": 147,
     "metadata": {},
     "output_type": "execute_result"
    }
   ],
   "source": [
    "err[-1]**0.5"
   ]
  },
  {
   "cell_type": "code",
   "execution_count": null,
   "metadata": {},
   "outputs": [],
   "source": []
  }
 ],
 "metadata": {
  "kernelspec": {
   "display_name": "Python 3",
   "language": "python",
   "name": "python3"
  },
  "language_info": {
   "codemirror_mode": {
    "name": "ipython",
    "version": 3
   },
   "file_extension": ".py",
   "mimetype": "text/x-python",
   "name": "python",
   "nbconvert_exporter": "python",
   "pygments_lexer": "ipython3",
   "version": "3.7.7"
  }
 },
 "nbformat": 4,
 "nbformat_minor": 5
}
