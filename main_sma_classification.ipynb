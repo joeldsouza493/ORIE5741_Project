{
 "cells": [
  {
   "cell_type": "code",
   "execution_count": 1,
   "id": "8a659778",
   "metadata": {},
   "outputs": [],
   "source": [
    "import pandas as pd\n",
    "import numpy as np\n",
    "import os\n",
    "import glob\n",
    "import matplotlib.pyplot as plt\n",
    "\n",
    "from sklearn.model_selection import train_test_split\n",
    "from sklearn import preprocessing\n",
    "from sklearn.metrics import mean_squared_error\n",
    "from sklearn.preprocessing import StandardScaler\n",
    "\n",
    "from statsmodels.graphics.tsaplots import plot_acf\n",
    "\n",
    "from sklearn.linear_model import LinearRegression\n",
    "import statsmodels.api as sm\n",
    "\n",
    "import pandas_market_calendars as mcal\n",
    "\n",
    "import warnings\n",
    "warnings.filterwarnings('ignore')"
   ]
  },
  {
   "cell_type": "code",
   "execution_count": 2,
   "id": "c36000c9",
   "metadata": {},
   "outputs": [],
   "source": [
    "def nyse_holidays():\n",
    "    nyse = mcal.get_calendar('NYSE')\n",
    "    holidays = nyse.holidays()\n",
    "    nyse_holidays = holidays.holidays\n",
    "    \n",
    "    return nyse_holidays\n",
    "\n",
    "# shift dates if they fall on a weekend/trading holiday\n",
    "def get_prev_business_date(date, holidays):\n",
    "    if date.isoweekday() in set((6, 7)):\n",
    "        #if date falls on a weekend, move the date back\n",
    "        date -= pd.offsets.BDay(n = date.isoweekday() % 5)\n",
    "    elif date in holidays:\n",
    "        #if date is a NYSE trading holiday, move the date back\n",
    "        date -= pd.offsets.BDay(n=1)  # get prev day\n",
    "        # now if the new date is on a weekend, move it back \n",
    "        if date.isoweekday() in set((6, 7)):\n",
    "            date -= pd.offsets.BDay(n = date.isoweekday() % 5)\n",
    "\n",
    "    return date"
   ]
  },
  {
   "cell_type": "code",
   "execution_count": 3,
   "id": "e5a1b660",
   "metadata": {},
   "outputs": [],
   "source": [
    "#Load Price Data\n",
    "def get_oil_prices():\n",
    "    wd = os.getcwd()\n",
    "\n",
    "    df = pd.read_excel(wd+'/Data/'+'WTI.xlsx')\n",
    "    df['Date'] = pd.to_datetime(df['Date'])\n",
    "    df['Date'] = df['Date'].dt.strftime('%m-%d-%Y')\n",
    "    df.set_index('Date', inplace=True)\n",
    "    \n",
    "    return df"
   ]
  },
  {
   "cell_type": "code",
   "execution_count": 4,
   "id": "3486bfab",
   "metadata": {},
   "outputs": [],
   "source": [
    "def get_ma(df, column, freq='monthly'):\n",
    "    df[df.columns[column] + '_temp'] = df[df.columns[column]]\n",
    "    \n",
    "    if freq=='monthly':\n",
    "        window = 22\n",
    "    elif freq=='biweekly':\n",
    "        window = 10\n",
    "    \n",
    "    for i in range(0, len(df[df.columns[column]])-window):\n",
    "        df.iloc[i, column] = np.mean(df.iloc[i:i+window, -1])\n",
    "        \n",
    "    drop_col_name = df.columns[column] + '_temp'\n",
    "    df = df.loc[:, ~df.columns.isin([drop_col_name])]\n",
    "    \n",
    "    return df"
   ]
  },
  {
   "cell_type": "code",
   "execution_count": 5,
   "id": "36a9698a",
   "metadata": {},
   "outputs": [],
   "source": [
    "#Load Features\n",
    "\n",
    "def get_features(df, sma=True):\n",
    "    if sma:\n",
    "        df = get_ma(df, 0, 'monthly')\n",
    "    \n",
    "    wd = os.getcwd()\n",
    "    xlsx_files = glob.glob(os.path.join(wd, 'Data', \"*.xlsx\"))\n",
    "    holidays = nyse_holidays()\n",
    "    daily_data = ['DowJones', 'SPX', 'USDEUR', 'DAX', 'NG1', 'Nikkei', 'HangSeng', 'GT10']\n",
    "\n",
    "    for file in xlsx_files:\n",
    "        data_name = file.split(\"/\")[-1].split('.')[0]\n",
    "        data_name = data_name.replace(\" \", \"_\")\n",
    "\n",
    "        if data_name == 'WTI':\n",
    "            continue\n",
    "\n",
    "        df_temp = pd.read_excel(file)\n",
    "        df_temp['Date'] = pd.to_datetime(df_temp['Date'])\n",
    "        #print(data_name)\n",
    "        if data_name in daily_data:\n",
    "            df_temp['Date'] = df_temp['Date'].dt.strftime('%m-%d-%Y')\n",
    "            df_temp.set_index('Date', inplace=True)\n",
    "        else:\n",
    "            df_temp['Artificial Date'] = df_temp['Date'].apply(lambda x: get_prev_business_date(x, holidays))\n",
    "            df_temp['Artificial Date'] = df_temp['Artificial Date'].dt.strftime('%m-%d-%Y')\n",
    "            df_temp = df_temp.drop(columns=['Date'])\n",
    "            df_temp.set_index('Artificial Date', inplace=True)\n",
    "\n",
    "        try:\n",
    "            df[df_temp.columns[0] + '_' + data_name] = df_temp[df_temp.columns[0]]\n",
    "        except ValueError:\n",
    "            print(data_name, \"Error\")\n",
    "\n",
    "    #backfill data for other frequencies\n",
    "    df.fillna(method='bfill', inplace=True)\n",
    "    idx = list(df.index).index('12-31-2020')\n",
    "    df = df.iloc[idx:,:]\n",
    "    \n",
    "    return df\n",
    "\n"
   ]
  },
  {
   "cell_type": "code",
   "execution_count": 6,
   "id": "3831185c",
   "metadata": {},
   "outputs": [],
   "source": [
    "def get_raw_data(df, freq = 'daily'):\n",
    "    if freq == 'weekly':\n",
    "        df = df.iloc[::5, :]\n",
    "    \n",
    "    #Add Sign and returns Data point\n",
    "    df['PX_Sign'] = np.sign(df['PX_LAST'] - df['PX_LAST'].shift(-1))\n",
    "    df.loc[df.PX_Sign == 0, 'PX_Sign'] = int(1)\n",
    "    df['Returns'] = df['PX_LAST']/df['PX_LAST'].shift(-1) - 1\n",
    "    \n",
    "    return df\n",
    "    "
   ]
  },
  {
   "cell_type": "code",
   "execution_count": 7,
   "id": "001b027a",
   "metadata": {},
   "outputs": [],
   "source": [
    "def plot_prices_graph(df):\n",
    "    ax = df_t[df_t.columns[0]][::-1].plot()\n",
    "    ax.set_ylabel(\"WTI Price\")\n",
    "    ax.set_title('WTI Price (1990-2021)')"
   ]
  },
  {
   "cell_type": "code",
   "execution_count": 8,
   "id": "03b7e6eb",
   "metadata": {},
   "outputs": [],
   "source": [
    "prices = ['PX_LAST']\n",
    "classification = ['PX_Sign']\n",
    "returns = ['Returns']"
   ]
  },
  {
   "cell_type": "code",
   "execution_count": 9,
   "id": "a2af68b3",
   "metadata": {},
   "outputs": [],
   "source": [
    "#Dict for frequency adjustment\n",
    "cols_freq = {\n",
    "    'PX_LAST':\"daily\",\n",
    "    'PX_VOLUME':\"daily\",\n",
    "    'PX_LAST_DowJones':\"daily\",\n",
    "    'PX_MID_GT10':\"daily\",\n",
    "    'PX_LAST_HangSeng':\"daily\",\n",
    "    'PX_LAST_Nikkei':\"daily\",\n",
    "    'PX_LAST_SPX':\"daily\",\n",
    "    'PX_LAST_USDEUR':\"daily\",\n",
    "    'PX_LAST_NG1':\"daily\",\n",
    "    'PX_LAST_DAX':\"daily\",\n",
    "    'PX_LAST_US_daily_prod':\"monthly\",\n",
    "    'PX_LAST_Cass_Freight_Rates':\"monthly\",\n",
    "    'PX_LAST_Canada_daily_prod':\"monthly\",\n",
    "    'PX_LAST_Russia_daily_prod':\"monthly\",\n",
    "    'PX_LAST_OPEC_daily_prod':\"monthly\",\n",
    "    'PX_LAST_US_Inflation':\"monthly\",\n",
    "    'PX_LAST_Europe_Inflation':\"monthly\",\n",
    "    'PX_LAST_Europe_IndProd_exConstruction':\"monthly\",\n",
    "    'PX_LAST_Russia_Industrial_Production':\"monthly\",\n",
    "    'PX_LAST_US_IndProd_Index':\"monthly\",\n",
    "    'PX_LAST_China_GDP':\"quarterly\",\n",
    "    'PX_LAST_Germany_GDP':\"quarterly\",\n",
    "    'PX_LAST_Japan_GDP':\"quarterly\",\n",
    "    'PX_LAST_Russia_GDP':\"quarterly\",\n",
    "    'PX_LAST_US_GDP':\"quarterly\",\n",
    "    'PX_Sign':'daily',\n",
    "    'Returns':'daily'\n",
    "}"
   ]
  },
  {
   "cell_type": "code",
   "execution_count": 10,
   "id": "d9d189f9",
   "metadata": {},
   "outputs": [],
   "source": [
    "def daily_lag(df, column, lag):\n",
    "    lag = lag+1\n",
    "    if column==0:\n",
    "        for i in range(1, lag):\n",
    "            #creating new column here since column==0 is target\n",
    "            \n",
    "            df[df.columns[column] + '_t-' + str(i)] = df[df.columns[column]].shift(-i)\n",
    "            cols_freq[df.columns[column]+'_t-'+str(i)] = \"daily\"\n",
    "    else:\n",
    "        for i in range(1, lag):\n",
    "            #replacing old column here and renaming\n",
    "            df[df.columns[column]] = df[df.columns[column]].shift(-i)\n",
    "            df.rename(columns={df.columns[column]:df.columns[column]+'_t-'+str(i)}, inplace=True)\n",
    "            new_col = df.columns[column]\n",
    "            cols_freq[new_col] = \"daily\"\n",
    "    \n",
    "    return df\n",
    "\n",
    "\n",
    "def ma(df, column, col_freq = \"monthly\", freq='daily'):\n",
    "    if col_freq == \"monthly\":\n",
    "        #creating temp column to get values\n",
    "        df[df.columns[column] + '_temp'] = df[df.columns[column]]\n",
    "        \n",
    "        if freq == 'daily':\n",
    "            window = 22\n",
    "        elif freq == 'weekly':\n",
    "            window = 4\n",
    "        \n",
    "        for i in range(0, len(df[df.columns[column]])-window):\n",
    "            df.iloc[i, column] = np.mean(df.iloc[i:i+window, -1])\n",
    "        \n",
    "        #dropping temp column\n",
    "        drop_col_name = df.columns[column] + '_temp'\n",
    "        df = df.loc[:, ~df.columns.isin([drop_col_name])]\n",
    "        \n",
    "        #renaming column to indicate moving average\n",
    "        df.rename(columns={df.columns[column]:df.columns[column]+'_SMA22'}, inplace=True)\n",
    "        cols_freq[df.columns[column]] = \"monthly\"\n",
    "    elif col_freq == \"quarterly\":\n",
    "        #creating temp column to get values\n",
    "        df[df.columns[column] + '_temp'] = df[df.columns[column]]\n",
    "        \n",
    "        if freq == 'daily':\n",
    "            window = 65\n",
    "        elif freq == 'weekly':\n",
    "            window = 13\n",
    "        \n",
    "        for i in range(0, len(df[df.columns[column]])-window):\n",
    "            df.iloc[i, column] = np.mean(df.iloc[i:i+window, -1])\n",
    "        \n",
    "        #dropping temp column\n",
    "        drop_col_name = df.columns[column] + '_temp'\n",
    "        df = df.loc[:, ~df.columns.isin([drop_col_name])]\n",
    "        \n",
    "        #renaming column to indicate moving average\n",
    "        df.rename(columns={df.columns[column]:df.columns[column]+'_SMA65'}, inplace=True)\n",
    "        cols_freq[df.columns[column]] = \"quarterly\"\n",
    "    \n",
    "    return df\n",
    "\n",
    "\n",
    "def lag_data(df, column, col_freq = \"monthly\", freq='daily'):\n",
    "    if col_freq == \"monthly\":\n",
    "        if freq == 'daily':\n",
    "            lag = 22\n",
    "        elif freq == 'weekly':\n",
    "            lag = 4\n",
    "        #replacing old column and renaming\n",
    "        df[df.columns[column]] = df[df.columns[column]].shift(-lag)\n",
    "        df.rename(columns={df.columns[column]:df.columns[column]+'_M'}, inplace=True)\n",
    "    elif col_freq == \"quarterly\":\n",
    "        if freq == 'daily':\n",
    "            lag = 65\n",
    "        elif freq == 'weekly':\n",
    "            lag = 13\n",
    "        #replacing old column and renaming\n",
    "        df[df.columns[column]] = df[df.columns[column]].shift(-lag)\n",
    "        df.rename(columns={df.columns[column]:df.columns[column]+'_Q'}, inplace=True)\n",
    "    else:\n",
    "        raise ValueError(\"Frequency invalid\")\n",
    "    \n",
    "    return df\n",
    "\n",
    "def get_lag_ma_data(df, daily_lags = 1, cols_freq=cols_freq, freq='daily'):\n",
    "    for i in range(len(df.columns)):\n",
    "        column_name = df.columns[i]\n",
    "        #print(column_name)\n",
    "        if cols_freq[column_name] == 'daily':\n",
    "            df = daily_lag(df, i, daily_lags)\n",
    "        else:\n",
    "            df = lag_data(df, i, cols_freq[column_name], freq)\n",
    "            df = ma(df, i, cols_freq[column_name], freq)\n",
    "            \n",
    "    return df"
   ]
  },
  {
   "cell_type": "code",
   "execution_count": 11,
   "id": "757ba607",
   "metadata": {},
   "outputs": [],
   "source": [
    "def one_day_change(df, column, freq):\n",
    "    #creating new column here, will drop old column later in get_diffs\n",
    "    if freq=='daily':\n",
    "        df[df.columns[column] + '_1D_change'] = df[df.columns[column]] - df[df.columns[column]].shift(-1)\n",
    "    elif freq=='weekly':\n",
    "        df[df.columns[column] + '_1W_change'] = df[df.columns[column]] - df[df.columns[column]].shift(-1)\n",
    "\n",
    "    return df\n",
    "\n",
    "def two_week_change(df, column, freq):\n",
    "    #creating new column here, will drop old column later in get_diffs\n",
    "    if freq=='daily':\n",
    "        df[df.columns[column] + '_2W_change'] = df[df.columns[column]] - df[df.columns[column]].shift(-10)\n",
    "    elif freq=='weekly':\n",
    "        df[df.columns[column] + '_2W_change'] = df[df.columns[column]] - df[df.columns[column]].shift(-2)\n",
    "    \n",
    "    return df\n",
    "\n",
    "def one_month_change(df, column, freq):\n",
    "    #creating new column here, will drop old column later in get_diffs\n",
    "    if freq=='daily':\n",
    "        df[df.columns[column] + '_1M_change'] = df[df.columns[column]] - df[df.columns[column]].shift(-22)\n",
    "    elif freq=='weekly':\n",
    "        df[df.columns[column] + '_1M_change'] = df[df.columns[column]] - df[df.columns[column]].shift(-4)\n",
    "    return df\n",
    "\n",
    "def get_diffs(df, target, cols_freq=cols_freq, freq='daily', drop=True):\n",
    "    cols = []\n",
    "    for i in range(1, len(df.columns)):\n",
    "        column_name = df.columns[i]\n",
    "        #collecting old columns to drop later\n",
    "        cols.append(column_name)\n",
    "        \n",
    "        if cols_freq[column_name] == 'daily':\n",
    "            df = one_day_change(df, i, freq)\n",
    "            df = two_week_change(df, i, freq)\n",
    "            df = one_month_change(df, i, freq)\n",
    "        elif cols_freq[column_name] == 'monthly':\n",
    "            df = two_week_change(df, i, freq)\n",
    "            df = one_month_change(df, i, freq)\n",
    "        elif cols_freq[column_name] == 'quarterly':\n",
    "            df = one_month_change(df, i, freq)\n",
    "        \n",
    "    #dropping old columns\n",
    "    target_lagged = df.columns[0] + '_t-1'\n",
    "    cols.remove(target_lagged)\n",
    "    #print(cols)\n",
    "    df = df.loc[:, ~df.columns.isin(cols)]\n",
    "    \n",
    "    return df"
   ]
  },
  {
   "cell_type": "code",
   "execution_count": 12,
   "id": "fea86295",
   "metadata": {},
   "outputs": [],
   "source": [
    "def make_regime(df, end, start=0):\n",
    "    if start==0 and end==0:\n",
    "        return df\n",
    "    \n",
    "    if start!=0:\n",
    "        st_idx = list(df.index).index(start)\n",
    "    else:\n",
    "        st_idx = 0\n",
    "    end_idx = list(df.index).index(end)\n",
    "    df_reg = df.iloc[st_idx:end_idx,:]\n",
    "    return df_reg"
   ]
  },
  {
   "cell_type": "code",
   "execution_count": 13,
   "id": "3c398dc8",
   "metadata": {},
   "outputs": [],
   "source": [
    "def do_pca(feature_set):\n",
    "    n = len(feature_set)\n",
    "    d = len(feature_set.columns)\n",
    "    \n",
    "    x = feature_set.values #numpy array\n",
    "    x_scaled = StandardScaler().fit_transform(x)\n",
    "    feature_set = pd.DataFrame(x_scaled)\n",
    "    \n",
    "    k = int(round(d/3, 0)) #no. of reduced features needed\n",
    "    w0 = np.random.randn(k, d) #Y is (n x d) dimensional\n",
    "    wt = w0\n",
    "    I = 10 #no. of iterations for alternating minimisation\n",
    "    residuals_am = np.zeros(I)\n",
    "\n",
    "    for t in range(I):\n",
    "        wt_1 = wt\n",
    "        gram_w = np.matmul(wt_1, wt_1.T)\n",
    "        gram_w_inv = np.linalg.inv(gram_w)\n",
    "        xt = np.zeros((n,k))\n",
    "        for i in range(n):\n",
    "            xt[i] = np.matmul(feature_set.iloc[i].values, np.matmul(wt_1.T, gram_w_inv))\n",
    "\n",
    "        gram_x = np.matmul(xt.T, xt)\n",
    "        gram_x_inv = np.linalg.inv(gram_x)\n",
    "        wt = np.zeros((k,d))\n",
    "        for j in range(d):\n",
    "            wt[:,j] = np.matmul(np.matmul(gram_x_inv, xt.T), feature_set.iloc[:,j])\n",
    "\n",
    "        residuals_am[t] = np.linalg.norm(feature_set.values-np.matmul(xt, wt))\n",
    "        \n",
    "    return xt, k, residuals_am"
   ]
  },
  {
   "cell_type": "code",
   "execution_count": 14,
   "id": "3c3ceed8",
   "metadata": {},
   "outputs": [],
   "source": [
    "def get_final_data(df, features, regime, target=classification, freq='daily', pca=False):\n",
    "    if target != prices:\n",
    "        features = ['PX_LAST'] + features\n",
    "    \n",
    "    df_trial = get_lag_ma_data(df[target + features], freq=freq)\n",
    "    df_trial = get_diffs(df_trial, target, freq=freq)\n",
    "    \n",
    "    df_trial = df_trial.dropna()\n",
    "    df_trial = df_trial[::-1]\n",
    "    \n",
    "    df_reg = make_regime(df_trial, end=regime[1], start=regime[0])\n",
    "    \n",
    "    df_target = df_reg[target]\n",
    "    df_features_raw = df_reg.iloc[:, 1:]\n",
    "    \n",
    "    if pca:\n",
    "        d = len(df_features_raw.columns)\n",
    "        xt, k, res = do_pca(df_features_raw)\n",
    "        df_features = pd.DataFrame(xt)\n",
    "        df_features.index = df_features_raw.index\n",
    "        print(\"PCA reduced features from {} to {}\".format(d, k))\n",
    "        print(\"Error = {}\".format(res[-1]))\n",
    "    else:\n",
    "        df_features = df_features_raw.copy()\n",
    "    \n",
    "    if target == classification:\n",
    "        df_target = df_target.astype(int)\n",
    "    \n",
    "    return df_target, df_features"
   ]
  },
  {
   "cell_type": "code",
   "execution_count": 15,
   "id": "5b87637d",
   "metadata": {},
   "outputs": [],
   "source": [
    "from sklearn.compose import TransformedTargetRegressor\n",
    "from sklearn.preprocessing import RobustScaler\n",
    "from sklearn import linear_model\n",
    "from sklearn.model_selection import TimeSeriesSplit\n",
    "\n",
    "def get_data_splits(target, features):\n",
    "    train_n = int(len(target) * 0.8)\n",
    "    train_x = features[:train_n].to_numpy()\n",
    "    train_y = target[:train_n].to_numpy()\n",
    "    test_x = features[train_n:].to_numpy()\n",
    "    test_y = target[train_n:].to_numpy()\n",
    "\n",
    "    splits = TimeSeriesSplit(n_splits=100)\n",
    "\n",
    "    split_train_x = []\n",
    "    split_val_x = []\n",
    "    split_train_y = []\n",
    "    split_val_y = []\n",
    "\n",
    "    for train_index, val_index in splits.split(train_x):\n",
    "        split_train_x.append(train_x[train_index])\n",
    "        split_train_y.append(train_y[train_index])\n",
    "        split_val_x.append(train_x[val_index])\n",
    "        split_val_y.append(train_y[val_index])\n",
    "        \n",
    "    split_data = [split_train_x, split_train_y, split_val_x, split_val_y]\n",
    "    train_data = [train_x, train_y]\n",
    "    test_data = [test_x, test_y]\n",
    "    \n",
    "    return split_data, train_data, test_data"
   ]
  },
  {
   "cell_type": "markdown",
   "id": "584c855b",
   "metadata": {},
   "source": [
    "### Classification Models"
   ]
  },
  {
   "cell_type": "code",
   "execution_count": 16,
   "id": "5ffc5a9e",
   "metadata": {},
   "outputs": [],
   "source": [
    "from sklearn import svm\n",
    "from sklearn.svm import SVC\n",
    "from sklearn.preprocessing import StandardScaler\n",
    "\n",
    "def svc_hinge(split_data, iters=1000):\n",
    "    split_train_x = split_data[0]\n",
    "    split_train_y = split_data[1]\n",
    "    split_val_x = split_data[2]\n",
    "    split_val_y = split_data[3]\n",
    "    \n",
    "    lambdas = np.arange(0.001, 0.101, 0.02)\n",
    "    Hloss = []\n",
    "    Rh = []\n",
    "    count = 0\n",
    "    \n",
    "    for lam in lambdas:\n",
    "        scaler = RobustScaler()\n",
    "        clf = svm.LinearSVC(penalty='l2', loss='hinge', fit_intercept=True,\n",
    "                            C=(1/lam), max_iter=iters, random_state=42)\n",
    "        acc = []\n",
    "        \n",
    "        for i in range(len(split_train_x)):\n",
    "            #wrapped_model = TransformedTargetRegressor(regressor=clf, transformer=RobustScaler())\n",
    "            #model = wrapped_model.fit(split_train_x[i], split_train_y[i].reshape(len(split_train_y[i])))\n",
    "            \n",
    "            scaled_fit_train = scaler.fit(split_train_x[i])\n",
    "            split_train_x[i] = scaled_fit_train.transform(split_train_x[i])\n",
    "            split_val_x[i] = scaled_fit_train.transform(split_val_x[i])\n",
    "            \n",
    "            model = clf.fit(split_train_x[i], split_train_y[i].reshape(-1,1))\n",
    "            pred = model.predict(split_val_x[i])\n",
    "            acc.append(np.mean(pred != split_val_y[i]))\n",
    "            count+=1\n",
    "            #print(count)\n",
    "        Hloss.append(np.mean(acc))\n",
    "        Rh.append(lam)\n",
    "    l_star = Rh[np.argmin(Hloss)]\n",
    "    print('Lambda* = {}'.format(l_star))\n",
    "    print('SVM Validation Error Rate = {}'.format(Hloss[np.argmin(Hloss)]))\n",
    "    return Hloss, Rh, l_star\n",
    "\n",
    "def svc_hinge_test(train_data, test_data, l_star, iters=10000):\n",
    "    train_x = train_data[0]\n",
    "    train_y = train_data[1]\n",
    "    test_x = test_data[0]\n",
    "    test_y = test_data[1]\n",
    "    \n",
    "    scaler = RobustScaler()\n",
    "    scaled_fit_train = scaler.fit(train_x)\n",
    "    \n",
    "    train_x_std = scaled_fit_train.transform(train_x)\n",
    "    test_x_std = scaled_fit_train.transform(test_x)\n",
    "    \n",
    "    \n",
    "    model = svm.LinearSVC(penalty='l2', loss='hinge', fit_intercept=True,\n",
    "                            C=(1/l_star), max_iter=iters, random_state=42)\n",
    "    \n",
    "    train_y = train_y.reshape(-1,1)\n",
    "    model.fit(train_x_std, train_y)\n",
    "    pred = model.predict(test_x_std)\n",
    "    mse = np.mean(pred!=test_y)\n",
    "    \n",
    "    return pred, mse, model"
   ]
  },
  {
   "cell_type": "code",
   "execution_count": 17,
   "id": "3785326f",
   "metadata": {},
   "outputs": [],
   "source": [
    "from sklearn.tree import DecisionTreeClassifier\n",
    "from sklearn import tree\n",
    "\n",
    "def decision_tree(split_data):\n",
    "    split_train_x = split_data[0]\n",
    "    split_train_y = split_data[1]\n",
    "    split_val_x = split_data[2]\n",
    "    split_val_y = split_data[3]\n",
    "    \n",
    "    maxnodes = np.arange(3, 18, 1)\n",
    "    maxnodes_misclas = []\n",
    "    \n",
    "    for maxnode in maxnodes:\n",
    "        misclas = []\n",
    "        \n",
    "        for i in range(len(split_train_x)):\n",
    "            model = tree.DecisionTreeClassifier(random_state=42, max_leaf_nodes = maxnode)\n",
    "            model = model.fit(split_train_x[i], split_train_y[i])\n",
    "            yhat = model.predict(split_val_x[i])\n",
    "            misclas.append(np.mean(yhat!=split_val_y[i]))\n",
    "\n",
    "        maxnodes_misclas.append(np.mean(misclas))\n",
    "    \n",
    "    best_nodes = maxnodes[np.argmin(maxnodes_misclas)]\n",
    "    print('Best Max Nodes = {}'.format(best_nodes))\n",
    "    print('Decision Tree Validation Error Rate = {}'.format(maxnodes_misclas[np.argmin(maxnodes_misclas)]))\n",
    "    \n",
    "    return maxnodes_misclas, best_nodes\n",
    "\n",
    "def decision_tree_test(train_data, test_data, maxnodes):\n",
    "    train_x = train_data[0]\n",
    "    train_y = train_data[1]\n",
    "    test_x = test_data[0]\n",
    "    test_y = test_data[1]\n",
    "    \n",
    "    tr_model = tree.DecisionTreeClassifier(random_state=2, max_leaf_nodes = maxnodes)\n",
    "    tr_model = tr_model.fit(train_x, train_y)\n",
    "    pred = tr_model.predict(test_x)\n",
    "    error = np.mean(pred!=test_y)\n",
    "    \n",
    "    return pred, error, tr_model\n",
    "\n"
   ]
  },
  {
   "cell_type": "code",
   "execution_count": 18,
   "id": "1b7675da",
   "metadata": {},
   "outputs": [],
   "source": [
    "from sklearn.linear_model import LogisticRegression\n",
    "\n",
    "def logistic(split_data, iters=1000):\n",
    "    split_train_x = split_data[0]\n",
    "    split_train_y = split_data[1]\n",
    "    split_val_x = split_data[2]\n",
    "    split_val_y = split_data[3]\n",
    "    \n",
    "    lambdas = np.arange(0.01, 1.01, 0.20)\n",
    "    Lloss = []\n",
    "    Rl = []\n",
    "    count = 0\n",
    "    \n",
    "    for lam in lambdas:\n",
    "        scaler = RobustScaler()\n",
    "        clf = LogisticRegression(penalty='l2', C=(1/lam), max_iter=iters, random_state=42,\n",
    "                            fit_intercept=True)\n",
    "        acc = []\n",
    "        \n",
    "        for i in range(len(split_train_x)):\n",
    "            #wrapped_model = TransformedTargetRegressor(regressor=clf, transformer=RobustScaler())\n",
    "            #model = wrapped_model.fit(split_train_x[i], split_train_y[i].reshape(len(split_train_y[i])))\n",
    "            \n",
    "            scaled_fit_train = scaler.fit(split_train_x[i])\n",
    "            split_train_x[i] = scaled_fit_train.transform(split_train_x[i])\n",
    "            split_val_x[i] = scaled_fit_train.transform(split_val_x[i])\n",
    "            \n",
    "            model = clf.fit(split_train_x[i], split_train_y[i].reshape(-1,1))\n",
    "            pred = model.predict(split_val_x[i])\n",
    "            acc.append(np.mean(pred != split_val_y[i]))\n",
    "            count+=1\n",
    "            #print(count)\n",
    "        Lloss.append(np.mean(acc))\n",
    "        Rl.append(lam)\n",
    "    l_star = Rl[np.argmin(Lloss)]\n",
    "    print('Lambda* = {}'.format(l_star))\n",
    "    print('Logistic Validation Error Rate = {}'.format(Lloss[np.argmin(Lloss)]))\n",
    "    return Lloss, Rl, l_star\n",
    "\n",
    "def logistic_test(train_data, test_data, l_star, iters=1000):\n",
    "    train_x = train_data[0]\n",
    "    train_y = train_data[1]\n",
    "    test_x = test_data[0]\n",
    "    test_y = test_data[1]\n",
    "    \n",
    "    scaler = RobustScaler()\n",
    "    scaled_fit_train = scaler.fit(train_x)\n",
    "    \n",
    "    train_x_std = scaled_fit_train.transform(train_x)\n",
    "    test_x_std = scaled_fit_train.transform(test_x)\n",
    "    \n",
    "    model = LogisticRegression(penalty='l2', C=(1/l_star), max_iter=iters, random_state=42, \n",
    "                             fit_intercept=True)\n",
    "    \n",
    "    train_y = train_y.reshape(-1,1)\n",
    "    model.fit(train_x_std, train_y)\n",
    "    pred = model.predict(test_x_std)\n",
    "    mse = np.mean(pred!=test_y)\n",
    "    \n",
    "    return pred, mse, model"
   ]
  },
  {
   "cell_type": "markdown",
   "id": "6de75dac",
   "metadata": {},
   "source": [
    "### Regression Models"
   ]
  },
  {
   "cell_type": "code",
   "execution_count": 19,
   "id": "2102b82d",
   "metadata": {},
   "outputs": [],
   "source": [
    "def lasso(split_data):\n",
    "    split_train_x = split_data[0]\n",
    "    split_train_y = split_data[1]\n",
    "    split_val_x = split_data[2]\n",
    "    split_val_y = split_data[3]\n",
    "    \n",
    "    alphas = np.arange(0.05, 1.01, 0.05)\n",
    "    alpha_mse = []\n",
    "    \n",
    "    for alpha in alphas:\n",
    "        transformer = RobustScaler\n",
    "        model = linear_model.Lasso(alpha=alpha)\n",
    "        mse = []\n",
    "        for i in range(len(split_train_x)):\n",
    "            wrapped_model = TransformedTargetRegressor(regressor=model, transformer=RobustScaler())\n",
    "            wrapped_model.fit(split_train_x[i], split_train_y[i])\n",
    "            yhat = wrapped_model.predict(split_val_x[i])\n",
    "            mse.append(np.mean((yhat-split_val_y[i])**2))\n",
    "        alpha_mse.append(np.mean(mse))\n",
    "    a_star = alphas[np.argmin(alpha_mse)]\n",
    "    print('Lasso Alpha* = {}'.format(alphas[np.argmin(alpha_mse)]))\n",
    "    print('Lasso Validation RMSE = {}'.format(np.sqrt(alpha_mse[np.argmin(alpha_mse)])))\n",
    "    return alpha_mse, a_star\n",
    "\n",
    "def lasso_test(train_data, test_data, alpha):\n",
    "    train_x = train_data[0]\n",
    "    train_y = train_data[1]\n",
    "    test_x = test_data[0]\n",
    "    test_y = test_data[1]\n",
    "    \n",
    "    model = linear_model.Lasso(alpha=alpha)\n",
    "    wrapped_model = TransformedTargetRegressor(regressor=model, transformer=RobustScaler())\n",
    "    wrapped_model.fit(train_x, train_y)\n",
    "    pred = wrapped_model.predict(test_x)\n",
    "    mse = np.mean((pred-test_y)**2)\n",
    "    \n",
    "    return pred, mse"
   ]
  },
  {
   "cell_type": "code",
   "execution_count": 20,
   "id": "2f5e6b99",
   "metadata": {},
   "outputs": [],
   "source": [
    "def huber(split_data):\n",
    "    split_train_x = split_data[0]\n",
    "    split_train_y = split_data[1]\n",
    "    split_val_x = split_data[2]\n",
    "    split_val_y = split_data[3]\n",
    "    \n",
    "    alphas = np.arange(0.05, 1.01, 0.05)\n",
    "    alpha_mse = []\n",
    "    \n",
    "    for alpha in alphas:                     \n",
    "        transformer = RobustScaler\n",
    "        model = linear_model.HuberRegressor(alpha=alpha)\n",
    "        mse = []\n",
    "        for i in range(len(split_train_x)):\n",
    "            wrapped_model = TransformedTargetRegressor(regressor=model, transformer=RobustScaler())\n",
    "            wrapped_model.fit(split_train_x[i], split_train_y[i])\n",
    "            yhat = wrapped_model.predict(split_val_x[i])\n",
    "            mse.append(np.mean((yhat-split_val_y[i])**2))\n",
    "        alpha_mse.append(np.mean(mse))\n",
    "    a_star = alphas[np.argmin(alpha_mse)]\n",
    "    print('Huber Alpha* = {}'.format(a_star))\n",
    "    print('Huber Validation RMSE = {}'.format(np.sqrt(alpha_mse[np.argmin(alpha_mse)])))\n",
    "    return alpha_mse, a_star\n",
    "\n",
    "def huber_test(train_data, test_data, alpha):\n",
    "    train_x = train_data[0]\n",
    "    train_y = train_data[1]\n",
    "    test_x = test_data[0]\n",
    "    test_y = test_data[1]\n",
    "    \n",
    "    model = linear_model.HuberRegressor(alpha=alpha)\n",
    "    wrapped_model = TransformedTargetRegressor(regressor=model, transformer=RobustScaler())\n",
    "    wrapped_model.fit(train_x, train_y)\n",
    "    pred = wrapped_model.predict(test_x)\n",
    "    mse = np.mean((pred-test_y)**2)\n",
    "    \n",
    "    return pred, mse"
   ]
  },
  {
   "cell_type": "code",
   "execution_count": 21,
   "id": "2b36d7cd",
   "metadata": {},
   "outputs": [],
   "source": [
    "from sklearn.ensemble import RandomForestRegressor\n",
    "\n",
    "def RF_regressor(split_data):\n",
    "    split_train_x = split_data[0]\n",
    "    split_train_y = split_data[1]\n",
    "    split_val_x = split_data[2]\n",
    "    split_val_y = split_data[3]\n",
    "    \n",
    "    estimators = np.arange(70, 130, 10)\n",
    "    estimator_mse = []\n",
    "    \n",
    "    for estimator in estimators:\n",
    "        model = RandomForestRegressor(n_estimators=estimator)\n",
    "        mse = []\n",
    "        model.fit(split_train_x[-1], split_train_y[-1])\n",
    "        yhat = model.predict(split_val_x[-1])\n",
    "        mse.append(np.mean((yhat-split_val_y[-1])**2))\n",
    "        estimator_mse.append(np.mean(mse))\n",
    "    best_est = estimators[np.argmin(estimator_mse)]\n",
    "    print('Random Forest Efficient Estimator = {}'.format(best_est))\n",
    "    print('Random Forest Validation RMSE = {}'.format(np.sqrt(estimator_mse[np.argmin(estimator_mse)])))\n",
    "    return estimator_mse, best_est\n",
    "\n",
    "def RF_regressor_test(train_data, test_data, best_est):\n",
    "    train_x = train_data[0]\n",
    "    train_y = train_data[1]\n",
    "    test_x = test_data[0]\n",
    "    test_y = test_data[1]\n",
    "    \n",
    "    model = RandomForestRegressor(n_estimators=best_est)\n",
    "    model.fit(train_x, train_y)\n",
    "    pred = model.predict(test_x)\n",
    "    mse = np.mean((pred-test_y)**2)\n",
    "    \n",
    "    return pred, mse"
   ]
  },
  {
   "cell_type": "raw",
   "id": "373c2152",
   "metadata": {},
   "source": [
    "import xgboost as xgb\n",
    "\n",
    "def XGBoost(split_data):\n",
    "    split_train_x = split_data[0]\n",
    "    split_train_y = split_data[1]\n",
    "    split_val_x = split_data[2]\n",
    "    split_val_y = split_data[3]\n",
    "    \n",
    "    estimators = np.arange(10, 1000, 10)\n",
    "    estimator_mse = []\n",
    "    \n",
    "    for estimator in estimators:\n",
    "        transformer = RobustScaler\n",
    "        model = xgb.XGBRegressor(n_estimators=estimator, subsample=1.0)\n",
    "        mse = []\n",
    "        \n",
    "        for i in range(len(split_train_x)):\n",
    "            wrapped_model = TransformedTargetRegressor(regressor=model, transformer=RobustScaler())\n",
    "            wrapped_model.fit(split_train_x[i], split_train_y[i])\n",
    "            yhat = wrapped_model.predict(split_val_x[i])\n",
    "            mse.append(np.mean((yhat-split_val_y[i])**2))\n",
    "        estimator_mse.append(np.mean(mse))\n",
    "    best_est = estimators[np.argmin(estimator_mse)]\n",
    "    print('Efficient Estimator = {}'.format(best_est))\n",
    "    return estimator_mse, best_est\n",
    "\n",
    "def XGBoost_test(train_data, test_data, best_est):\n",
    "    train_x = train_data[0]\n",
    "    train_y = train_data[1]\n",
    "    test_x = test_data[0]\n",
    "    test_y = test_data[1]\n",
    "    \n",
    "    model = xgb.XGBRegressor(n_estimators=best_est, subsample=1.0)\n",
    "    model.fit(train_x, train_y)\n",
    "    pred = wrapped_model.predict(test_x)\n",
    "    mse = np.mean((pred-test_y)**2)\n",
    "    \n",
    "    return pred, mse"
   ]
  },
  {
   "cell_type": "code",
   "execution_count": 22,
   "id": "2d86ace9",
   "metadata": {},
   "outputs": [],
   "source": [
    "def classification_models(features, regime_period, freq='daily', pca=False):\n",
    "    if freq == 'daily':\n",
    "        regime = regime_period[0]\n",
    "    elif freq == 'weekly':\n",
    "        regime = regime_period[1]\n",
    "    \n",
    "    df_m = get_raw_data(df_t, freq=freq)\n",
    "    \n",
    "    df_target, df_features = get_final_data(df=df_m,\n",
    "                                            features=features,\n",
    "                                            regime=regime,\n",
    "                                            target=classification,\n",
    "                                            freq=freq,\n",
    "                                            pca=pca)\n",
    "    \n",
    "    split_data, train_data, test_data = get_data_splits(df_target, df_features)\n",
    "    \n",
    "    Hloss, Rh, hinge_lambda = svc_hinge(split_data)\n",
    "    hinge_yhat, hinge_error, hinge_model = svc_hinge_test(train_data, test_data, hinge_lambda)\n",
    "    print(\"SVM Test error rate = \", hinge_error, '\\n')\n",
    "    \n",
    "    Lloss, Rl, log_lambda = logistic(split_data)\n",
    "    log_yhat, log_error, log_model = logistic_test(train_data, test_data, log_lambda)\n",
    "    print(\"Logistic Test error rate = \", log_error, '\\n')\n",
    "    \n",
    "    trees_maxnode_misclas, trees_max_nodes = decision_tree(split_data)\n",
    "    trees_yhat, trees_error, trees_model = decision_tree_test(train_data, test_data, trees_max_nodes)\n",
    "    print(\"Decision Trees Test error rate = \", trees_error, '\\n')\n",
    "    \n",
    "    yhats = [hinge_yhat, log_yhat, trees_yhat]\n",
    "    errors = [hinge_error, log_error, trees_error]\n",
    "    models = [hinge_model, log_model, trees_model]\n",
    "    \n",
    "    return yhats, errors, models"
   ]
  },
  {
   "cell_type": "code",
   "execution_count": 23,
   "id": "aa6d607b",
   "metadata": {},
   "outputs": [],
   "source": [
    "def plot_graph(yhat, test_y):\n",
    "    plt.plot(yhat, label='pred')\n",
    "    plt.plot(test_y, label='true')\n",
    "    plt.legend()\n",
    "    plt.show()"
   ]
  },
  {
   "cell_type": "code",
   "execution_count": 24,
   "id": "3d3fe95d",
   "metadata": {},
   "outputs": [],
   "source": [
    "def regression_models(features, regime_period, target=prices, freq='daily', pca=False):\n",
    "    if freq == 'daily':\n",
    "        regime = regime_period[0]\n",
    "    elif freq == 'weekly':\n",
    "        regime = regime_period[1]\n",
    "    \n",
    "    df_m = get_raw_data(df_t, freq=freq)\n",
    "    \n",
    "    df_target, df_features = get_final_data(df=df_m,\n",
    "                                            features=features,\n",
    "                                            regime=regime,\n",
    "                                            target=target,\n",
    "                                            freq=freq,\n",
    "                                            pca=pca)\n",
    "    \n",
    "    split_data, train_data, test_data = get_data_splits(df_target, df_features)\n",
    "    test_x = test_data[0]\n",
    "    test_y = test_data[1]\n",
    "    \n",
    "    lasso_mse, lasso_alpha = lasso(split_data)\n",
    "    lasso_pred, lasso_mse = lasso_test(train_data, test_data, lasso_alpha)\n",
    "    lasso_rmse = np.sqrt(lasso_mse)\n",
    "    print(\"Lasso Test RMSE = \", lasso_rmse)\n",
    "    plot_graph(lasso_pred, test_y)\n",
    "    \n",
    "    huber_mse, huber_alpha = huber(split_data)\n",
    "    huber_pred, huber_mse = huber_test(train_data, test_data, huber_alpha)\n",
    "    huber_rmse = np.sqrt(huber_mse)\n",
    "    print(\"Huber Test RMSE = \", huber_rmse)\n",
    "    plot_graph(huber_pred, test_y)\n",
    "    \n",
    "    RF_mse, RF_best_est = RF_regressor(split_data)\n",
    "    rf_pred, rf_mse = RF_regressor_test(train_data, test_data, RF_best_est)\n",
    "    rf_rmse = np.sqrt(rf_mse)\n",
    "    print(\"RandomForest Test RMSE = \", rf_rmse)\n",
    "    plot_graph(rf_pred, test_y)\n",
    "    \n",
    "    pred = [lasso_pred, huber_pred, rf_pred]\n",
    "    rmse = [lasso_rmse, huber_rmse, rf_rmse]\n",
    "    \n",
    "    return pred, rmse"
   ]
  },
  {
   "cell_type": "code",
   "execution_count": 25,
   "id": "316da4ea",
   "metadata": {},
   "outputs": [],
   "source": [
    "# Feature Categories by Type\n",
    "fin_indices = ['PX_LAST_DAX', 'PX_LAST_DowJones', 'PX_MID_GT10',\n",
    "           'PX_LAST_HangSeng', 'PX_LAST_Nikkei', 'PX_LAST_SPX',\n",
    "           'PX_LAST_USDEUR']\n",
    "nat_gas = ['PX_LAST_NG1']\n",
    "gdp = ['PX_LAST_China_GDP', 'PX_LAST_Germany_GDP', 'PX_LAST_Japan_GDP',\n",
    "       'PX_LAST_Russia_GDP', 'PX_LAST_US_GDP']\n",
    "oil_prod = ['PX_LAST_Canada_daily_prod', 'PX_LAST_Russia_daily_prod',\n",
    "            'PX_LAST_OPEC_daily_prod', 'PX_LAST_US_daily_prod']\n",
    "freight = ['PX_LAST_Cass_Freight_Rates']\n",
    "inflation = ['PX_LAST_US_Inflation', 'PX_LAST_Europe_Inflation']\n",
    "ind_prod = ['PX_LAST_Europe_IndProd_exConstruction', \n",
    "            'PX_LAST_Russia_Industrial_Production',\n",
    "            'PX_LAST_US_IndProd_Index']"
   ]
  },
  {
   "cell_type": "code",
   "execution_count": 26,
   "id": "c7014702",
   "metadata": {},
   "outputs": [],
   "source": [
    "# Feature Categories by Date Range\n",
    "feat_1992 = ['PX_LAST_DAX', 'PX_LAST_DowJones', 'PX_MID_GT10', \n",
    "             'PX_LAST_HangSeng', 'PX_LAST_Nikkei', 'PX_LAST_SPX', \n",
    "             'PX_LAST_USDEUR', 'PX_LAST_NG1', 'PX_LAST_China_GDP', \n",
    "             'PX_LAST_Germany_GDP', 'PX_LAST_US_GDP', 'PX_LAST_US_daily_prod', \n",
    "             'PX_LAST_Cass_Freight_Rates', 'PX_LAST_US_Inflation', \n",
    "             'PX_LAST_Europe_IndProd_exConstruction', 'PX_LAST_US_IndProd_Index']\n",
    "feat_1996 = feat_1992 + ['PX_LAST_Japan_GDP', 'PX_LAST_Russia_GDP',\n",
    "                         'PX_LAST_Canada_daily_prod', 'PX_LAST_Russia_daily_prod']\n",
    "feat_2000 = feat_1996 + ['PX_LAST_OPEC_daily_prod', 'PX_LAST_Europe_Inflation']\n",
    "feat_2002 = feat_2000 + ['PX_LAST_Russia_Industrial_Production']"
   ]
  },
  {
   "cell_type": "code",
   "execution_count": 27,
   "id": "ea80a06b",
   "metadata": {},
   "outputs": [],
   "source": [
    "reg_92_99 = [[0, '12-30-1999'], [0, '12-29-1999']]\n",
    "reg_00_06 = [['04-03-2000', '12-29-2006'], ['12-14-2000', '12-28-2006']]\n",
    "reg_07_12 = [['01-02-2007', '12-31-2012'], ['01-05-2007', '12-24-2012']]\n",
    "reg_13_20 = [['01-02-2013', '12-31-2020'], ['01-02-2013', '12-31-2020']]\n",
    "no_regime = [[0, 0], [0, 0]]"
   ]
  },
  {
   "cell_type": "markdown",
   "id": "a5fc7bd0",
   "metadata": {},
   "source": [
    "### Implementation"
   ]
  },
  {
   "cell_type": "code",
   "execution_count": 28,
   "id": "7d97060c",
   "metadata": {},
   "outputs": [],
   "source": [
    "df = get_oil_prices()\n",
    "df = get_features(df, sma=True)\n",
    "df_t = df.copy()"
   ]
  },
  {
   "cell_type": "code",
   "execution_count": 35,
   "id": "78c0d9bc",
   "metadata": {},
   "outputs": [],
   "source": [
    "features = feat_2002\n",
    "regime = no_regime[0]\n",
    "pca = False\n",
    "freq = 'daily'\n",
    "\n",
    "df_m = get_raw_data(df_t, freq=freq)\n",
    "\n",
    "df_target, df_features = get_final_data(df=df_m,\n",
    "                                            features=features,\n",
    "                                            regime=regime,\n",
    "                                            target=classification,\n",
    "                                            freq=freq,\n",
    "                                            pca=pca)\n",
    "\n",
    "split_data, train_data, test_data = get_data_splits(df_target, df_features)\n",
    "train_x = train_data[0]\n",
    "train_y = train_data[1]\n",
    "test_x = test_data[0]\n",
    "test_y = test_data[1]\n"
   ]
  },
  {
   "cell_type": "markdown",
   "id": "80e67369",
   "metadata": {},
   "source": [
    "### Classification (up or down)"
   ]
  },
  {
   "cell_type": "markdown",
   "id": "040ae573",
   "metadata": {},
   "source": [
    "#### Overall - daily frequency"
   ]
  },
  {
   "cell_type": "code",
   "execution_count": 36,
   "id": "d72d2086",
   "metadata": {},
   "outputs": [
    {
     "name": "stdout",
     "output_type": "stream",
     "text": [
      "Lambda* = 0.081\n",
      "SVM Validation Error Rate = 0.3415047479912344\n",
      "SVM Test error rate =  0.48787614909508764 \n",
      "\n",
      "Lambda* = 0.6100000000000001\n",
      "Logistic Validation Error Rate = 0.3342804967129291\n",
      "Logistic Test error rate =  0.48455454610744036 \n",
      "\n",
      "Best Max Nodes = 3\n",
      "Decision Tree Validation Error Rate = 0.33359386413440467\n",
      "Decision Trees Test error rate =  0.4902012711864407 \n",
      "\n"
     ]
    }
   ],
   "source": [
    "freq='daily'\n",
    "pca=False\n",
    "features = feat_2002\n",
    "regime = no_regime\n",
    "c_ov_preds, c_ov_errors, c_ov_models = classification_models(features, regime, freq, pca)"
   ]
  },
  {
   "cell_type": "code",
   "execution_count": 37,
   "id": "8d7d90ab",
   "metadata": {},
   "outputs": [
    {
     "name": "stdout",
     "output_type": "stream",
     "text": [
      "0.9226694915254238\n"
     ]
    },
    {
     "data": {
      "image/png": "[encoded data removed]",
      "text/plain": [
       "<Figure size 432x288 with 2 Axes>"
      ]
     },
     "metadata": {
      "needs_background": "light"
     },
     "output_type": "display_data"
    },
    {
     "name": "stdout",
     "output_type": "stream",
     "text": [
      "0.336864406779661\n"
     ]
    },
    {
     "data": {
      "image/png": "[encoded data removed]",
      "text/plain": [
       "<Figure size 432x288 with 2 Axes>"
      ]
     },
     "metadata": {
      "needs_background": "light"
     },
     "output_type": "display_data"
    },
    {
     "name": "stdout",
     "output_type": "stream",
     "text": [
      "0.9247881355932204\n"
     ]
    },
    {
     "data": {
      "image/png": "[encoded data removed]",
      "text/plain": [
       "<Figure size 432x288 with 2 Axes>"
      ]
     },
     "metadata": {
      "needs_background": "light"
     },
     "output_type": "display_data"
    }
   ],
   "source": [
    "from sklearn.metrics import plot_confusion_matrix\n",
    "\n",
    "\n",
    "for m in c_ov_models:\n",
    "    plot_confusion_matrix(m, test_x, test_y, normalize = 'true', labels = [-1,1])\n",
    "    print(m.score(test_x, test_y))\n",
    "    plt.show()"
   ]
  },
  {
   "cell_type": "markdown",
   "id": "89393253",
   "metadata": {},
   "source": [
    "#### Overall - daily - PCA"
   ]
  },
  {
   "cell_type": "code",
   "execution_count": 59,
   "id": "31a94066",
   "metadata": {},
   "outputs": [
    {
     "name": "stdout",
     "output_type": "stream",
     "text": [
      "PCA reduced features from 56 to 19\n",
      "Error = 212.00773930195626\n",
      "Lambda* = 0.061\n",
      "SVM Validation Error Rate = 0.3296932067202337\n",
      "SVM Test error rate =  0.4918620726802643 \n",
      "\n",
      "Lambda* = 0.81\n",
      "Logistic Validation Error Rate = 0.33254200146092033\n",
      "Logistic Test error rate =  0.4918620726802643 \n",
      "\n",
      "Best Max Nodes = 9\n",
      "Decision Tree Validation Error Rate = 0.3773338203067933\n",
      "Decision Trees Test error rate =  0.4931907138753232 \n",
      "\n"
     ]
    }
   ],
   "source": [
    "freq='daily'\n",
    "pca=True\n",
    "features = feat_2002\n",
    "regime = no_regime\n",
    "c_ov_pca_preds, c_ov_pca_errors, c_ov_pca_models = classification_models(features, regime, freq, pca)"
   ]
  },
  {
   "cell_type": "markdown",
   "id": "4e9351c7",
   "metadata": {},
   "source": [
    "#### Overall - weekly frequency"
   ]
  },
  {
   "cell_type": "code",
   "execution_count": 60,
   "id": "00cedc01",
   "metadata": {},
   "outputs": [
    {
     "name": "stdout",
     "output_type": "stream",
     "text": [
      "Lambda* = 0.081\n",
      "SVM Validation Error Rate = 0.3536734693877552\n",
      "SVM Test error rate =  0.48481285518322553 \n",
      "\n",
      "Lambda* = 0.81\n",
      "Logistic Validation Error Rate = 0.3248979591836734\n",
      "Logistic Test error rate =  0.48677248677248675 \n",
      "\n",
      "Best Max Nodes = 3\n",
      "Decision Tree Validation Error Rate = 0.2897959183673469\n",
      "Decision Trees Test error rate =  0.4642367234959828 \n",
      "\n"
     ]
    }
   ],
   "source": [
    "freq='weekly'\n",
    "pca=False\n",
    "features = feat_2002\n",
    "regime = no_regime\n",
    "w_ov_preds, w_ov_errors, w_ov_models = classification_models(features, regime, freq, pca)"
   ]
  },
  {
   "cell_type": "markdown",
   "id": "64c8aa85",
   "metadata": {},
   "source": [
    "#### Overall - weekly PCA"
   ]
  },
  {
   "cell_type": "code",
   "execution_count": 61,
   "id": "c6ecaeec",
   "metadata": {},
   "outputs": [
    {
     "name": "stdout",
     "output_type": "stream",
     "text": [
      "PCA reduced features from 56 to 19\n",
      "Error = 83.62057595815826\n",
      "Lambda* = 0.021\n",
      "SVM Validation Error Rate = 0.3073469387755102\n",
      "SVM Test error rate =  0.4877523025671174 \n",
      "\n",
      "Lambda* = 0.6100000000000001\n",
      "Logistic Validation Error Rate = 0.2987755102040816\n",
      "Logistic Test error rate =  0.48677248677248675 \n",
      "\n",
      "Best Max Nodes = 3\n",
      "Decision Tree Validation Error Rate = 0.33510204081632655\n",
      "Decision Trees Test error rate =  0.47403488144228884 \n",
      "\n"
     ]
    }
   ],
   "source": [
    "freq='weekly'\n",
    "pca=True\n",
    "features = feat_2002\n",
    "regime = no_regime\n",
    "w_ov_pca_preds, w_ov_pca_errors, w_ov_pca_models = classification_models(features, regime, freq, pca)"
   ]
  },
  {
   "cell_type": "markdown",
   "id": "2754722f",
   "metadata": {},
   "source": [
    "#### Regime Based: Frequency Daily"
   ]
  },
  {
   "cell_type": "code",
   "execution_count": 62,
   "id": "a7c296b3",
   "metadata": {},
   "outputs": [],
   "source": [
    "freq1 = 'daily'\n",
    "pca1 = False"
   ]
  },
  {
   "cell_type": "markdown",
   "id": "e2060ff7",
   "metadata": {},
   "source": [
    "Regime 1"
   ]
  },
  {
   "cell_type": "code",
   "execution_count": 63,
   "id": "f007e16c",
   "metadata": {},
   "outputs": [
    {
     "name": "stdout",
     "output_type": "stream",
     "text": [
      "Lambda* = 0.061\n",
      "SVM Validation Error Rate = 0.21183673469387757\n",
      "SVM Test error rate =  0.4702398493484464 \n",
      "\n",
      "Lambda* = 0.81\n",
      "Logistic Validation Error Rate = 0.20622448979591837\n",
      "Logistic Test error rate =  0.46696950312300095 \n",
      "\n",
      "Best Max Nodes = 3\n",
      "Decision Tree Validation Error Rate = 0.16979591836734698\n",
      "Decision Trees Test error rate =  0.4702398493484464 \n",
      "\n"
     ]
    }
   ],
   "source": [
    "features = feat_1992\n",
    "regime = reg_92_99\n",
    "c_r1_preds, c_r1_errors, c_r1_models = classification_models(features, regime, freq1, pca1)"
   ]
  },
  {
   "cell_type": "markdown",
   "id": "a222b3bd",
   "metadata": {},
   "source": [
    "Regime 2"
   ]
  },
  {
   "cell_type": "code",
   "execution_count": 64,
   "id": "b34324f9",
   "metadata": {},
   "outputs": [
    {
     "name": "stdout",
     "output_type": "stream",
     "text": [
      "Lambda* = 0.061\n",
      "SVM Validation Error Rate = 0.2664497041420118\n",
      "SVM Test error rate =  0.4997198977626834 \n",
      "\n",
      "Lambda* = 0.81\n",
      "Logistic Validation Error Rate = 0.2518343195266272\n",
      "Logistic Test error rate =  0.49880956549140437 \n",
      "\n",
      "Best Max Nodes = 3\n",
      "Decision Tree Validation Error Rate = 0.21076923076923076\n",
      "Decision Trees Test error rate =  0.4996498722033542 \n",
      "\n"
     ]
    }
   ],
   "source": [
    "features = feat_2000\n",
    "regime = reg_00_06\n",
    "c_r2_preds, c_r2_errors, c_r2_models = classification_models(features, regime, freq1, pca1)"
   ]
  },
  {
   "cell_type": "markdown",
   "id": "267aeaba",
   "metadata": {},
   "source": [
    "Regime 3"
   ]
  },
  {
   "cell_type": "code",
   "execution_count": 65,
   "id": "f0429673",
   "metadata": {},
   "outputs": [
    {
     "name": "stdout",
     "output_type": "stream",
     "text": [
      "Lambda* = 0.081\n",
      "SVM Validation Error Rate = 0.23719008264462807\n",
      "SVM Test error rate =  0.48767550022328965 \n",
      "\n",
      "Lambda* = 0.81\n",
      "Logistic Validation Error Rate = 0.17057851239669422\n",
      "Logistic Test error rate =  0.4880131577514187 \n",
      "\n",
      "Best Max Nodes = 3\n",
      "Decision Tree Validation Error Rate = 0.16115702479338842\n",
      "Decision Trees Test error rate =  0.4974675685390321 \n",
      "\n"
     ]
    }
   ],
   "source": [
    "features = feat_2002\n",
    "regime = reg_07_12\n",
    "c_r3_preds, c_r3_errors, c_r3_models = classification_models(features, regime, freq1, pca1)"
   ]
  },
  {
   "cell_type": "markdown",
   "id": "6ba2020e",
   "metadata": {},
   "source": [
    "Regime 4"
   ]
  },
  {
   "cell_type": "code",
   "execution_count": 66,
   "id": "de4afd38",
   "metadata": {},
   "outputs": [
    {
     "name": "stdout",
     "output_type": "stream",
     "text": [
      "Lambda* = 0.041\n",
      "SVM Validation Error Rate = 0.2703111111111111\n",
      "SVM Test error rate =  0.49758941930558037 \n",
      "\n",
      "Lambda* = 0.81\n",
      "Logistic Validation Error Rate = 0.21066666666666667\n",
      "Logistic Test error rate =  0.4961609270422206 \n",
      "\n",
      "Best Max Nodes = 3\n",
      "Decision Tree Validation Error Rate = 0.1836888888888889\n",
      "Decision Trees Test error rate =  0.49830366543726023 \n",
      "\n"
     ]
    }
   ],
   "source": [
    "features = feat_2002\n",
    "regime = reg_13_20\n",
    "c_r4_preds, c_r4_errors, c_r4_models = classification_models(features, regime, freq1, pca1)"
   ]
  },
  {
   "cell_type": "markdown",
   "id": "e72de7b3",
   "metadata": {},
   "source": [
    "**With PCA**"
   ]
  },
  {
   "cell_type": "markdown",
   "id": "b0668cb4",
   "metadata": {},
   "source": [
    "#### Regime Based: Frequency Daily, PCA"
   ]
  },
  {
   "cell_type": "code",
   "execution_count": 67,
   "id": "203c9448",
   "metadata": {},
   "outputs": [],
   "source": [
    "pca2=True"
   ]
  },
  {
   "cell_type": "markdown",
   "id": "8ea5583c",
   "metadata": {},
   "source": [
    "Regime 1"
   ]
  },
  {
   "cell_type": "code",
   "execution_count": 68,
   "id": "55bd3e1d",
   "metadata": {},
   "outputs": [
    {
     "name": "stdout",
     "output_type": "stream",
     "text": [
      "PCA reduced features from 44 to 15\n",
      "Error = 141.25728015069194\n",
      "Lambda* = 0.061\n",
      "SVM Validation Error Rate = 0.16969387755102042\n",
      "SVM Test error rate =  0.4708939185935355 \n",
      "\n",
      "Lambda* = 0.21000000000000002\n",
      "Logistic Validation Error Rate = 0.17520408163265305\n",
      "Logistic Test error rate =  0.46696950312300095 \n",
      "\n",
      "Best Max Nodes = 17\n",
      "Decision Tree Validation Error Rate = 0.2944897959183674\n",
      "Decision Trees Test error rate =  0.46042881067211006 \n",
      "\n"
     ]
    }
   ],
   "source": [
    "features = feat_1992\n",
    "regime = reg_92_99\n",
    "c_r1_pca_preds, c_r1_pca_errors, c_r1_pca_models = classification_models(features, regime, freq1, pca2)"
   ]
  },
  {
   "cell_type": "markdown",
   "id": "dbc43614",
   "metadata": {},
   "source": [
    "Regime 2"
   ]
  },
  {
   "cell_type": "code",
   "execution_count": 69,
   "id": "accaf7ab",
   "metadata": {},
   "outputs": [
    {
     "name": "stdout",
     "output_type": "stream",
     "text": [
      "PCA reduced features from 54 to 18\n",
      "Error = 137.1266496927308\n",
      "Lambda* = 0.061\n",
      "SVM Validation Error Rate = 0.22775147928994083\n",
      "SVM Test error rate =  0.4997198977626834 \n",
      "\n",
      "Lambda* = 0.81\n",
      "Logistic Validation Error Rate = 0.22443786982248523\n",
      "Logistic Test error rate =  0.4997198977626834 \n",
      "\n",
      "Best Max Nodes = 9\n",
      "Decision Tree Validation Error Rate = 0.28857988165680476\n",
      "Decision Trees Test error rate =  0.5000700255593291 \n",
      "\n"
     ]
    }
   ],
   "source": [
    "features = feat_2000\n",
    "regime = reg_00_06\n",
    "c_r2_pca_preds, c_r2_pca_errors, c_r2_pca_models = classification_models(features, regime, freq1, pca2)"
   ]
  },
  {
   "cell_type": "markdown",
   "id": "8adbb0fb",
   "metadata": {},
   "source": [
    "Regime 3"
   ]
  },
  {
   "cell_type": "code",
   "execution_count": 70,
   "id": "678bfb73",
   "metadata": {},
   "outputs": [
    {
     "name": "stdout",
     "output_type": "stream",
     "text": [
      "PCA reduced features from 56 to 19\n",
      "Error = 108.3456757374493\n",
      "Lambda* = 0.061\n",
      "SVM Validation Error Rate = 0.16950413223140498\n",
      "SVM Test error rate =  0.4951039658421288 \n",
      "\n",
      "Lambda* = 0.6100000000000001\n",
      "Logistic Validation Error Rate = 0.16371900826446278\n",
      "Logistic Test error rate =  0.49375333572961255 \n",
      "\n",
      "Best Max Nodes = 15\n",
      "Decision Tree Validation Error Rate = 0.2803305785123967\n",
      "Decision Trees Test error rate =  0.49409099325774164 \n",
      "\n"
     ]
    }
   ],
   "source": [
    "features = feat_2002\n",
    "regime = reg_07_12\n",
    "c_r3_pca_preds, c_r3_pca_errors, c_r3_pca_models = classification_models(features, regime, freq1, pca2)"
   ]
  },
  {
   "cell_type": "markdown",
   "id": "6c654a21",
   "metadata": {},
   "source": [
    "Regime 4"
   ]
  },
  {
   "cell_type": "code",
   "execution_count": 71,
   "id": "2fd64e4c",
   "metadata": {},
   "outputs": [
    {
     "name": "stdout",
     "output_type": "stream",
     "text": [
      "PCA reduced features from 56 to 19\n",
      "Error = 129.6539360759682\n",
      "Lambda* = 0.081\n",
      "SVM Validation Error Rate = 0.18093333333333333\n",
      "SVM Test error rate =  0.4977679808385003 \n",
      "\n",
      "Lambda* = 0.81\n",
      "Logistic Validation Error Rate = 0.1708888888888889\n",
      "Logistic Test error rate =  0.49687517317390045 \n",
      "\n",
      "Best Max Nodes = 10\n",
      "Decision Tree Validation Error Rate = 0.2612888888888889\n",
      "Decision Trees Test error rate =  0.4993750346347801 \n",
      "\n"
     ]
    }
   ],
   "source": [
    "features = feat_2002\n",
    "regime = reg_13_20\n",
    "c_r4_pca_preds, c_r4_pca_errors, c_r4_pca_models = classification_models(features, regime, freq1, pca2)"
   ]
  },
  {
   "cell_type": "markdown",
   "id": "39aa07a2",
   "metadata": {},
   "source": [
    "### Weekly"
   ]
  },
  {
   "cell_type": "markdown",
   "id": "f774fd64",
   "metadata": {},
   "source": [
    "#### Regime Based: Frequency Weekly"
   ]
  },
  {
   "cell_type": "code",
   "execution_count": 72,
   "id": "46ce8095",
   "metadata": {},
   "outputs": [],
   "source": [
    "freq2='weekly'\n",
    "pca1=False"
   ]
  },
  {
   "cell_type": "markdown",
   "id": "82be5ad6",
   "metadata": {},
   "source": [
    "Regime 1"
   ]
  },
  {
   "cell_type": "code",
   "execution_count": 73,
   "id": "39b116ec",
   "metadata": {},
   "outputs": [
    {
     "name": "stdout",
     "output_type": "stream",
     "text": [
      "Lambda* = 0.021\n",
      "SVM Validation Error Rate = 0.245\n",
      "SVM Test error rate =  0.47128888888888887 \n",
      "\n",
      "Lambda* = 0.81\n",
      "Logistic Validation Error Rate = 0.16\n",
      "Logistic Test error rate =  0.44764444444444446 \n",
      "\n",
      "Best Max Nodes = 3\n",
      "Decision Tree Validation Error Rate = 0.14\n",
      "Decision Trees Test error rate =  0.4679111111111111 \n",
      "\n"
     ]
    }
   ],
   "source": [
    "features = feat_1992\n",
    "regime = reg_92_99\n",
    "w_c_r1_preds, w_c_r1_errors, w_c_r1_models = classification_models(features, regime, freq2, pca1)"
   ]
  },
  {
   "cell_type": "markdown",
   "id": "ad296e05",
   "metadata": {},
   "source": [
    "Regime 2"
   ]
  },
  {
   "cell_type": "code",
   "execution_count": 74,
   "id": "fb0318e0",
   "metadata": {},
   "outputs": [
    {
     "name": "stdout",
     "output_type": "stream",
     "text": [
      "Lambda* = 0.001\n",
      "SVM Validation Error Rate = 0.33\n",
      "SVM Test error rate =  0.499865627519484 \n",
      "\n",
      "Lambda* = 0.81\n",
      "Logistic Validation Error Rate = 0.21\n",
      "Logistic Test error rate =  0.49932813759742006 \n",
      "\n",
      "Best Max Nodes = 3\n",
      "Decision Tree Validation Error Rate = 0.215\n",
      "Decision Trees Test error rate =  0.49905939263638804 \n",
      "\n"
     ]
    }
   ],
   "source": [
    "features = feat_2000\n",
    "regime = reg_00_06\n",
    "w_c_r2_preds, w_c_r2_errors, w_c_r2_models = classification_models(features, regime, freq2, pca1)"
   ]
  },
  {
   "cell_type": "markdown",
   "id": "e61e9915",
   "metadata": {},
   "source": [
    "Regime 3"
   ]
  },
  {
   "cell_type": "code",
   "execution_count": 75,
   "id": "01001754",
   "metadata": {},
   "outputs": [
    {
     "name": "stdout",
     "output_type": "stream",
     "text": [
      "Lambda* = 0.061\n",
      "SVM Validation Error Rate = 0.25\n",
      "SVM Test error rate =  0.4955657081429723 \n",
      "\n",
      "Lambda* = 0.81\n",
      "Logistic Validation Error Rate = 0.22\n",
      "Logistic Test error rate =  0.49637194302606824 \n",
      "\n",
      "Best Max Nodes = 5\n",
      "Decision Tree Validation Error Rate = 0.195\n",
      "Decision Trees Test error rate =  0.499596882558452 \n",
      "\n"
     ]
    }
   ],
   "source": [
    "features = feat_2002\n",
    "regime = reg_07_12\n",
    "w_c_r3_preds, w_c_r3_errors, w_c_r3_models = classification_models(features, regime, freq2, pca1)"
   ]
  },
  {
   "cell_type": "markdown",
   "id": "ac62795d",
   "metadata": {},
   "source": [
    "Regime 4"
   ]
  },
  {
   "cell_type": "code",
   "execution_count": 76,
   "id": "1768c881",
   "metadata": {},
   "outputs": [
    {
     "name": "stdout",
     "output_type": "stream",
     "text": [
      "Lambda* = 0.081\n",
      "SVM Validation Error Rate = 0.3188888888888889\n",
      "SVM Test error rate =  0.4996189605243103 \n",
      "\n",
      "Lambda* = 0.81\n",
      "Logistic Validation Error Rate = 0.26555555555555554\n",
      "Logistic Test error rate =  0.500076207895138 \n",
      "\n",
      "Best Max Nodes = 3\n",
      "Decision Tree Validation Error Rate = 0.19555555555555557\n",
      "Decision Trees Test error rate =  0.4991617131534827 \n",
      "\n"
     ]
    }
   ],
   "source": [
    "features = feat_2002\n",
    "regime = reg_13_20\n",
    "w_c_r4_preds, w_c_r4_errors, w_c_r4_models = classification_models(features, regime, freq2, pca1)"
   ]
  },
  {
   "cell_type": "markdown",
   "id": "dbf6d57d",
   "metadata": {},
   "source": [
    "**With PCA**"
   ]
  },
  {
   "cell_type": "markdown",
   "id": "544bb1ab",
   "metadata": {},
   "source": [
    "#### Regime Based: Frequency Weekly, PCA"
   ]
  },
  {
   "cell_type": "code",
   "execution_count": 77,
   "id": "5e096977",
   "metadata": {},
   "outputs": [],
   "source": [
    "pca2=True"
   ]
  },
  {
   "cell_type": "markdown",
   "id": "59bc135b",
   "metadata": {},
   "source": [
    "Regime 1"
   ]
  },
  {
   "cell_type": "code",
   "execution_count": 78,
   "id": "5c4a1829",
   "metadata": {},
   "outputs": [
    {
     "name": "stdout",
     "output_type": "stream",
     "text": [
      "PCA reduced features from 44 to 15\n",
      "Error = 53.96558547677733\n",
      "Lambda* = 0.021\n",
      "SVM Validation Error Rate = 0.14\n",
      "SVM Test error rate =  0.4679111111111111 \n",
      "\n",
      "Lambda* = 0.6100000000000001\n",
      "Logistic Validation Error Rate = 0.16\n",
      "Logistic Test error rate =  0.46115555555555554 \n",
      "\n",
      "Best Max Nodes = 5\n",
      "Decision Tree Validation Error Rate = 0.26\n",
      "Decision Trees Test error rate =  0.5050666666666667 \n",
      "\n"
     ]
    }
   ],
   "source": [
    "features = feat_1992\n",
    "regime = reg_92_99\n",
    "w_c_r1_pca_preds, w_c_r1_pca_errors, w_c_r1_pca_models = classification_models(features, regime, freq2, pca2)"
   ]
  },
  {
   "cell_type": "markdown",
   "id": "ceebf86b",
   "metadata": {},
   "source": [
    "Regime 2"
   ]
  },
  {
   "cell_type": "code",
   "execution_count": 79,
   "id": "3e7a3393",
   "metadata": {},
   "outputs": [
    {
     "name": "stdout",
     "output_type": "stream",
     "text": [
      "PCA reduced features from 54 to 18\n",
      "Error = 50.65596726349321\n",
      "Lambda* = 0.081\n",
      "SVM Validation Error Rate = 0.23\n",
      "SVM Test error rate =  0.500134372480516 \n",
      "\n",
      "Lambda* = 0.6100000000000001\n",
      "Logistic Validation Error Rate = 0.22\n",
      "Logistic Test error rate =  0.499865627519484 \n",
      "\n",
      "Best Max Nodes = 6\n",
      "Decision Tree Validation Error Rate = 0.295\n",
      "Decision Trees Test error rate =  0.500134372480516 \n",
      "\n"
     ]
    }
   ],
   "source": [
    "features = feat_2000\n",
    "regime = reg_00_06\n",
    "w_c_r2_pca_preds, w_c_r2_pca_errors, w_c_r2_pca_models = classification_models(features, regime, freq2, pca2)"
   ]
  },
  {
   "cell_type": "markdown",
   "id": "79de2175",
   "metadata": {},
   "source": [
    "Regime 3"
   ]
  },
  {
   "cell_type": "code",
   "execution_count": 80,
   "id": "0cbeb27c",
   "metadata": {},
   "outputs": [
    {
     "name": "stdout",
     "output_type": "stream",
     "text": [
      "PCA reduced features from 56 to 19\n",
      "Error = 42.66148542257306\n",
      "Lambda* = 0.081\n",
      "SVM Validation Error Rate = 0.245\n",
      "SVM Test error rate =  0.4971781779091642 \n",
      "\n",
      "Lambda* = 0.6100000000000001\n",
      "Logistic Validation Error Rate = 0.215\n",
      "Logistic Test error rate =  0.4955657081429723 \n",
      "\n",
      "Best Max Nodes = 6\n",
      "Decision Tree Validation Error Rate = 0.25\n",
      "Decision Trees Test error rate =  0.4987906476753561 \n",
      "\n"
     ]
    }
   ],
   "source": [
    "features = feat_2002\n",
    "regime = reg_07_12\n",
    "w_c_r3_pca_preds, w_c_r3_pca_errors, w_c_r3_pca_models = classification_models(features, regime, freq2, pca2)"
   ]
  },
  {
   "cell_type": "markdown",
   "id": "e9cca803",
   "metadata": {},
   "source": [
    "Regime 4"
   ]
  },
  {
   "cell_type": "code",
   "execution_count": 81,
   "id": "7271fc96",
   "metadata": {},
   "outputs": [
    {
     "name": "stdout",
     "output_type": "stream",
     "text": [
      "PCA reduced features from 56 to 19\n",
      "Error = 51.74888247429864\n",
      "Lambda* = 0.041\n",
      "SVM Validation Error Rate = 0.20777777777777778\n",
      "SVM Test error rate =  0.500076207895138 \n",
      "\n",
      "Lambda* = 0.6100000000000001\n",
      "Logistic Validation Error Rate = 0.19444444444444448\n",
      "Logistic Test error rate =  0.4996189605243103 \n",
      "\n",
      "Best Max Nodes = 3\n",
      "Decision Tree Validation Error Rate = 0.27555555555555555\n",
      "Decision Trees Test error rate =  0.501143118427069 \n",
      "\n"
     ]
    }
   ],
   "source": [
    "features = feat_2002\n",
    "regime = reg_13_20\n",
    "w_c_r4_pca_preds, w_c_r4_pca_errors, w_c_r4_pca_models = classification_models(features, regime, freq2, pca2)"
   ]
  },
  {
   "cell_type": "code",
   "execution_count": null,
   "id": "fad10d21",
   "metadata": {},
   "outputs": [],
   "source": []
  }
 ],
 "metadata": {
  "kernelspec": {
   "display_name": "Python 3 (ipykernel)",
   "language": "python",
   "name": "python3"
  },
  "language_info": {
   "codemirror_mode": {
    "name": "ipython",
    "version": 3
   },
   "file_extension": ".py",
   "mimetype": "text/x-python",
   "name": "python",
   "nbconvert_exporter": "python",
   "pygments_lexer": "ipython3",
   "version": "3.8.8"
  }
 },
 "nbformat": 4,
 "nbformat_minor": 5
}
